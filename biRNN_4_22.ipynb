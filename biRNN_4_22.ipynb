{
 "cells": [
  {
   "cell_type": "code",
   "execution_count": 1,
   "metadata": {},
   "outputs": [
    {
     "name": "stdout",
     "output_type": "stream",
     "text": [
      "WARNING:tensorflow:From /usr/local/lib/python2.7/dist-packages/tensorflow/contrib/learn/python/learn/datasets/base.py:198: retry (from tensorflow.contrib.learn.python.learn.datasets.base) is deprecated and will be removed in a future version.\n",
      "Instructions for updating:\n",
      "Use the retry module or similar alternatives.\n"
     ]
    }
   ],
   "source": [
    "import tensorflow as tf\n",
    "from tensorflow.contrib import rnn\n",
    "import numpy as np\n",
    "import pandas as pd\n",
    "import pickle\n",
    "import matplotlib.pyplot as plt"
   ]
  },
  {
   "cell_type": "code",
   "execution_count": 2,
   "metadata": {},
   "outputs": [],
   "source": [
    "%matplotlib inline"
   ]
  },
  {
   "cell_type": "code",
   "execution_count": 265,
   "metadata": {},
   "outputs": [],
   "source": [
    "# # classification:  3 labels one hot, 5 features (gene)\n",
    "# train_data = pickle.load( open( \"../train_data_G3.p\", \"rb\" ) )\n",
    "# train_labels = pickle.load( open( \"../train_labels_G3.p\", \"rb\" ) )\n",
    "# test_data = pickle.load( open( \"../test_data_G3.p\", \"rb\" ) )\n",
    "# test_labels = pickle.load( open( \"../test_labels_G3.p\", \"rb\" ) )\n",
    "# val_data = pickle.load( open( \"../val_data_G3.p\", \"rb\" ) )\n",
    "# val_labels = pickle.load( open( \"../val_labels_G3.p\", \"rb\" ) )"
   ]
  },
  {
   "cell_type": "code",
   "execution_count": 266,
   "metadata": {},
   "outputs": [],
   "source": [
    "# # classification:  21 labels one hot, 5 features (gene)\n",
    "# train_data = pickle.load( open( \"../train_data_G21.p\", \"rb\" ) )\n",
    "# train_labels = pickle.load( open( \"../train_labels_G21.p\", \"rb\" ) )\n",
    "# test_data = pickle.load( open( \"../test_data_G21.p\", \"rb\" ) )\n",
    "# test_labels = pickle.load( open( \"../test_labels_G21.p\", \"rb\" ) )\n",
    "# val_data = pickle.load( open( \"../val_data_G21.p\", \"rb\" ) )\n",
    "# val_labels = pickle.load( open( \"../val_labels_G21.p\", \"rb\" ) )"
   ]
  },
  {
   "cell_type": "code",
   "execution_count": 3,
   "metadata": {},
   "outputs": [],
   "source": [
    "# classification:  3 labels one hot, 4 features (no gene)\n",
    "train_data = pickle.load( open( \"../train_data_N3.p\", \"rb\" ) )\n",
    "train_labels = pickle.load( open( \"../train_labels_N3.p\", \"rb\" ) )\n",
    "test_data = pickle.load( open( \"../test_data_N3.p\", \"rb\" ) )\n",
    "test_labels = pickle.load( open( \"../test_labels_N3.p\", \"rb\" ) )\n",
    "val_data = pickle.load( open( \"../val_data_N3.p\", \"rb\" ) )\n",
    "val_labels = pickle.load( open( \"../val_labels_N3.p\", \"rb\" ) )"
   ]
  },
  {
   "cell_type": "code",
   "execution_count": 45,
   "metadata": {},
   "outputs": [],
   "source": [
    "# # classification:  21 labels one hot, 4 features (no gene)\n",
    "# train_data = pickle.load( open( \"../train_data_N21.p\", \"rb\" ) )\n",
    "# train_labels = pickle.load( open( \"../train_labels_N21.p\", \"rb\" ) )\n",
    "# test_data = pickle.load( open( \"../test_data_N21.p\", \"rb\" ) )\n",
    "# test_labels = pickle.load( open( \"../test_labels_N21.p\", \"rb\" ) )\n",
    "# val_data = pickle.load( open( \"../val_data_N21.p\", \"rb\" ) )\n",
    "# val_labels = pickle.load( open( \"../val_labels_N21.p\", \"rb\" ) )\n"
   ]
  },
  {
   "cell_type": "code",
   "execution_count": 269,
   "metadata": {},
   "outputs": [],
   "source": [
    "# # get subset of 10 samples\n",
    "# subset_train_data = train_data[0:1000]\n",
    "# subset_train_labels = train_labels[0:1000]"
   ]
  },
  {
   "cell_type": "code",
   "execution_count": null,
   "metadata": {},
   "outputs": [],
   "source": []
  },
  {
   "cell_type": "code",
   "execution_count": 4,
   "metadata": {},
   "outputs": [],
   "source": [
    "G = \"NG\" # or \"NG\"\n",
    "forget_b = 1\n",
    "# weight_mean = 1\n",
    "# bias_mean = 0.01\n",
    "val_step = 100000"
   ]
  },
  {
   "cell_type": "code",
   "execution_count": 5,
   "metadata": {},
   "outputs": [],
   "source": [
    "# Training Parameters\n",
    "# learning_rate = 0.001 # optimize this\n",
    "learning_rate = 0.001\n",
    "training_steps = 1000000\n",
    "batch_size = 1 # 128\n",
    "display_step = 5000"
   ]
  },
  {
   "cell_type": "code",
   "execution_count": 6,
   "metadata": {},
   "outputs": [],
   "source": [
    "# Network Parameters\n",
    "num_input = 4\n",
    "    # 28 # MNIST data input (img shape: 28*28)\n",
    "timesteps = 23\n",
    "    # 28 # timesteps\n",
    "num_hidden = 64 # ?\n",
    "    # 10 # hidden layer num of features\n",
    "num_classes = 3 # figure out how to do regression\n",
    "    # 10 # MNIST total classes (0-9 digits)"
   ]
  },
  {
   "cell_type": "code",
   "execution_count": 7,
   "metadata": {},
   "outputs": [
    {
     "name": "stdout",
     "output_type": "stream",
     "text": [
      "WARNING:tensorflow:From <ipython-input-7-dcc0080e1621>:63: softmax_cross_entropy_with_logits (from tensorflow.python.ops.nn_ops) is deprecated and will be removed in a future version.\n",
      "Instructions for updating:\n",
      "\n",
      "Future major versions of TensorFlow will allow gradients to flow\n",
      "into the labels input on backprop by default.\n",
      "\n",
      "See tf.nn.softmax_cross_entropy_with_logits_v2.\n",
      "\n"
     ]
    }
   ],
   "source": [
    "#this resets the graph - re-run tensor-flow specific things after it\n",
    "tf.reset_default_graph() \n",
    "\n",
    "# tf Graph input\n",
    "X = tf.placeholder(\"float\", [None, timesteps, num_input])\n",
    "Y = tf.placeholder(\"float\", [None, num_classes])\n",
    "\n",
    "# Define weights\n",
    "weights = {\n",
    "    # Hidden layer weights => 2*n_hidden because of forward + backward cells\n",
    "    'out': tf.get_variable(\"my_int_variable\", [2*num_hidden, num_classes],\n",
    "  initializer=tf.glorot_uniform_initializer(seed = 23))\n",
    "#     tf.Variable(tf.random_normal([2*num_hidden, num_classes]))\n",
    "}\n",
    "biases = {\n",
    "    'out': tf.Variable(tf.random_normal([num_classes]))\n",
    "}\n",
    "\n",
    "\n",
    "\n",
    "\n",
    "def BiRNN(x, weights, biases):\n",
    "\n",
    "    # Prepare data shape to match `rnn` function requirements\n",
    "    # Current data input shape: (batch_size, timesteps, n_input)\n",
    "    # Required shape: 'timesteps' tensors list of shape (batch_size, num_input)\n",
    "\n",
    "    # Unstack to get a list of 'timesteps' tensors of shape (batch_size, num_input)\n",
    "    x = tf.unstack(x, timesteps, 1)\n",
    "\n",
    "    # Define lstm cells with tensorflow\n",
    "    # Forward direction cell\n",
    "    lstm_fw_cell = rnn.BasicLSTMCell(num_hidden, forget_bias=forget_b)\n",
    "    # Backward direction cell\n",
    "    lstm_bw_cell = rnn.BasicLSTMCell(num_hidden, forget_bias=forget_b)\n",
    "\n",
    "    # Get lstm cell output\n",
    "    try:\n",
    "        outputs, _, _ = rnn.static_bidirectional_rnn(lstm_fw_cell, lstm_bw_cell, x,\n",
    "                                              dtype=tf.float32)\n",
    "    except Exception: # Old TensorFlow version only returns outputs not states\n",
    "        outputs = rnn.static_bidirectional_rnn(lstm_fw_cell, lstm_bw_cell, x,\n",
    "                                        dtype=tf.float32)\n",
    "\n",
    "    # Linear activation, using rnn inner loop last output then sigmoid result to get output in range [0,1]\n",
    "\n",
    "    # no sigmoid\n",
    "#     print(len(outputs))\n",
    "#     print(outputs[-1])\n",
    "#     1/0\n",
    "    return tf.matmul(outputs[-1], weights['out']) + biases['out']\n",
    "    \n",
    "    # sigmoid\n",
    "#     return tf.nn.sigmoid(tf.matmul(outputs[-1], weights['out']) + biases['out'])\n",
    "\n",
    "\n",
    "\n",
    "\n",
    "prediction = BiRNN(X, weights, biases)\n",
    "\n",
    "\n",
    "# Define loss and optimizer\n",
    "loss_op = tf.reduce_mean(tf.nn.softmax_cross_entropy_with_logits(logits=prediction, labels=Y))\n",
    "# loss_op = tf.reduce_mean(tf.losses.mean_squared_error(labels=Y, predictions=prediction))\n",
    "\n",
    "# try reduce mean sq without using built in mse fn\n",
    "# loss_op = tf.reduce_mean(tf.square(Y - prediction))\n",
    "\n",
    "\n",
    "# optimizer = tf.train.GradientDescentOptimizer(learning_rate=learning_rate)\n",
    "optimizer = tf.train.AdamOptimizer(learning_rate=learning_rate)  # switch to adam optimizer\n",
    "train_op = optimizer.minimize(loss_op)\n",
    "\n",
    "# Evaluate model (with test logits, for dropout to be disabled)\n",
    "# prediction = tf.nn.softmax(prediction)\n",
    "prediction = tf.argmax(tf.nn.softmax(prediction), 1)\n",
    "\n",
    "\n",
    "# correct_pred = tf.equal(tf.argmax(prediction, 1), tf.argmax(Y, 1))\n",
    "correct_pred = tf.equal(prediction, tf.argmax(Y, 1))\n",
    "\n",
    "accuracy = tf.reduce_mean(tf.cast(correct_pred, tf.float32))\n",
    "# accuracy = tf.reduce_mean(tf.losses.mean_squared_error(Y, prediction))\n",
    "# accuracy = tf.reduce_mean(abs(Y-prediction))\n",
    "\n",
    "# Initialize the variables (i.e. assign their default value)\n",
    "init = tf.global_variables_initializer()"
   ]
  },
  {
   "cell_type": "code",
   "execution_count": null,
   "metadata": {},
   "outputs": [],
   "source": []
  },
  {
   "cell_type": "code",
   "execution_count": null,
   "metadata": {},
   "outputs": [],
   "source": []
  },
  {
   "cell_type": "code",
   "execution_count": null,
   "metadata": {},
   "outputs": [],
   "source": []
  },
  {
   "cell_type": "code",
   "execution_count": null,
   "metadata": {},
   "outputs": [],
   "source": []
  },
  {
   "cell_type": "code",
   "execution_count": null,
   "metadata": {},
   "outputs": [],
   "source": []
  },
  {
   "cell_type": "code",
   "execution_count": 8,
   "metadata": {},
   "outputs": [],
   "source": [
    "def get_batch(batch_size, x, y):\n",
    "    i = np.random.randint(0,x.shape[0], size=(batch_size))\n",
    "    return np.array(x[i]), np.array(y[i])"
   ]
  },
  {
   "cell_type": "code",
   "execution_count": null,
   "metadata": {
    "scrolled": true
   },
   "outputs": [
    {
     "name": "stdout",
     "output_type": "stream",
     "text": [
      "Step 1, Minibatch Loss= 0.7431, Validation Loss= 1.067\n",
      "Step 100000, Minibatch Loss= 1.0651, Validation Loss= 0.936\n",
      "Step 200000, Minibatch Loss= 0.4111, Validation Loss= 0.910\n",
      "Step 300000, Minibatch Loss= 0.4516, Validation Loss= 0.910\n",
      "Step 400000, Minibatch Loss= 0.8561, Validation Loss= 0.915\n",
      "Step 500000, Minibatch Loss= 0.4646, Validation Loss= 0.926\n",
      "Step 600000, Minibatch Loss= 0.5012, Validation Loss= 0.925\n"
     ]
    }
   ],
   "source": [
    "# train_data = subset_train_data\n",
    "# train_labels = subset_train_labels\n",
    "# val_data = subset_train_data\n",
    "# val_labels = subset_train_labels\n",
    "\n",
    "\n",
    "# Start training\n",
    "with tf.Session() as sess:\n",
    "\n",
    "    # Run the initializer\n",
    "    sess.run(init)\n",
    "    \n",
    "    # things to save during display step + val step\n",
    "    train_losses = []\n",
    "    val_losses = []\n",
    "    \n",
    "    \n",
    "    for step in range(1, training_steps+1):\n",
    "        batch_x, batch_y = get_batch(batch_size, train_data, train_labels)\n",
    "        # Reshape data to get 28 seq of 28 elements\n",
    "        \n",
    "        \n",
    "        # with regression maybe uncomment this??\n",
    "#         batch_x = batch_x.reshape((batch_size, timesteps, num_input))\n",
    "#         batch_y = batch_y.reshape((batch_size, num_classes))\n",
    "        \n",
    "    \n",
    "        # Run optimization op (backprop) in every training step\n",
    "        sess.run(train_op, feed_dict={X: batch_x, Y: batch_y})\n",
    "        \n",
    "        \n",
    "        # in display step, clac train_losses\n",
    "        if step % display_step == 0 or step == 1:\n",
    "            t_loss = sess.run(loss_op, feed_dict={X: batch_x, Y: batch_y})\n",
    "            train_losses.append(t_loss)\n",
    "        \n",
    "        # in val step, calc val_losses\n",
    "        if step % val_step == 0 or step == 1:\n",
    "            vl_temp = []\n",
    "            for i in range(val_labels.shape[0]/batch_size):\n",
    "#                 val_labels = val_labels.reshape((val_labels.shape[0], num_classes)) # < don't need this??\n",
    "\n",
    "                x = val_data[i*batch_size: i*batch_size + batch_size].reshape((batch_size,timesteps, num_input))\n",
    "                y = val_labels[i*batch_size:i*batch_size + batch_size].reshape((batch_size,num_classes))\n",
    "\n",
    "                vl_temp.append(sess.run(loss_op, feed_dict={X: x, Y:y}))\n",
    "            v_loss = np.mean(vl_temp)\n",
    "            val_losses.append(v_loss)\n",
    "\n",
    "            print(\"Step \" + str(step) + \", Minibatch Loss= \" + \\\n",
    "                  \"{:.4f}\".format(t_loss) + \", Validation Loss= \" + \\\n",
    "                     \"{:.3f}\".format(v_loss))\n",
    "        \n",
    "    print(\"Optimization Finished!\")\n",
    "\n",
    "    #######################################################################################################\n",
    "    # Calculate accuracy and predictions for validation set\n",
    "    val_preds = []\n",
    "    val_accs_final = []\n",
    "    val_losses_final = []\n",
    "\n",
    "    for i in range(val_labels.shape[0]/batch_size):\n",
    "#         val_labels = val_labels.reshape((val_labels.shape[0], num_classes)) # < don't need this??\n",
    "        x = val_data[i*batch_size: i*batch_size + batch_size].reshape((batch_size,timesteps, num_input))\n",
    "        y = val_labels[i*batch_size:i*batch_size + batch_size].reshape((batch_size,num_classes))\n",
    "        val_preds.append(sess.run(prediction, feed_dict={X: x}))      \n",
    "        val_accs_final.append(sess.run(accuracy, feed_dict={X: x, Y:y}))\n",
    "        val_losses_final.append(sess.run(loss_op, feed_dict={X: x, Y:y}))\n",
    "    \n",
    "    val_acc_f = np.mean(val_accs_final)\n",
    "    val_loss_f = np.mean(val_losses_final)\n",
    "    \n",
    "    print(\"Final Validtion Accuracy = \" + \"{:.4f}\".format(val_acc_f))\n",
    "    print(\"Final Validation Loss = \" + \"{:.4f}\".format(val_loss_f))\n",
    "    \n",
    "    \n",
    "    \n",
    "    \n",
    "    #######################################################################################################\n",
    "    # Calculate accuracy and predictions for testing set\n",
    "    test_preds = []\n",
    "    test_accs_final = []\n",
    "    test_losses_final = []\n",
    "\n",
    "    for i in range(test_labels.shape[0]/batch_size):\n",
    "#         val_labels = val_labels.reshape((val_labels.shape[0], num_classes)) # < don't need this??\n",
    "        x = test_data[i*batch_size: i*batch_size + batch_size].reshape((batch_size,timesteps, num_input))\n",
    "        y = test_labels[i*batch_size:i*batch_size + batch_size].reshape((batch_size,num_classes))\n",
    "        test_preds.append(sess.run(prediction, feed_dict={X: x}))      \n",
    "        test_accs_final.append(sess.run(accuracy, feed_dict={X: x, Y:y}))\n",
    "        test_losses_final.append(sess.run(loss_op, feed_dict={X: x, Y:y}))\n",
    "    \n",
    "    test_acc_f = np.mean(test_accs_final)\n",
    "    test_loss_f = np.mean(test_losses_final)\n",
    "    \n",
    "    print(\"Final Test Accuracy = \" + \"{:.4f}\".format(test_acc_f))\n",
    "    print(\"Final Test Loss = \" + \"{:.4f}\".format(test_loss_f))\n",
    "    \n",
    "    #######################################################################################################\n",
    "    # Calculate accuracy and predictions for doench data\n",
    "#     d_preds = []\n",
    "#     d_accs_final = []\n",
    "#     d_losses_final = []\n",
    "\n",
    "#     for i in range(d_labels.shape[0]/batch_size):\n",
    "# #         val_labels = val_labels.reshape((val_labels.shape[0], num_classes)) # < don't need this??\n",
    "#         x = d_data[i*batch_size: i*batch_size + batch_size].reshape((batch_size,timesteps, num_input))\n",
    "#         y = d_labels[i*batch_size:i*batch_size + batch_size].reshape((batch_size,num_classes))\n",
    "#         d_preds.append(sess.run(prediction, feed_dict={X: x}))      \n",
    "#         d_accs_final.append(sess.run(accuracy, feed_dict={X: x, Y:y}))\n",
    "#         d_losses_final.append(sess.run(loss_op, feed_dict={X: x, Y:y}))\n",
    "    \n",
    "#     d_acc_f = np.mean(d_accs_final)\n",
    "#     d_loss_f = np.mean(d_losses_final)\n",
    "    \n",
    "#     print(\"Final Doench Accuracy = \" + \"{:.4f}\".format(d_acc_f))\n",
    "#     print(\"Final Doench Loss = \" + \"{:.4f}\".format(d_loss_f))\n",
    "    "
   ]
  },
  {
   "cell_type": "code",
   "execution_count": 43,
   "metadata": {
    "scrolled": true
   },
   "outputs": [],
   "source": [
    "# preds = [v[0] for v in val_preds]\n",
    "# # val_labels = np.argmax(val_labels, axis=1)\n",
    "# plt.scatter(preds, val_labels, alpha=0.01)\n",
    "\n",
    "# z = np.polyfit(np.array(preds).reshape(len(preds),), val_labels.reshape(val_labels.shape[0],),1)\n",
    "# p = np.poly1d(z)\n",
    "# plt.plot(preds, p(preds), \"r\")\n",
    "\n",
    "# plt.xlabel(\"predicted effect\")\n",
    "# plt.ylabel(\"actual effect\")\n",
    "\n",
    "# plt.show()"
   ]
  },
  {
   "cell_type": "code",
   "execution_count": 41,
   "metadata": {},
   "outputs": [
    {
     "data": {
      "image/png": "[encoded data removed]",
      "text/plain": [
       "<Figure size 432x288 with 1 Axes>"
      ]
     },
     "metadata": {},
     "output_type": "display_data"
    }
   ],
   "source": [
    "# final plot\n",
    "preds = [v[0] for v in val_preds]\n",
    "# val_labels = np.argmax(val_labels, axis=1)\n",
    "plt.scatter(val_labels, preds, alpha=0.02)\n",
    "\n",
    "z = np.polyfit(val_labels.reshape(val_labels.shape[0],),np.array(preds).reshape(len(preds),),1)\n",
    "p = np.poly1d(z)\n",
    "plt.plot(val_labels, p(val_labels), \"r\")\n",
    "\n",
    "plt.ylabel(\"predicted effect\")\n",
    "plt.xlabel(\"actual effect\")\n",
    "plt.title(\"Predictions for 21 classes: lr = 0.001, iter = 1000000\")\n",
    "\n",
    "plt.show()"
   ]
  },
  {
   "cell_type": "code",
   "execution_count": 27,
   "metadata": {},
   "outputs": [
    {
     "data": {
      "text/plain": [
       "SpearmanrResult(correlation=0.38176004816057907, pvalue=1.7243385873084822e-246)"
      ]
     },
     "execution_count": 27,
     "metadata": {},
     "output_type": "execute_result"
    }
   ],
   "source": [
    "import scipy.stats as st\n",
    "st.spearmanr(preds, val_labels)\n"
   ]
  },
  {
   "cell_type": "code",
   "execution_count": null,
   "metadata": {},
   "outputs": [],
   "source": []
  },
  {
   "cell_type": "code",
   "execution_count": null,
   "metadata": {},
   "outputs": [],
   "source": []
  },
  {
   "cell_type": "code",
   "execution_count": null,
   "metadata": {},
   "outputs": [],
   "source": []
  },
  {
   "cell_type": "code",
   "execution_count": 48,
   "metadata": {},
   "outputs": [
    {
     "name": "stdout",
     "output_type": "stream",
     "text": [
      "Final Test Accuracy = 0.0493\n",
      "Final Test Loss = 3.5171\n"
     ]
    }
   ],
   "source": [
    "# test on testing set\n",
    "with tf.Session() as sess:\n",
    "\n",
    "    # Run the initializer\n",
    "    sess.run(init)\n",
    "    \n",
    "    # Calculate accuracy and predictions for validation set\n",
    "    test_preds = []\n",
    "    test_accs_final = []\n",
    "    test_losses_final = []\n",
    "\n",
    "    for i in range(test_labels.shape[0]/batch_size):\n",
    "#         val_labels = val_labels.reshape((val_labels.shape[0], num_classes)) # < don't need this??\n",
    "        x = test_data[i*batch_size: i*batch_size + batch_size].reshape((batch_size,timesteps, num_input))\n",
    "        y = test_labels[i*batch_size:i*batch_size + batch_size].reshape((batch_size,num_classes))\n",
    "        test_preds.append(sess.run(prediction, feed_dict={X: x}))      \n",
    "        test_accs_final.append(sess.run(accuracy, feed_dict={X: x, Y:y}))\n",
    "        test_losses_final.append(sess.run(loss_op, feed_dict={X: x, Y:y}))\n",
    "    \n",
    "    test_acc_f = np.mean(test_accs_final)\n",
    "    test_loss_f = np.mean(test_losses_final)\n",
    "    \n",
    "    print(\"Final Test Accuracy = \" + \"{:.4f}\".format(test_acc_f))\n",
    "    print(\"Final Test Loss = \" + \"{:.4f}\".format(test_loss_f))"
   ]
  },
  {
   "cell_type": "code",
   "execution_count": 53,
   "metadata": {},
   "outputs": [
    {
     "data": {
      "text/plain": [
       "13.0"
      ]
     },
     "execution_count": 53,
     "metadata": {},
     "output_type": "execute_result"
    }
   ],
   "source": [
    "np.mean(val_preds)"
   ]
  },
  {
   "cell_type": "code",
   "execution_count": 49,
   "metadata": {},
   "outputs": [
    {
     "data": {
      "image/png": "[encoded data removed]",
      "text/plain": [
       "<Figure size 432x288 with 1 Axes>"
      ]
     },
     "metadata": {},
     "output_type": "display_data"
    }
   ],
   "source": [
    "# final plot for TESTING data\n",
    "t_preds = [v[0] for v in test_preds]\n",
    "test_labels = np.argmax(test_labels, axis=1)\n",
    "plt.scatter(test_labels, t_preds, alpha=0.02)\n",
    "\n",
    "z = np.polyfit(test_labels.reshape(test_labels.shape[0],),np.array(t_preds).reshape(len(t_preds),),1)\n",
    "p = np.poly1d(z)\n",
    "plt.plot(test_labels, p(test_labels), \"r\")\n",
    "\n",
    "plt.ylabel(\"predicted effect\")\n",
    "plt.xlabel(\"actual effect\")\n",
    "plt.title(\"Predictions for 21 classes: lr = 0.001, iter = 1000000\")\n",
    "\n",
    "plt.show()"
   ]
  },
  {
   "cell_type": "code",
   "execution_count": null,
   "metadata": {},
   "outputs": [],
   "source": []
  },
  {
   "cell_type": "code",
   "execution_count": null,
   "metadata": {},
   "outputs": [],
   "source": [
    "# read doench pickle file\n",
    "doech_data"
   ]
  },
  {
   "cell_type": "code",
   "execution_count": null,
   "metadata": {},
   "outputs": [],
   "source": [
    "# test on doench set\n",
    "with tf.Session() as sess:\n",
    "\n",
    "    # Run the initializer\n",
    "    sess.run(init)\n",
    "    \n",
    "    # Calculate accuracy and predictions for validation set\n",
    "    test_preds = []\n",
    "    test_accs_final = []\n",
    "    test_losses_final = []\n",
    "\n",
    "    for i in range(test_labels.shape[0]/batch_size):\n",
    "#         val_labels = val_labels.reshape((val_labels.shape[0], num_classes)) # < don't need this??\n",
    "        x = test_data[i*batch_size: i*batch_size + batch_size].reshape((batch_size,timesteps, num_input))\n",
    "        y = test_labels[i*batch_size:i*batch_size + batch_size].reshape((batch_size,num_classes))\n",
    "        test_preds.append(sess.run(prediction, feed_dict={X: x}))      \n",
    "        test_accs_final.append(sess.run(accuracy, feed_dict={X: x, Y:y}))\n",
    "        test_losses_final.append(sess.run(loss_op, feed_dict={X: x, Y:y}))\n",
    "    \n",
    "    test_acc_f = np.mean(test_accs_final)\n",
    "    test_loss_f = np.mean(test_losses_final)"
   ]
  },
  {
   "cell_type": "code",
   "execution_count": null,
   "metadata": {},
   "outputs": [],
   "source": []
  },
  {
   "cell_type": "code",
   "execution_count": null,
   "metadata": {},
   "outputs": [],
   "source": []
  },
  {
   "cell_type": "code",
   "execution_count": 42,
   "metadata": {},
   "outputs": [
    {
     "data": {
      "text/plain": [
       "<matplotlib.collections.PathCollection at 0x7f59db843890>"
      ]
     },
     "execution_count": 42,
     "metadata": {},
     "output_type": "execute_result"
    },
    {
     "data": {
      "image/png": "[encoded data removed]",
      "text/plain": [
       "<Figure size 432x288 with 1 Axes>"
      ]
     },
     "metadata": {},
     "output_type": "display_data"
    }
   ],
   "source": [
    "plt.scatter(np.arange(0, training_steps+display_step, display_step), train_losses)"
   ]
  },
  {
   "cell_type": "code",
   "execution_count": null,
   "metadata": {},
   "outputs": [],
   "source": []
  },
  {
   "cell_type": "code",
   "execution_count": 110,
   "metadata": {},
   "outputs": [],
   "source": [
    "fn = '../pred2_NG_3_32_0.001_1_default_default_0.5777142_0.90283686_0.59467787.csv'\n",
    "pred_labels = np.genfromtxt(fn, delimiter=\",\")"
   ]
  },
  {
   "cell_type": "code",
   "execution_count": 112,
   "metadata": {},
   "outputs": [
    {
     "data": {
      "text/plain": [
       "array([[1., 1.],\n",
       "       [1., 0.],\n",
       "       [1., 1.],\n",
       "       ...,\n",
       "       [1., 1.],\n",
       "       [1., 2.],\n",
       "       [1., 1.]])"
      ]
     },
     "execution_count": 112,
     "metadata": {},
     "output_type": "execute_result"
    }
   ],
   "source": [
    "pred_labels"
   ]
  },
  {
   "cell_type": "code",
   "execution_count": 114,
   "metadata": {},
   "outputs": [
    {
     "data": {
      "image/png": "[encoded data removed]",
      "text/plain": [
       "<Figure size 432x288 with 1 Axes>"
      ]
     },
     "metadata": {},
     "output_type": "display_data"
    }
   ],
   "source": [
    "num_classes = 3\n",
    "boxplot_data = []\n",
    "preds_np = np.array(preds)\n",
    "possible_labels = range(num_classes)\n",
    "for l in possible_labels:\n",
    "    boxplot_data.append(pred_labels[np.where(pred_labels[:,1] == l)][:,0])\n",
    "plt.figure()\n",
    "plt.boxplot(boxplot_data)\n",
    "plt.xticks(range(1,num_classes+1),range(num_classes))\n",
    "plt.ylabel(\"Predicted labels\")\n",
    "plt.xlabel(\"True labels\")\n",
    "plt.show()"
   ]
  },
  {
   "cell_type": "code",
   "execution_count": null,
   "metadata": {},
   "outputs": [],
   "source": []
  },
  {
   "cell_type": "code",
   "execution_count": 227,
   "metadata": {},
   "outputs": [],
   "source": [
    "# things to calculate:\n",
    "# at each time step: train_losses, val_losses\n",
    "# at the end: train_acc, val_acc(done), preds(done), val_labels(done)"
   ]
  },
  {
   "cell_type": "code",
   "execution_count": 30,
   "metadata": {},
   "outputs": [],
   "source": [
    "weight_mean=\"default\"\n",
    "bias_mean=\"default\""
   ]
  },
  {
   "cell_type": "code",
   "execution_count": 31,
   "metadata": {},
   "outputs": [],
   "source": [
    "####### saving results summary for each run"
   ]
  },
  {
   "cell_type": "code",
   "execution_count": 32,
   "metadata": {},
   "outputs": [],
   "source": [
    "# 1. overall_results\n",
    "# columns = gene(G/NG) , num_classes(1,3,21), num_hidden(8,32,128), lr(0.1,0.01,0.001,0.0001), \n",
    "    # forget(0,0.5,1), weight(0,1,2), bias(0.01,0.001), train_loss, val_loss, train_acc, val_acc\n",
    "\n",
    "# output_file = open(\"../overall_results.csv\", \"a\")\n",
    "output_file = open(\"../overall_results2.csv\", \"a\")\n",
    "\n",
    "# output_file = open(\"../val_same_as_train_results_1000.csv\", \"a\")\n",
    "output_lst = [G, num_classes, num_hidden, learning_rate, forget_b, weight_mean, bias_mean, train_losses[-1], val_losses[-1], val_acc_f]\n",
    "output_file.writelines(\",\".join([str(i) for i in output_lst])+\"\\n\")\n",
    "output_file.close()\n"
   ]
  },
  {
   "cell_type": "code",
   "execution_count": 33,
   "metadata": {},
   "outputs": [],
   "source": [
    "# 2. prediction and true labels\n",
    "# p_fname = \"../pred_\" + \"_\".join([str(i) for i in output_lst]) + \".csv\"\n",
    "p_fname = \"../pred2_\" + \"_\".join([str(i) for i in output_lst]) + \".csv\"\n",
    "# p_fname = \"../same_valtrain1000_pred_\" + \"_\".join([str(i) for i in output_lst]) + \".csv\"\n",
    "pred_labels = np.vstack((np.array(preds), val_labels)).T\n",
    "np.savetxt(p_fname, pred_labels, delimiter=\",\")"
   ]
  },
  {
   "cell_type": "code",
   "execution_count": 34,
   "metadata": {},
   "outputs": [],
   "source": [
    "# 3. training loss over time\n",
    "# tl_fname = \"../train_loss_\" + \"_\".join([str(i) for i in output_lst]) + \".csv\"\n",
    "tl_fname = \"../train_loss2_\" + \"_\".join([str(i) for i in output_lst]) + \".csv\"\n",
    "# tl_fname = \"../same_valtrain1000_train_loss_\" + \"_\".join([str(i) for i in output_lst]) + \".csv\"\n",
    "train_loss_time = np.vstack((np.arange(0, training_steps+display_step, display_step), train_losses)).T\n",
    "np.savetxt(tl_fname, train_loss_time, delimiter=\",\")"
   ]
  },
  {
   "cell_type": "code",
   "execution_count": 35,
   "metadata": {},
   "outputs": [],
   "source": [
    "# 4. validation loss over time\n",
    "# vl_fname = \"../val_loss_\" + \"_\".join([str(i) for i in output_lst]) + \".csv\"\n",
    "vl_fname = \"../val_loss2_\" + \"_\".join([str(i) for i in output_lst]) + \".csv\"\n",
    "# vl_fname = \"../same_valtrain1000_val_loss_\" + \"_\".join([str(i) for i in output_lst]) + \".csv\"\n",
    "val_loss_time = np.vstack((np.arange(0, training_steps+val_step, val_step), val_losses)).T\n",
    "np.savetxt(vl_fname, val_loss_time, delimiter=\",\")"
   ]
  },
  {
   "cell_type": "code",
   "execution_count": null,
   "metadata": {},
   "outputs": [],
   "source": []
  },
  {
   "cell_type": "code",
   "execution_count": null,
   "metadata": {},
   "outputs": [],
   "source": []
  },
  {
   "cell_type": "code",
   "execution_count": 82,
   "metadata": {},
   "outputs": [
    {
     "name": "stdout",
     "output_type": "stream",
     "text": [
      "Step 1, Minibatch Loss= 5.3221, Validation Loss= 3.404\n",
      "Step 100000, Minibatch Loss= 2.5836, Validation Loss= 2.730\n",
      "Optimization Finished!\n",
      "Final Validtion Accuracy = 0.1514\n",
      "Final Validation Loss = 2.7296\n"
     ]
    }
   ],
   "source": [
    "# train_data = subset_train_data\n",
    "# train_labels = subset_train_labels\n",
    "# val_data = subset_train_data\n",
    "# val_labels = subset_train_labels\n",
    "\n",
    "\n",
    "# Start training\n",
    "with tf.Session() as sess:\n",
    "\n",
    "    # Run the initializer\n",
    "    sess.run(init)\n",
    "    \n",
    "    # things to save during display step + val step\n",
    "    train_losses = []\n",
    "    val_losses = []\n",
    "    \n",
    "    \n",
    "    for step in range(1, training_steps+1):\n",
    "        batch_x, batch_y = get_batch(batch_size, train_data, train_labels)\n",
    "        # Reshape data to get 28 seq of 28 elements\n",
    "        \n",
    "        \n",
    "        # with regression maybe uncomment this??\n",
    "#         batch_x = batch_x.reshape((batch_size, timesteps, num_input))\n",
    "#         batch_y = batch_y.reshape((batch_size, num_classes))\n",
    "        \n",
    "    \n",
    "        # Run optimization op (backprop) in every training step\n",
    "        sess.run(train_op, feed_dict={X: batch_x, Y: batch_y})\n",
    "        \n",
    "        \n",
    "        # in display step, clac train_losses\n",
    "        if step % display_step == 0 or step == 1:\n",
    "            t_loss = sess.run(loss_op, feed_dict={X: batch_x, Y: batch_y})\n",
    "            train_losses.append(t_loss)\n",
    "        \n",
    "        # in val step, calc val_losses\n",
    "        if step % val_step == 0 or step == 1:\n",
    "            vl_temp = []\n",
    "            for i in range(val_labels.shape[0]/batch_size):\n",
    "#                 val_labels = val_labels.reshape((val_labels.shape[0], num_classes)) # < don't need this??\n",
    "\n",
    "                x = val_data[i*batch_size: i*batch_size + batch_size].reshape((batch_size,timesteps, num_input))\n",
    "                y = val_labels[i*batch_size:i*batch_size + batch_size].reshape((batch_size,num_classes))\n",
    "\n",
    "                vl_temp.append(sess.run(loss_op, feed_dict={X: x, Y:y}))\n",
    "            v_loss = np.mean(vl_temp)\n",
    "            val_losses.append(v_loss)\n",
    "\n",
    "            print(\"Step \" + str(step) + \", Minibatch Loss= \" + \\\n",
    "                  \"{:.4f}\".format(t_loss) + \", Validation Loss= \" + \\\n",
    "                     \"{:.3f}\".format(v_loss))\n",
    "        \n",
    "    print(\"Optimization Finished!\")\n",
    "\n",
    "    # Calculate accuracy and predictions for validation set\n",
    "    val_preds = []\n",
    "    val_accs_final = []\n",
    "    val_losses_final = []\n",
    "\n",
    "    for i in range(val_labels.shape[0]/batch_size):\n",
    "#         val_labels = val_labels.reshape((val_labels.shape[0], num_classes)) # < don't need this??\n",
    "        x = val_data[i*batch_size: i*batch_size + batch_size].reshape((batch_size,timesteps, num_input))\n",
    "        y = val_labels[i*batch_size:i*batch_size + batch_size].reshape((batch_size,num_classes))\n",
    "        val_preds.append(sess.run(prediction, feed_dict={X: x}))      \n",
    "        val_accs_final.append(sess.run(accuracy, feed_dict={X: x, Y:y}))\n",
    "        val_losses_final.append(sess.run(loss_op, feed_dict={X: x, Y:y}))\n",
    "    \n",
    "    val_acc_f = np.mean(val_accs_final)\n",
    "    val_loss_f = np.mean(val_losses_final)\n",
    "    \n",
    "    print(\"Final Validtion Accuracy = \" + \"{:.4f}\".format(val_acc_f))\n",
    "    print(\"Final Validation Loss = \" + \"{:.4f}\".format(val_loss_f))"
   ]
  },
  {
   "cell_type": "code",
   "execution_count": 83,
   "metadata": {},
   "outputs": [
    {
     "data": {
      "image/png": "[encoded data removed]",
      "text/plain": [
       "<Figure size 432x288 with 1 Axes>"
      ]
     },
     "metadata": {},
     "output_type": "display_data"
    }
   ],
   "source": [
    "preds = [v[0] for v in val_preds]\n",
    "val_labels = np.argmax(val_labels, axis=1)\n",
    "plt.scatter(preds, val_labels, alpha=0.01)\n",
    "plt.show()"
   ]
  },
  {
   "cell_type": "code",
   "execution_count": 84,
   "metadata": {},
   "outputs": [],
   "source": [
    "pred_labels = np.vstack((np.array(preds), val_labels)).T"
   ]
  },
  {
   "cell_type": "code",
   "execution_count": 104,
   "metadata": {},
   "outputs": [
    {
     "data": {
      "image/png": "[encoded data removed]",
      "text/plain": [
       "<Figure size 432x288 with 1 Axes>"
      ]
     },
     "metadata": {},
     "output_type": "display_data"
    }
   ],
   "source": [
    "boxplot_data = []\n",
    "preds_np = np.array(preds)\n",
    "possible_labeuls = range(num_classes)\n",
    "for l in possible_labels:\n",
    "    boxplot_data.append(pred_labels[np.where(pred_labels[:,1] == l)][:,0])\n",
    "plt.figure()\n",
    "plt.boxplot(boxplot_data)\n",
    "plt.xticks(range(1,num_classes+1),range(num_classes))\n",
    "plt.ylabel(\"Predicted labels\")\n",
    "plt.xlabel(\"True labels\")\n",
    "plt.show()"
   ]
  },
  {
   "cell_type": "code",
   "execution_count": null,
   "metadata": {},
   "outputs": [],
   "source": []
  },
  {
   "cell_type": "code",
   "execution_count": null,
   "metadata": {},
   "outputs": [],
   "source": []
  },
  {
   "cell_type": "code",
   "execution_count": null,
   "metadata": {},
   "outputs": [],
   "source": []
  }
 ],
 "metadata": {
  "kernelspec": {
   "display_name": "Python 2",
   "language": "python",
   "name": "python2"
  },
  "language_info": {
   "codemirror_mode": {
    "name": "ipython",
    "version": 2
   },
   "file_extension": ".py",
   "mimetype": "text/x-python",
   "name": "python",
   "nbconvert_exporter": "python",
   "pygments_lexer": "ipython2",
   "version": "2.7.12"
  }
 },
 "nbformat": 4,
 "nbformat_minor": 2
}
