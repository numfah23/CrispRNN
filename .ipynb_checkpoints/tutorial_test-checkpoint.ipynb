{
 "cells": [
  {
   "cell_type": "markdown",
   "metadata": {
    "colab_type": "text",
    "id": "N6ZDpd9XzFeN"
   },
   "source": [
    "##### Copyright 2018 The TensorFlow Hub Authors.\n",
    "\n",
    "Licensed under the Apache License, Version 2.0 (the \"License\");"
   ]
  },
  {
   "cell_type": "code",
   "execution_count": 0,
   "metadata": {
    "cellView": "form",
    "colab": {
     "autoexec": {
      "startup": false,
      "wait_interval": 0
     }
    },
    "colab_type": "code",
    "id": "KUu4vOt5zI9d"
   },
   "outputs": [],
   "source": [
    "# Copyright 2018 The TensorFlow Hub Authors. All Rights Reserved.\n",
    "#\n",
    "# Licensed under the Apache License, Version 2.0 (the \"License\");\n",
    "# you may not use this file except in compliance with the License.\n",
    "# You may obtain a copy of the License at\n",
    "#\n",
    "#     http://www.apache.org/licenses/LICENSE-2.0\n",
    "#\n",
    "# Unless required by applicable law or agreed to in writing, software\n",
    "# distributed under the License is distributed on an \"AS IS\" BASIS,\n",
    "# WITHOUT WARRANTIES OR CONDITIONS OF ANY KIND, either express or implied.\n",
    "# See the License for the specific language governing permissions and\n",
    "# limitations under the License.\n",
    "# =============================================================================="
   ]
  },
  {
   "cell_type": "markdown",
   "metadata": {
    "colab_type": "text",
    "id": "ok9PfyoQ2rH_"
   },
   "source": [
    "# How to build a simple text classifier with TF-Hub\n",
    "\n",
    "Note: You can run this notebook [live in Colab](https://colab.research.google.com/github/tensorflow/hub/blob/master/examples/colab/text_classification_with_tf_hub.ipynb) with zero setup.\n",
    "\n",
    "TF-Hub is a platform to share machine learning expertise packaged in reusable resources, notably pre-trained **modules**. This tutorial is organized into two main parts.\n",
    "\n",
    "** *Introduction:* Training a text classifier with TF-Hub**\n",
    "\n",
    "We will use a TF-Hub text embedding module to train a simple sentiment classifier with a reasonable baseline accuracy. We will then analyze the predictions to make sure our model is reasonable and propose improvements to increase the accuracy.\n",
    "\n",
    "** *Advanced:* Transfer learning analysis **\n",
    "\n",
    "In this section, we will use various TF-Hub modules to compare their effect on the accuracy of the estimator and demonstrate advantages and pitfalls of transfer learning.\n",
    "\n"
   ]
  },
  {
   "cell_type": "markdown",
   "metadata": {
    "colab_type": "text",
    "id": "aYVd26q1_3xW"
   },
   "source": [
    "## Optional prerequisites\n",
    "\n",
    "* Basic understanding of Tensorflow [premade estimator framework](https://www.tensorflow.org/get_started/premade_estimators).\n",
    "* Familiarity with [Pandas](https://pandas.pydata.org/) library.\n"
   ]
  },
  {
   "cell_type": "markdown",
   "metadata": {
    "colab_type": "text",
    "id": "xOATihhH1IxS"
   },
   "source": [
    "## Preparing the enviroment"
   ]
  },
  {
   "cell_type": "code",
   "execution_count": 12,
   "metadata": {},
   "outputs": [
    {
     "name": "stdout",
     "output_type": "stream",
     "text": [
      "\u001b[31mtensorflow-1.7.0rc1-cp34-cp34m-linux_x86_64.whl is not a supported wheel on this platform.\u001b[0m\r\n"
     ]
    }
   ],
   "source": [
    "!pip install --upgrade \\\n",
    " https://storage.googleapis.com/tensorflow/linux/cpu/tensorflow-1.7.0rc1-cp34-cp34m-linux_x86_64.whl"
   ]
  },
  {
   "cell_type": "code",
   "execution_count": 10,
   "metadata": {
    "cellView": "code",
    "colab": {
     "autoexec": {
      "startup": false,
      "wait_interval": 0
     },
     "base_uri": "https://localhost:8080/",
     "height": 170
    },
    "colab_type": "code",
    "executionInfo": {
     "elapsed": 40133,
     "status": "ok",
     "timestamp": 1523133480306,
     "user": {
      "displayName": "",
      "photoUrl": "",
      "userId": ""
     },
     "user_tz": 240
    },
    "id": "_8N3Hx2dyUC-",
    "outputId": "2aaf4cb1-ace6-4a0a-d10a-0cd7ea621c56"
   },
   "outputs": [
    {
     "name": "stdout",
     "output_type": "stream",
     "text": [
      "Requirement already up-to-date: tensorflow in /anaconda2/lib/python2.7/site-packages\n",
      "Requirement already up-to-date: astor>=0.6.0 in /anaconda2/lib/python2.7/site-packages (from tensorflow)\n",
      "Requirement already up-to-date: gast>=0.2.0 in /anaconda2/lib/python2.7/site-packages (from tensorflow)\n",
      "Requirement already up-to-date: protobuf>=3.4.0 in /anaconda2/lib/python2.7/site-packages (from tensorflow)\n",
      "Requirement already up-to-date: six>=1.10.0 in /anaconda2/lib/python2.7/site-packages (from tensorflow)\n",
      "Requirement already up-to-date: absl-py>=0.1.6 in /anaconda2/lib/python2.7/site-packages (from tensorflow)\n",
      "Requirement already up-to-date: backports.weakref>=1.0rc1 in /anaconda2/lib/python2.7/site-packages (from tensorflow)\n",
      "Requirement already up-to-date: tensorboard<1.8.0,>=1.7.0 in /anaconda2/lib/python2.7/site-packages (from tensorflow)\n",
      "Requirement already up-to-date: wheel in /anaconda2/lib/python2.7/site-packages (from tensorflow)\n",
      "Requirement already up-to-date: termcolor>=1.1.0 in /anaconda2/lib/python2.7/site-packages (from tensorflow)\n",
      "Requirement already up-to-date: numpy>=1.13.3 in /anaconda2/lib/python2.7/site-packages (from tensorflow)\n",
      "Requirement already up-to-date: mock>=2.0.0 in /anaconda2/lib/python2.7/site-packages (from tensorflow)\n",
      "Requirement already up-to-date: enum34>=1.1.6 in /anaconda2/lib/python2.7/site-packages (from tensorflow)\n",
      "Requirement already up-to-date: grpcio>=1.8.6 in /anaconda2/lib/python2.7/site-packages (from tensorflow)\n",
      "Requirement already up-to-date: setuptools in /anaconda2/lib/python2.7/site-packages (from protobuf>=3.4.0->tensorflow)\n",
      "Requirement already up-to-date: markdown>=2.6.8 in /anaconda2/lib/python2.7/site-packages (from tensorboard<1.8.0,>=1.7.0->tensorflow)\n",
      "Requirement already up-to-date: futures>=3.1.1; python_version < \"3\" in /anaconda2/lib/python2.7/site-packages (from tensorboard<1.8.0,>=1.7.0->tensorflow)\n",
      "Requirement already up-to-date: werkzeug>=0.11.10 in /anaconda2/lib/python2.7/site-packages (from tensorboard<1.8.0,>=1.7.0->tensorflow)\n",
      "Requirement already up-to-date: html5lib==0.9999999 in /anaconda2/lib/python2.7/site-packages (from tensorboard<1.8.0,>=1.7.0->tensorflow)\n",
      "Requirement already up-to-date: bleach==1.5.0 in /anaconda2/lib/python2.7/site-packages (from tensorboard<1.8.0,>=1.7.0->tensorflow)\n",
      "Requirement already up-to-date: funcsigs>=1; python_version < \"3.3\" in /anaconda2/lib/python2.7/site-packages (from mock>=2.0.0->tensorflow)\n",
      "Requirement already up-to-date: pbr>=0.11 in /anaconda2/lib/python2.7/site-packages (from mock>=2.0.0->tensorflow)\n",
      "Requirement already satisfied: tensorflow-hub in /anaconda2/lib/python2.7/site-packages\n",
      "Requirement already satisfied: six>=1.10.0 in /anaconda2/lib/python2.7/site-packages (from tensorflow-hub)\n",
      "Requirement already satisfied: protobuf>=3.4.0 in /anaconda2/lib/python2.7/site-packages (from tensorflow-hub)\n",
      "Requirement already satisfied: numpy>=1.12.0 in /anaconda2/lib/python2.7/site-packages (from tensorflow-hub)\n",
      "Requirement already satisfied: setuptools in /anaconda2/lib/python2.7/site-packages (from protobuf>=3.4.0->tensorflow-hub)\n"
     ]
    }
   ],
   "source": [
    "# Install the latest Tensorflow version.\n",
    "!pip install --upgrade --pre tensorflow\n",
    "# Install TF-Hub.\n",
    "!pip install tensorflow-hub"
   ]
  },
  {
   "cell_type": "markdown",
   "metadata": {
    "colab_type": "text",
    "id": "tRXN9a8Mz8e-"
   },
   "source": [
    "More detailed information about installing Tensorflow can be found at [https://www.tensorflow.org/install/](https://www.tensorflow.org/install/)."
   ]
  },
  {
   "cell_type": "code",
   "execution_count": 13,
   "metadata": {
    "colab": {
     "autoexec": {
      "startup": false,
      "wait_interval": 0
     }
    },
    "colab_type": "code",
    "id": "v7hy0bhngTUp"
   },
   "outputs": [],
   "source": [
    "import tensorflow as tf\n",
    "# import tensorflow_hub as hub\n",
    "import matplotlib.pyplot as plt\n",
    "import numpy as np\n",
    "import os\n",
    "import pandas as pd\n",
    "import re\n",
    "import seaborn as sns"
   ]
  },
  {
   "cell_type": "markdown",
   "metadata": {
    "colab_type": "text",
    "id": "6OPyVxHuiTEE"
   },
   "source": [
    "# Getting started\n",
    "\n",
    "## Data\n",
    "We will try to solve the [Large Movie Review Dataset v1.0](http://ai.stanford.edu/~amaas/data/sentiment/) task from Mass et al. The dataset consists of IMDB movie reviews labeled by positivity from 1 to 10. The task is to label the reviews as **negative** or **positive**."
   ]
  },
  {
   "cell_type": "code",
   "execution_count": 14,
   "metadata": {},
   "outputs": [
    {
     "name": "stderr",
     "output_type": "stream",
     "text": [
      "/anaconda2/lib/python2.7/site-packages/IPython/core/interactiveshell.py:2822: DtypeWarning: Columns (2) have mixed types. Specify dtype option on import or set low_memory=False.\n",
      "  if self.run_code(code, result):\n"
     ]
    }
   ],
   "source": [
    "def read_crispr_data(filename):\n",
    "    data = pd.read_csv(filename)\n",
    "    return data\n",
    "\n",
    "data = read_crispr_data('GenomeCRISPR_full05112017_small.csv')"
   ]
  },
  {
   "cell_type": "code",
   "execution_count": 0,
   "metadata": {
    "cellView": "both",
    "colab": {
     "autoexec": {
      "startup": false,
      "wait_interval": 0
     },
     "base_uri": "https://localhost:8080/",
     "height": 255
    },
    "colab_type": "code",
    "executionInfo": {
     "elapsed": 36807,
     "status": "ok",
     "timestamp": 1523133527631,
     "user": {
      "displayName": "",
      "photoUrl": "",
      "userId": ""
     },
     "user_tz": 240
    },
    "id": "rKzc-fOGV72G",
    "outputId": "3058753b-544c-4917-9684-f6e834964035"
   },
   "outputs": [
    {
     "name": "stdout",
     "output_type": "stream",
     "text": [
      "Downloading data from http://ai.stanford.edu/~amaas/data/sentiment/aclImdb_v1.tar.gz\n",
      "84131840/84125825 [==============================] - 4s 0us/step\n",
      "84140032/84125825 [==============================] - 4s 0us/step\n"
     ]
    },
    {
     "data": {
      "text/html": [
       "<div>\n",
       "<style scoped>\n",
       "    .dataframe tbody tr th:only-of-type {\n",
       "        vertical-align: middle;\n",
       "    }\n",
       "\n",
       "    .dataframe tbody tr th {\n",
       "        vertical-align: top;\n",
       "    }\n",
       "\n",
       "    .dataframe thead th {\n",
       "        text-align: right;\n",
       "    }\n",
       "</style>\n",
       "<table border=\"1\" class=\"dataframe\">\n",
       "  <thead>\n",
       "    <tr style=\"text-align: right;\">\n",
       "      <th></th>\n",
       "      <th>sentence</th>\n",
       "      <th>sentiment</th>\n",
       "      <th>polarity</th>\n",
       "    </tr>\n",
       "  </thead>\n",
       "  <tbody>\n",
       "    <tr>\n",
       "      <th>0</th>\n",
       "      <td>You've never seen anything like it. Once the c...</td>\n",
       "      <td>10</td>\n",
       "      <td>1</td>\n",
       "    </tr>\n",
       "    <tr>\n",
       "      <th>1</th>\n",
       "      <td>This is a great film Classic from the 40's and...</td>\n",
       "      <td>10</td>\n",
       "      <td>1</td>\n",
       "    </tr>\n",
       "    <tr>\n",
       "      <th>2</th>\n",
       "      <td>Return To the Lost World was filmed back-to-ba...</td>\n",
       "      <td>7</td>\n",
       "      <td>1</td>\n",
       "    </tr>\n",
       "    <tr>\n",
       "      <th>3</th>\n",
       "      <td>A message movie, but a rather good one. Outsta...</td>\n",
       "      <td>7</td>\n",
       "      <td>1</td>\n",
       "    </tr>\n",
       "    <tr>\n",
       "      <th>4</th>\n",
       "      <td>If I had just seen the pilot of this show I wo...</td>\n",
       "      <td>8</td>\n",
       "      <td>1</td>\n",
       "    </tr>\n",
       "  </tbody>\n",
       "</table>\n",
       "</div>"
      ],
      "text/plain": [
       "                                            sentence sentiment  polarity\n",
       "0  You've never seen anything like it. Once the c...        10         1\n",
       "1  This is a great film Classic from the 40's and...        10         1\n",
       "2  Return To the Lost World was filmed back-to-ba...         7         1\n",
       "3  A message movie, but a rather good one. Outsta...         7         1\n",
       "4  If I had just seen the pilot of this show I wo...         8         1"
      ]
     },
     "execution_count": 4,
     "metadata": {
      "tags": []
     },
     "output_type": "execute_result"
    }
   ],
   "source": [
    "# Load all files from a directory in a DataFrame.\n",
    "def load_directory_data(directory):\n",
    "  data = {}\n",
    "  data[\"sentence\"] = []\n",
    "  data[\"sentiment\"] = []\n",
    "  for file_path in os.listdir(directory):\n",
    "    with tf.gfile.GFile(os.path.join(directory, file_path), \"r\") as f:\n",
    "      data[\"sentence\"].append(f.read())\n",
    "      data[\"sentiment\"].append(re.match(\"\\d+_(\\d+)\\.txt\", file_path).group(1))\n",
    "  return pd.DataFrame.from_dict(data)\n",
    "\n",
    "# Merge positive and negative examples, add a polarity column and shuffle.\n",
    "def load_dataset(directory):\n",
    "  pos_df = load_directory_data(os.path.join(directory, \"pos\"))\n",
    "  neg_df = load_directory_data(os.path.join(directory, \"neg\"))\n",
    "  pos_df[\"polarity\"] = 1\n",
    "  neg_df[\"polarity\"] = 0\n",
    "  return pd.concat([pos_df, neg_df]).sample(frac=1).reset_index(drop=True)\n",
    "\n",
    "# Download and process the dataset files.\n",
    "def download_and_load_datasets(force_download=False):\n",
    "  dataset = tf.keras.utils.get_file(\n",
    "      fname=\"aclImdb.tar.gz\", \n",
    "      origin=\"http://ai.stanford.edu/~amaas/data/sentiment/aclImdb_v1.tar.gz\", \n",
    "      extract=True)\n",
    "  \n",
    "  train_df = load_dataset(os.path.join(os.path.dirname(dataset), \n",
    "                                       \"aclImdb\", \"train\"))\n",
    "  test_df = load_dataset(os.path.join(os.path.dirname(dataset), \n",
    "                                      \"aclImdb\", \"test\"))\n",
    "  \n",
    "  return train_df, test_df\n",
    "\n",
    "# Reduce logging output.\n",
    "tf.logging.set_verbosity(tf.logging.ERROR)\n",
    "\n",
    "train_df, test_df = download_and_load_datasets()\n",
    "train_df.head()"
   ]
  },
  {
   "cell_type": "code",
   "execution_count": 0,
   "metadata": {
    "colab": {
     "autoexec": {
      "startup": false,
      "wait_interval": 0
     },
     "base_uri": "https://localhost:8080/",
     "height": 204
    },
    "colab_type": "code",
    "executionInfo": {
     "elapsed": 276,
     "status": "ok",
     "timestamp": 1523134320461,
     "user": {
      "displayName": "",
      "photoUrl": "",
      "userId": ""
     },
     "user_tz": 240
    },
    "id": "7a-aUGbr4Twv",
    "outputId": "c97a9f08-550f-4552-a813-0cc54eb89a05"
   },
   "outputs": [
    {
     "data": {
      "text/html": [
       "<div>\n",
       "<style scoped>\n",
       "    .dataframe tbody tr th:only-of-type {\n",
       "        vertical-align: middle;\n",
       "    }\n",
       "\n",
       "    .dataframe tbody tr th {\n",
       "        vertical-align: top;\n",
       "    }\n",
       "\n",
       "    .dataframe thead th {\n",
       "        text-align: right;\n",
       "    }\n",
       "</style>\n",
       "<table border=\"1\" class=\"dataframe\">\n",
       "  <thead>\n",
       "    <tr style=\"text-align: right;\">\n",
       "      <th></th>\n",
       "      <th>sentence</th>\n",
       "      <th>sentiment</th>\n",
       "      <th>polarity</th>\n",
       "    </tr>\n",
       "  </thead>\n",
       "  <tbody>\n",
       "    <tr>\n",
       "      <th>0</th>\n",
       "      <td>This was an awful short film that tries to be ...</td>\n",
       "      <td>1</td>\n",
       "      <td>0</td>\n",
       "    </tr>\n",
       "    <tr>\n",
       "      <th>1</th>\n",
       "      <td>There's this whole theory of horror that some ...</td>\n",
       "      <td>9</td>\n",
       "      <td>1</td>\n",
       "    </tr>\n",
       "    <tr>\n",
       "      <th>2</th>\n",
       "      <td>I've just watched this again on the BBC Channe...</td>\n",
       "      <td>7</td>\n",
       "      <td>1</td>\n",
       "    </tr>\n",
       "    <tr>\n",
       "      <th>3</th>\n",
       "      <td>I saw this piece of pseudo-intellectual crap a...</td>\n",
       "      <td>1</td>\n",
       "      <td>0</td>\n",
       "    </tr>\n",
       "    <tr>\n",
       "      <th>4</th>\n",
       "      <td>I bought this movie for about 2,5 dollars at a...</td>\n",
       "      <td>1</td>\n",
       "      <td>0</td>\n",
       "    </tr>\n",
       "  </tbody>\n",
       "</table>\n",
       "</div>"
      ],
      "text/plain": [
       "                                            sentence sentiment  polarity\n",
       "0  This was an awful short film that tries to be ...         1         0\n",
       "1  There's this whole theory of horror that some ...         9         1\n",
       "2  I've just watched this again on the BBC Channe...         7         1\n",
       "3  I saw this piece of pseudo-intellectual crap a...         1         0\n",
       "4  I bought this movie for about 2,5 dollars at a...         1         0"
      ]
     },
     "execution_count": 14,
     "metadata": {
      "tags": []
     },
     "output_type": "execute_result"
    }
   ],
   "source": [
    "test_df.head()"
   ]
  },
  {
   "cell_type": "code",
   "execution_count": 20,
   "metadata": {},
   "outputs": [
    {
     "data": {
      "text/plain": [
       "(1048575, 2)"
      ]
     },
     "execution_count": 20,
     "metadata": {},
     "output_type": "execute_result"
    }
   ],
   "source": [
    "data.head()\n",
    "new_data = data[['sequence', 'effect']]\n",
    "new_data.shape"
   ]
  },
  {
   "cell_type": "code",
   "execution_count": 111,
   "metadata": {},
   "outputs": [],
   "source": [
    "train_df = new_data.sample(104857)\n",
    "test_df = new_data.sample(100)"
   ]
  },
  {
   "cell_type": "code",
   "execution_count": null,
   "metadata": {},
   "outputs": [],
   "source": []
  },
  {
   "cell_type": "code",
   "execution_count": 0,
   "metadata": {
    "colab": {
     "autoexec": {
      "startup": false,
      "wait_interval": 0
     },
     "base_uri": "https://localhost:8080/",
     "height": 612
    },
    "colab_type": "code",
    "executionInfo": {
     "elapsed": 900,
     "status": "ok",
     "timestamp": 1523134440343,
     "user": {
      "displayName": "",
      "photoUrl": "",
      "userId": ""
     },
     "user_tz": 240
    },
    "id": "s1s4zHxM3u-E",
    "outputId": "e7f0c8a6-9524-499c-b586-d6be1ac79e8d"
   },
   "outputs": [
    {
     "name": "stderr",
     "output_type": "stream",
     "text": [
      "/usr/local/lib/python2.7/dist-packages/ipykernel_launcher.py:2: SettingWithCopyWarning: \n",
      "A value is trying to be set on a copy of a slice from a DataFrame.\n",
      "Try using .loc[row_indexer,col_indexer] = value instead\n",
      "\n",
      "See the caveats in the documentation: http://pandas.pydata.org/pandas-docs/stable/indexing.html#indexing-view-versus-copy\n",
      "  \n",
      "/usr/local/lib/python2.7/dist-packages/ipykernel_launcher.py:3: SettingWithCopyWarning: \n",
      "A value is trying to be set on a copy of a slice from a DataFrame.\n",
      "Try using .loc[row_indexer,col_indexer] = value instead\n",
      "\n",
      "See the caveats in the documentation: http://pandas.pydata.org/pandas-docs/stable/indexing.html#indexing-view-versus-copy\n",
      "  This is separate from the ipykernel package so we can avoid doing imports until\n",
      "/usr/local/lib/python2.7/dist-packages/ipykernel_launcher.py:7: SettingWithCopyWarning: \n",
      "A value is trying to be set on a copy of a slice from a DataFrame.\n",
      "Try using .loc[row_indexer,col_indexer] = value instead\n",
      "\n",
      "See the caveats in the documentation: http://pandas.pydata.org/pandas-docs/stable/indexing.html#indexing-view-versus-copy\n",
      "  import sys\n",
      "/usr/local/lib/python2.7/dist-packages/ipykernel_launcher.py:8: SettingWithCopyWarning: \n",
      "A value is trying to be set on a copy of a slice from a DataFrame.\n",
      "Try using .loc[row_indexer,col_indexer] = value instead\n",
      "\n",
      "See the caveats in the documentation: http://pandas.pydata.org/pandas-docs/stable/indexing.html#indexing-view-versus-copy\n",
      "  \n"
     ]
    },
    {
     "data": {
      "text/html": [
       "<div>\n",
       "<style scoped>\n",
       "    .dataframe tbody tr th:only-of-type {\n",
       "        vertical-align: middle;\n",
       "    }\n",
       "\n",
       "    .dataframe tbody tr th {\n",
       "        vertical-align: top;\n",
       "    }\n",
       "\n",
       "    .dataframe thead th {\n",
       "        text-align: right;\n",
       "    }\n",
       "</style>\n",
       "<table border=\"1\" class=\"dataframe\">\n",
       "  <thead>\n",
       "    <tr style=\"text-align: right;\">\n",
       "      <th></th>\n",
       "      <th>sentence</th>\n",
       "      <th>sentiment</th>\n",
       "      <th>polarity</th>\n",
       "    </tr>\n",
       "  </thead>\n",
       "  <tbody>\n",
       "    <tr>\n",
       "      <th>0</th>\n",
       "      <td>CC</td>\n",
       "      <td>1</td>\n",
       "      <td>2</td>\n",
       "    </tr>\n",
       "    <tr>\n",
       "      <th>1</th>\n",
       "      <td>AC</td>\n",
       "      <td>9</td>\n",
       "      <td>3</td>\n",
       "    </tr>\n",
       "    <tr>\n",
       "      <th>2</th>\n",
       "      <td>TG</td>\n",
       "      <td>7</td>\n",
       "      <td>5</td>\n",
       "    </tr>\n",
       "    <tr>\n",
       "      <th>3</th>\n",
       "      <td>AA</td>\n",
       "      <td>1</td>\n",
       "      <td>1</td>\n",
       "    </tr>\n",
       "    <tr>\n",
       "      <th>4</th>\n",
       "      <td>GG</td>\n",
       "      <td>1</td>\n",
       "      <td>3</td>\n",
       "    </tr>\n",
       "  </tbody>\n",
       "</table>\n",
       "</div>"
      ],
      "text/plain": [
       "  sentence sentiment  polarity\n",
       "0       CC         1         2\n",
       "1       AC         9         3\n",
       "2       TG         7         5\n",
       "3       AA         1         1\n",
       "4       GG         1         3"
      ]
     },
     "execution_count": 20,
     "metadata": {
      "tags": []
     },
     "output_type": "execute_result"
    }
   ],
   "source": [
    "# train_df2 = train_df[0:5]\n",
    "# train_df2[\"sentence\"] = ['AA','AT','CT','TA','GG']\n",
    "# train_df2[\"polarity\"] = [5,1,2,8,3]\n",
    "# train_df2\n",
    "\n",
    "# test_df2 = test_df[0:5]\n",
    "# test_df2[\"sentence\"] = ['CC','AC','TG','AA','GG']\n",
    "# test_df2[\"polarity\"] = [2,3,5,1,3]\n",
    "# test_df2\n",
    "\n"
   ]
  },
  {
   "cell_type": "markdown",
   "metadata": {
    "colab_type": "text",
    "id": "D9Xq4x1mU3un"
   },
   "source": [
    "## Model\n",
    "### Input functions\n",
    "\n",
    "[Estimator framework](https://www.tensorflow.org/get_started/premade_estimators#overview_of_programming_with_estimators) provides [input functions](https://www.tensorflow.org/api_docs/python/tf/estimator/inputs/pandas_input_fn) that wrap Pandas dataframes."
   ]
  },
  {
   "cell_type": "code",
   "execution_count": 0,
   "metadata": {
    "cellView": "both",
    "colab": {
     "autoexec": {
      "startup": false,
      "wait_interval": 0
     }
    },
    "colab_type": "code",
    "id": "25rdoEHih0fm"
   },
   "outputs": [],
   "source": [
    "\n",
    "\n",
    "\n",
    "# # Training input on the whole training set with no limit on training epochs.\n",
    "# train_input_fn = tf.estimator.inputs.pandas_input_fn(\n",
    "#     train_df2, train_df2[\"polarity\"], num_epochs=None, shuffle=True)\n",
    "\n",
    "# # Prediction on the whole training set.\n",
    "# predict_train_input_fn = tf.estimator.inputs.pandas_input_fn(\n",
    "#     train_df2, train_df2[\"polarity\"], shuffle=False)\n",
    "# # Prediction on the test set.\n",
    "# predict_test_input_fn = tf.estimator.inputs.pandas_input_fn(\n",
    "#     test_df2, test_df2[\"polarity\"], shuffle=False)"
   ]
  },
  {
   "cell_type": "code",
   "execution_count": 25,
   "metadata": {},
   "outputs": [],
   "source": [
    "# train_input_fn = tf.estimator.inputs.pandas_input_fn(\n",
    "#     train_df, train_df[\"effect\"], num_epochs=None, shuffle=True)\n",
    "\n",
    "# # Prediction on the whole training set.\n",
    "# predict_train_input_fn = tf.estimator.inputs.pandas_input_fn(\n",
    "#     train_df, train_df[\"effect\"], shuffle=False)\n",
    "# # Prediction on the test set.\n",
    "# predict_test_input_fn = tf.estimator.inputs.pandas_input_fn(\n",
    "#     test_df, test_df[\"effect\"], shuffle=False)"
   ]
  },
  {
   "cell_type": "markdown",
   "metadata": {
    "colab_type": "text",
    "id": "Uyl6YGRcVAwP"
   },
   "source": [
    "### Feature columns\n",
    "\n",
    "TF-Hub provides a [feature column](https://github.com/tensorflow/hub/blob/master/docs/api_docs/python/hub/text_embedding_column.md) that applies a module on the given text feature and passes further the outputs of the module. In this tutorial we will be using the [nnlm-en-dim128 module](https://tfhub.dev/google/nnlm-en-dim128/1). For the purpose of this tutorial, the most important facts are:\n",
    "\n",
    "* The module takes **a batch of sentences in a 1-D tensor of strings** as input.\n",
    "* The module is responsible for **preprocessing of sentences** (e.g. removal of punctuation and splitting on spaces).\n",
    "* The module works with any input (e.g. **nnlm-en-dim128** hashes words not present in vocabulary into ~20.000 buckets)."
   ]
  },
  {
   "cell_type": "code",
   "execution_count": 26,
   "metadata": {
    "colab": {
     "autoexec": {
      "startup": false,
      "wait_interval": 0
     }
    },
    "colab_type": "code",
    "id": "X7vyvj-hDEXu"
   },
   "outputs": [
    {
     "ename": "NameError",
     "evalue": "name 'hub' is not defined",
     "output_type": "error",
     "traceback": [
      "\u001b[0;31m---------------------------------------------------------------------------\u001b[0m",
      "\u001b[0;31mNameError\u001b[0m                                 Traceback (most recent call last)",
      "\u001b[0;32m<ipython-input-26-1b0587210247>\u001b[0m in \u001b[0;36m<module>\u001b[0;34m()\u001b[0m\n\u001b[0;32m----> 1\u001b[0;31m embedded_text_feature_column = hub.text_embedding_column(\n\u001b[0m\u001b[1;32m      2\u001b[0m     \u001b[0mkey\u001b[0m\u001b[0;34m=\u001b[0m\u001b[0;34m\"sentence\"\u001b[0m\u001b[0;34m,\u001b[0m\u001b[0;34m\u001b[0m\u001b[0m\n\u001b[1;32m      3\u001b[0m     module_spec=\"https://tfhub.dev/google/nnlm-en-dim128/1\")\n",
      "\u001b[0;31mNameError\u001b[0m: name 'hub' is not defined"
     ]
    }
   ],
   "source": [
    "# embedded_text_feature_column = hub.text_embedding_column(\n",
    "#     key=\"sentence\", \n",
    "#     module_spec=\"https://tfhub.dev/google/nnlm-en-dim128/1\")"
   ]
  },
  {
   "cell_type": "code",
   "execution_count": 112,
   "metadata": {},
   "outputs": [
    {
     "data": {
      "text/html": [
       "<div>\n",
       "<style>\n",
       "    .dataframe thead tr:only-child th {\n",
       "        text-align: right;\n",
       "    }\n",
       "\n",
       "    .dataframe thead th {\n",
       "        text-align: left;\n",
       "    }\n",
       "\n",
       "    .dataframe tbody tr th {\n",
       "        vertical-align: top;\n",
       "    }\n",
       "</style>\n",
       "<table border=\"1\" class=\"dataframe\">\n",
       "  <thead>\n",
       "    <tr style=\"text-align: right;\">\n",
       "      <th></th>\n",
       "      <th>sequence</th>\n",
       "      <th>effect</th>\n",
       "      <th>feature</th>\n",
       "    </tr>\n",
       "  </thead>\n",
       "  <tbody>\n",
       "    <tr>\n",
       "      <th>462398</th>\n",
       "      <td>GCAGTTGCCAGAACTGCCCAAGG</td>\n",
       "      <td>-5</td>\n",
       "      <td>[71, 67, 65, 71, 84, 84, 71, 67, 67, 65, 71, 6...</td>\n",
       "    </tr>\n",
       "    <tr>\n",
       "      <th>870655</th>\n",
       "      <td>ACTTACCCACGTGATCCGGCCGG</td>\n",
       "      <td>-7</td>\n",
       "      <td>[65, 67, 84, 84, 65, 67, 67, 67, 65, 67, 71, 8...</td>\n",
       "    </tr>\n",
       "    <tr>\n",
       "      <th>513826</th>\n",
       "      <td>GCAGCCTCCTGCACAGCTGAGGG</td>\n",
       "      <td>8</td>\n",
       "      <td>[71, 67, 65, 71, 67, 67, 84, 67, 67, 84, 71, 6...</td>\n",
       "    </tr>\n",
       "    <tr>\n",
       "      <th>1016736</th>\n",
       "      <td>ACTTGGTGCATTACTGCGGATGG</td>\n",
       "      <td>1</td>\n",
       "      <td>[65, 67, 84, 84, 71, 71, 84, 71, 67, 65, 84, 8...</td>\n",
       "    </tr>\n",
       "    <tr>\n",
       "      <th>600329</th>\n",
       "      <td>TTGGAAAGAAGTCTGATCGGCGG</td>\n",
       "      <td>-2</td>\n",
       "      <td>[84, 84, 71, 71, 65, 65, 65, 71, 65, 65, 71, 8...</td>\n",
       "    </tr>\n",
       "  </tbody>\n",
       "</table>\n",
       "</div>"
      ],
      "text/plain": [
       "                        sequence  effect  \\\n",
       "462398   GCAGTTGCCAGAACTGCCCAAGG      -5   \n",
       "870655   ACTTACCCACGTGATCCGGCCGG      -7   \n",
       "513826   GCAGCCTCCTGCACAGCTGAGGG       8   \n",
       "1016736  ACTTGGTGCATTACTGCGGATGG       1   \n",
       "600329   TTGGAAAGAAGTCTGATCGGCGG      -2   \n",
       "\n",
       "                                                   feature  \n",
       "462398   [71, 67, 65, 71, 84, 84, 71, 67, 67, 65, 71, 6...  \n",
       "870655   [65, 67, 84, 84, 65, 67, 67, 67, 65, 67, 71, 8...  \n",
       "513826   [71, 67, 65, 71, 67, 67, 84, 67, 67, 84, 71, 6...  \n",
       "1016736  [65, 67, 84, 84, 71, 71, 84, 71, 67, 65, 84, 8...  \n",
       "600329   [84, 84, 71, 71, 65, 65, 65, 71, 65, 65, 71, 8...  "
      ]
     },
     "execution_count": 112,
     "metadata": {},
     "output_type": "execute_result"
    }
   ],
   "source": [
    "res = []\n",
    "for i in train_df[\"sequence\"]:\n",
    "    x =  map(lambda x: ord(x),i)\n",
    "    res.append(x)\n",
    "\n",
    "train_df['feature'] = res\n",
    "train_df.head()"
   ]
  },
  {
   "cell_type": "code",
   "execution_count": null,
   "metadata": {},
   "outputs": [],
   "source": []
  },
  {
   "cell_type": "code",
   "execution_count": 113,
   "metadata": {},
   "outputs": [],
   "source": [
    "train_df_features = pd.concat([train_df[['sequence','effect']], train_df['feature'].apply(pd.Series)],axis=1)"
   ]
  },
  {
   "cell_type": "code",
   "execution_count": 114,
   "metadata": {},
   "outputs": [],
   "source": [
    "res = []\n",
    "for i in test_df[\"sequence\"]:\n",
    "    x =  map(lambda x: ord(x),i)\n",
    "    res.append(x)\n",
    "test_df['feature'] = res\n",
    "test_df_features = pd.concat([test_df[['sequence','effect']], test_df['feature'].apply(pd.Series)],axis=1)"
   ]
  },
  {
   "cell_type": "code",
   "execution_count": 115,
   "metadata": {},
   "outputs": [],
   "source": [
    "train_df_features.columns = [\"f\" + str(col) for col in train_df_features.columns]\n",
    "test_df_features.columns = [\"f\" + str(col) for col in test_df_features.columns]"
   ]
  },
  {
   "cell_type": "code",
   "execution_count": 118,
   "metadata": {},
   "outputs": [
    {
     "data": {
      "text/html": [
       "<div>\n",
       "<style>\n",
       "    .dataframe thead tr:only-child th {\n",
       "        text-align: right;\n",
       "    }\n",
       "\n",
       "    .dataframe thead th {\n",
       "        text-align: left;\n",
       "    }\n",
       "\n",
       "    .dataframe tbody tr th {\n",
       "        vertical-align: top;\n",
       "    }\n",
       "</style>\n",
       "<table border=\"1\" class=\"dataframe\">\n",
       "  <thead>\n",
       "    <tr style=\"text-align: right;\">\n",
       "      <th></th>\n",
       "      <th>fsequence</th>\n",
       "      <th>feffect</th>\n",
       "      <th>f0</th>\n",
       "      <th>f1</th>\n",
       "      <th>f2</th>\n",
       "      <th>f3</th>\n",
       "      <th>f4</th>\n",
       "      <th>f5</th>\n",
       "      <th>f6</th>\n",
       "      <th>f7</th>\n",
       "      <th>...</th>\n",
       "      <th>f13</th>\n",
       "      <th>f14</th>\n",
       "      <th>f15</th>\n",
       "      <th>f16</th>\n",
       "      <th>f17</th>\n",
       "      <th>f18</th>\n",
       "      <th>f19</th>\n",
       "      <th>f20</th>\n",
       "      <th>f21</th>\n",
       "      <th>f22</th>\n",
       "    </tr>\n",
       "  </thead>\n",
       "  <tbody>\n",
       "    <tr>\n",
       "      <th>462398</th>\n",
       "      <td>GCAGTTGCCAGAACTGCCCAAGG</td>\n",
       "      <td>-5</td>\n",
       "      <td>71</td>\n",
       "      <td>67</td>\n",
       "      <td>65</td>\n",
       "      <td>71</td>\n",
       "      <td>84</td>\n",
       "      <td>84</td>\n",
       "      <td>71</td>\n",
       "      <td>67</td>\n",
       "      <td>...</td>\n",
       "      <td>67</td>\n",
       "      <td>84</td>\n",
       "      <td>71</td>\n",
       "      <td>67</td>\n",
       "      <td>67</td>\n",
       "      <td>67</td>\n",
       "      <td>65</td>\n",
       "      <td>65</td>\n",
       "      <td>71</td>\n",
       "      <td>71</td>\n",
       "    </tr>\n",
       "    <tr>\n",
       "      <th>870655</th>\n",
       "      <td>ACTTACCCACGTGATCCGGCCGG</td>\n",
       "      <td>-7</td>\n",
       "      <td>65</td>\n",
       "      <td>67</td>\n",
       "      <td>84</td>\n",
       "      <td>84</td>\n",
       "      <td>65</td>\n",
       "      <td>67</td>\n",
       "      <td>67</td>\n",
       "      <td>67</td>\n",
       "      <td>...</td>\n",
       "      <td>65</td>\n",
       "      <td>84</td>\n",
       "      <td>67</td>\n",
       "      <td>67</td>\n",
       "      <td>71</td>\n",
       "      <td>71</td>\n",
       "      <td>67</td>\n",
       "      <td>67</td>\n",
       "      <td>71</td>\n",
       "      <td>71</td>\n",
       "    </tr>\n",
       "    <tr>\n",
       "      <th>513826</th>\n",
       "      <td>GCAGCCTCCTGCACAGCTGAGGG</td>\n",
       "      <td>8</td>\n",
       "      <td>71</td>\n",
       "      <td>67</td>\n",
       "      <td>65</td>\n",
       "      <td>71</td>\n",
       "      <td>67</td>\n",
       "      <td>67</td>\n",
       "      <td>84</td>\n",
       "      <td>67</td>\n",
       "      <td>...</td>\n",
       "      <td>67</td>\n",
       "      <td>65</td>\n",
       "      <td>71</td>\n",
       "      <td>67</td>\n",
       "      <td>84</td>\n",
       "      <td>71</td>\n",
       "      <td>65</td>\n",
       "      <td>71</td>\n",
       "      <td>71</td>\n",
       "      <td>71</td>\n",
       "    </tr>\n",
       "    <tr>\n",
       "      <th>1016736</th>\n",
       "      <td>ACTTGGTGCATTACTGCGGATGG</td>\n",
       "      <td>1</td>\n",
       "      <td>65</td>\n",
       "      <td>67</td>\n",
       "      <td>84</td>\n",
       "      <td>84</td>\n",
       "      <td>71</td>\n",
       "      <td>71</td>\n",
       "      <td>84</td>\n",
       "      <td>71</td>\n",
       "      <td>...</td>\n",
       "      <td>67</td>\n",
       "      <td>84</td>\n",
       "      <td>71</td>\n",
       "      <td>67</td>\n",
       "      <td>71</td>\n",
       "      <td>71</td>\n",
       "      <td>65</td>\n",
       "      <td>84</td>\n",
       "      <td>71</td>\n",
       "      <td>71</td>\n",
       "    </tr>\n",
       "    <tr>\n",
       "      <th>600329</th>\n",
       "      <td>TTGGAAAGAAGTCTGATCGGCGG</td>\n",
       "      <td>-2</td>\n",
       "      <td>84</td>\n",
       "      <td>84</td>\n",
       "      <td>71</td>\n",
       "      <td>71</td>\n",
       "      <td>65</td>\n",
       "      <td>65</td>\n",
       "      <td>65</td>\n",
       "      <td>71</td>\n",
       "      <td>...</td>\n",
       "      <td>84</td>\n",
       "      <td>71</td>\n",
       "      <td>65</td>\n",
       "      <td>84</td>\n",
       "      <td>67</td>\n",
       "      <td>71</td>\n",
       "      <td>71</td>\n",
       "      <td>67</td>\n",
       "      <td>71</td>\n",
       "      <td>71</td>\n",
       "    </tr>\n",
       "  </tbody>\n",
       "</table>\n",
       "<p>5 rows × 25 columns</p>\n",
       "</div>"
      ],
      "text/plain": [
       "                       fsequence  feffect  f0  f1  f2  f3  f4  f5  f6  f7  \\\n",
       "462398   GCAGTTGCCAGAACTGCCCAAGG       -5  71  67  65  71  84  84  71  67   \n",
       "870655   ACTTACCCACGTGATCCGGCCGG       -7  65  67  84  84  65  67  67  67   \n",
       "513826   GCAGCCTCCTGCACAGCTGAGGG        8  71  67  65  71  67  67  84  67   \n",
       "1016736  ACTTGGTGCATTACTGCGGATGG        1  65  67  84  84  71  71  84  71   \n",
       "600329   TTGGAAAGAAGTCTGATCGGCGG       -2  84  84  71  71  65  65  65  71   \n",
       "\n",
       "        ...   f13  f14  f15  f16  f17  f18  f19  f20  f21  f22  \n",
       "462398  ...    67   84   71   67   67   67   65   65   71   71  \n",
       "870655  ...    65   84   67   67   71   71   67   67   71   71  \n",
       "513826  ...    67   65   71   67   84   71   65   71   71   71  \n",
       "1016736 ...    67   84   71   67   71   71   65   84   71   71  \n",
       "600329  ...    84   71   65   84   67   71   71   67   71   71  \n",
       "\n",
       "[5 rows x 25 columns]"
      ]
     },
     "execution_count": 118,
     "metadata": {},
     "output_type": "execute_result"
    }
   ],
   "source": [
    "train_df_features.head()"
   ]
  },
  {
   "cell_type": "code",
   "execution_count": 120,
   "metadata": {},
   "outputs": [],
   "source": [
    "train_df_features['feffect'] += 10\n",
    "test_df_features['feffect'] += 10"
   ]
  },
  {
   "cell_type": "code",
   "execution_count": 127,
   "metadata": {},
   "outputs": [],
   "source": [
    "f1 = tf.feature_column.numeric_column('f1')\n",
    "f2 = tf.feature_column.numeric_column('f2')\n",
    "\n",
    "features = []\n",
    "for i in range(23):\n",
    "    features.append(tf.feature_column.numeric_column('f' + str(i)))"
   ]
  },
  {
   "cell_type": "code",
   "execution_count": null,
   "metadata": {},
   "outputs": [],
   "source": []
  },
  {
   "cell_type": "code",
   "execution_count": null,
   "metadata": {},
   "outputs": [],
   "source": []
  },
  {
   "cell_type": "markdown",
   "metadata": {
    "colab_type": "text",
    "id": "YPuHgx3BWBOg"
   },
   "source": [
    "### Estimator\n",
    "\n",
    "For classification we can use a [DNN Classifier](https://www.tensorflow.org/api_docs/python/tf/estimator/DNNClassifier) (note further remarks about different modelling of the label function at the end of the tutorial)."
   ]
  },
  {
   "cell_type": "code",
   "execution_count": 0,
   "metadata": {
    "colab": {
     "autoexec": {
      "startup": false,
      "wait_interval": 0
     }
    },
    "colab_type": "code",
    "id": "23U30yEkVq4w"
   },
   "outputs": [],
   "source": [
    "# estimator = tf.estimator.DNNClassifier(\n",
    "#     hidden_units=[500, 100],\n",
    "#     feature_columns=[embedded_text_feature_column],\n",
    "#     n_classes=20,\n",
    "#     optimizer=tf.train.AdagradOptimizer(learning_rate=0.003))"
   ]
  },
  {
   "cell_type": "code",
   "execution_count": 130,
   "metadata": {},
   "outputs": [
    {
     "name": "stdout",
     "output_type": "stream",
     "text": [
      "INFO:tensorflow:Using default config.\n",
      "WARNING:tensorflow:Using temporary folder as model directory: /var/folders/_p/9cn00__950j9s_vqrlsf3t_c0000gn/T/tmpL6ujhj\n",
      "INFO:tensorflow:Using config: {'_save_checkpoints_secs': 600, '_session_config': None, '_keep_checkpoint_max': 5, '_task_type': 'worker', '_is_chief': True, '_cluster_spec': <tensorflow.python.training.server_lib.ClusterSpec object at 0x1a2a0ec610>, '_save_checkpoints_steps': None, '_keep_checkpoint_every_n_hours': 10000, '_service': None, '_num_ps_replicas': 0, '_tf_random_seed': None, '_master': '', '_num_worker_replicas': 1, '_task_id': 0, '_log_step_count_steps': 100, '_model_dir': '/var/folders/_p/9cn00__950j9s_vqrlsf3t_c0000gn/T/tmpL6ujhj', '_save_summary_steps': 100}\n"
     ]
    }
   ],
   "source": [
    "estimator = tf.estimator.DNNClassifier(\n",
    "    hidden_units=[500, 100],\n",
    "    feature_columns=features,\n",
    "    n_classes=21,\n",
    "    optimizer=tf.train.AdagradOptimizer(learning_rate=0.003))"
   ]
  },
  {
   "cell_type": "code",
   "execution_count": null,
   "metadata": {},
   "outputs": [],
   "source": []
  },
  {
   "cell_type": "code",
   "execution_count": 136,
   "metadata": {},
   "outputs": [],
   "source": [
    "features_lst = ['f' + str(i) for i in range(23)]"
   ]
  },
  {
   "cell_type": "code",
   "execution_count": null,
   "metadata": {},
   "outputs": [],
   "source": []
  },
  {
   "cell_type": "code",
   "execution_count": 138,
   "metadata": {},
   "outputs": [],
   "source": [
    "train_input_fn = tf.estimator.inputs.pandas_input_fn(\n",
    "    train_df_features[features_lst], train_df_features[\"feffect\"], num_epochs=None, shuffle=True)\n",
    "\n",
    "# Prediction on the whole training set.\n",
    "predict_train_input_fn = tf.estimator.inputs.pandas_input_fn(\n",
    "    train_df_features[features_lst], train_df_features[\"feffect\"], shuffle=False)\n",
    "# Prediction on the test set.\n",
    "predict_test_input_fn = tf.estimator.inputs.pandas_input_fn(\n",
    "    test_df_features[features_lst], test_df_features[\"feffect\"], shuffle=False)"
   ]
  },
  {
   "cell_type": "markdown",
   "metadata": {
    "colab_type": "text",
    "id": "-O_k-8jgWPXY"
   },
   "source": [
    "### Training\n",
    "\n",
    "Train the estimator for a reasonable amount of steps."
   ]
  },
  {
   "cell_type": "code",
   "execution_count": 139,
   "metadata": {
    "colab": {
     "autoexec": {
      "startup": false,
      "wait_interval": 0
     }
    },
    "colab_type": "code",
    "id": "e5uDRv1r7Ed4"
   },
   "outputs": [
    {
     "name": "stdout",
     "output_type": "stream",
     "text": [
      "INFO:tensorflow:Create CheckpointSaverHook.\n",
      "INFO:tensorflow:Saving checkpoints for 1 into /var/folders/_p/9cn00__950j9s_vqrlsf3t_c0000gn/T/tmpL6ujhj/model.ckpt.\n",
      "INFO:tensorflow:loss = 4168.0967, step = 1\n",
      "INFO:tensorflow:global_step/sec: 128.67\n",
      "INFO:tensorflow:loss = 411.91837, step = 101 (0.781 sec)\n",
      "INFO:tensorflow:global_step/sec: 140.182\n",
      "INFO:tensorflow:loss = 393.4706, step = 201 (0.712 sec)\n",
      "INFO:tensorflow:global_step/sec: 134.804\n",
      "INFO:tensorflow:loss = 386.15192, step = 301 (0.741 sec)\n",
      "INFO:tensorflow:global_step/sec: 144.954\n",
      "INFO:tensorflow:loss = 396.63092, step = 401 (0.694 sec)\n",
      "INFO:tensorflow:global_step/sec: 147.679\n",
      "INFO:tensorflow:loss = 388.5687, step = 501 (0.676 sec)\n",
      "INFO:tensorflow:global_step/sec: 145.626\n",
      "INFO:tensorflow:loss = 378.2596, step = 601 (0.686 sec)\n",
      "INFO:tensorflow:global_step/sec: 147.21\n",
      "INFO:tensorflow:loss = 388.44983, step = 701 (0.684 sec)\n",
      "INFO:tensorflow:global_step/sec: 135.44\n",
      "INFO:tensorflow:loss = 388.22748, step = 801 (0.733 sec)\n",
      "INFO:tensorflow:global_step/sec: 113.971\n",
      "INFO:tensorflow:loss = 389.11368, step = 901 (0.881 sec)\n",
      "INFO:tensorflow:Saving checkpoints for 1000 into /var/folders/_p/9cn00__950j9s_vqrlsf3t_c0000gn/T/tmpL6ujhj/model.ckpt.\n",
      "INFO:tensorflow:Loss for final step: 385.7578.\n"
     ]
    }
   ],
   "source": [
    "# Training for 1,000 steps means 128,000 training examples with the default\n",
    "# batch size. This is roughly equivalent to 5 epochs since the training dataset\n",
    "# contains 25,000 examples.\n",
    "estimator.train(input_fn=train_input_fn, steps=1000);"
   ]
  },
  {
   "cell_type": "markdown",
   "metadata": {
    "colab_type": "text",
    "id": "s8j7YTRSe7Pj"
   },
   "source": [
    "# Prediction\n",
    "\n",
    "Run predictions for both training and test set."
   ]
  },
  {
   "cell_type": "code",
   "execution_count": 140,
   "metadata": {
    "colab": {
     "autoexec": {
      "startup": false,
      "wait_interval": 0
     },
     "base_uri": "https://localhost:8080/",
     "height": 51
    },
    "colab_type": "code",
    "executionInfo": {
     "elapsed": 5885,
     "status": "ok",
     "timestamp": 1523134483405,
     "user": {
      "displayName": "",
      "photoUrl": "",
      "userId": ""
     },
     "user_tz": 240
    },
    "id": "zbLg5LzGwAfC",
    "outputId": "5c0f5f7a-8911-4934-fdbe-f7394d0e074f"
   },
   "outputs": [
    {
     "name": "stdout",
     "output_type": "stream",
     "text": [
      "INFO:tensorflow:Starting evaluation at 2018-04-07-22:20:38\n",
      "INFO:tensorflow:Restoring parameters from /var/folders/_p/9cn00__950j9s_vqrlsf3t_c0000gn/T/tmpL6ujhj/model.ckpt-1000\n",
      "INFO:tensorflow:Finished evaluation at 2018-04-07-22:20:44\n",
      "INFO:tensorflow:Saving dict for global step 1000: accuracy = 0.08005188, average_loss = 2.9908772, global_step = 1000, loss = 382.4566\n",
      "INFO:tensorflow:Starting evaluation at 2018-04-07-22:20:46\n",
      "INFO:tensorflow:Restoring parameters from /var/folders/_p/9cn00__950j9s_vqrlsf3t_c0000gn/T/tmpL6ujhj/model.ckpt-1000\n",
      "INFO:tensorflow:Finished evaluation at 2018-04-07-22:20:47\n",
      "INFO:tensorflow:Saving dict for global step 1000: accuracy = 0.07, average_loss = 2.982203, global_step = 1000, loss = 298.2203\n",
      "Training set accuracy: 0.0800518766046\n",
      "Test set accuracy: 0.070000000298\n"
     ]
    }
   ],
   "source": [
    "train_eval_result = estimator.evaluate(input_fn=predict_train_input_fn)\n",
    "test_eval_result = estimator.evaluate(input_fn=predict_test_input_fn)\n",
    "\n",
    "print \"Training set accuracy: {accuracy}\".format(**train_eval_result)\n",
    "print \"Test set accuracy: {accuracy}\".format(**test_eval_result)"
   ]
  },
  {
   "cell_type": "markdown",
   "metadata": {
    "colab_type": "text",
    "id": "DR2IsTF5vuAX"
   },
   "source": [
    "## Confusion matrix\n",
    "\n",
    "We can visually check the confusion matrix to undestand the distribution of misclassifications."
   ]
  },
  {
   "cell_type": "code",
   "execution_count": 142,
   "metadata": {
    "colab": {
     "autoexec": {
      "startup": false,
      "wait_interval": 0
     }
    },
    "colab_type": "code",
    "id": "nT71CtArpsKz"
   },
   "outputs": [],
   "source": [
    "# def get_predictions(estimator, input_fn):\n",
    "#   return [x[\"class_ids\"][0] for x in estimator.predict(input_fn=input_fn)]\n",
    "\n",
    "# LABELS = [\n",
    "#     \"negative\", \"positive\"\n",
    "# ]\n",
    "\n",
    "# # Create a confusion matrix on training data.\n",
    "# with tf.Graph().as_default():\n",
    "#   cm = tf.confusion_matrix(train_df[\"polarity\"], \n",
    "#                            get_predictions(estimator, predict_train_input_fn))\n",
    "#   with tf.Session() as session:\n",
    "#     cm_out = session.run(cm)\n",
    "\n",
    "# # Normalize the confusion matrix so that each row sums to 1.\n",
    "# cm_out = cm_out.astype(float) / cm_out.sum(axis=1)[:, np.newaxis]\n",
    "\n",
    "# sns.heatmap(cm_out, annot=True, xticklabels=LABELS, yticklabels=LABELS);\n",
    "# plt.xlabel(\"Predicted\");\n",
    "# plt.ylabel(\"True\");"
   ]
  },
  {
   "cell_type": "code",
   "execution_count": null,
   "metadata": {},
   "outputs": [],
   "source": [
    "def get_predictions(estimator, input_fn):\n",
    "  return [x[\"class_ids\"][0] for x in estimator.predict(input_fn=input_fn)]\n",
    "\n",
    "LABELS = [\n",
    "    \"negative\", \"positive\"\n",
    "]\n",
    "\n",
    "# Create a confusion matrix on training data.\n",
    "with tf.Graph().as_default():\n",
    "  cm = tf.confusion_matrix(train_df[\"polarity\"], \n",
    "                           get_predictions(estimator, predict_train_input_fn))\n",
    "  with tf.Session() as session:\n",
    "    cm_out = session.run(cm)\n",
    "\n",
    "# Normalize the confusion matrix so that each row sums to 1.\n",
    "cm_out = cm_out.astype(float) / cm_out.sum(axis=1)[:, np.newaxis]\n",
    "\n",
    "sns.heatmap(cm_out, annot=True, xticklabels=LABELS, yticklabels=LABELS);\n",
    "plt.xlabel(\"Predicted\");\n",
    "plt.ylabel(\"True\");"
   ]
  },
  {
   "cell_type": "markdown",
   "metadata": {
    "colab_type": "text",
    "id": "sG-ES55Ftp-t"
   },
   "source": [
    "# Further improvements\n",
    "\n",
    "1. **Regression on sentiment**: we used a classifier to assign each example into a polarity class. But we actually have another categorical feature at our disposal - sentiment. Here classes actually represent a scale and the underlying value (positive/negative) could be well mapped into a continuous range. We could make use of this property by computing a regression ([DNN Regressor](https://www.tensorflow.org/api_docs/python/tf/contrib/learn/DNNRegressor)) instead of a classification ([DNN Classifier](https://www.tensorflow.org/api_docs/python/tf/contrib/learn/DNNClassifier)).\n",
    "2. **Larger module**: for the purposes of this tutorial we used a small module to restrict the memory use. There are modules with larger vocabularies and larger embedding space that could give additional accuracy points.\n",
    "3. **Parameter tuning**: we can improve the accuracy by tuning the meta-parameters like the learning rate or the number of steps, especially if we use a different module. A validation set is very important if we want to get any reasonable results, because it is very easy to set-up a model that learns to predict the training data without generalizing well to the test set.\n",
    "4. **More complex model**: we used a module that computes a sentence embedding by embedding each individual word and then combining them with average. One could also use a sequential module (e.g. [Universal Sentence Encoder](https://tfhub.dev/google/universal-sentence-encoder/1) module) to better capture the nature of sentences. Or an ensemble of two or more TF-Hub modules.\n",
    "5. **Regularization**: to prevent overfitting, we could try to use an optimizer that does some sort of regularization, for example [Proximal Adagrad Optimizer](https://www.tensorflow.org/api_docs/python/tf/train/ProximalAdagradOptimizer).\n"
   ]
  },
  {
   "cell_type": "markdown",
   "metadata": {
    "colab_type": "text",
    "id": "fKRNsaO8L50F"
   },
   "source": [
    "# Advanced: Transfer learning analysis\n",
    "\n",
    "Transfer learning makes it possible to **save training resources** and to achieve good model generalization even when **training on a small dataset**. In this part, we will demonstrate this by training with two different TF-Hub modules:\n",
    "\n",
    "* **[nnlm-en-dim128](https://tfhub.dev/google/nnlm-en-dim128/1)** - pretrained text embedding module,\n",
    "* **[random-nnlm-en-dim128](https://tfhub.dev/google/random-nnlm-en-dim128/1)** - text embedding module that has same vocabulary and network as **nnlm-en-dim128**, but the weights were just randomly initialized and never trained on real data.\n",
    "\n",
    "And by training in two modes: \n",
    "\n",
    "* training **only the classifier** (i.e. freezing the module), and \n",
    "* training the **classifier together with the module**.\n",
    "\n",
    "Let's run a couple of trainings and evaluations to see how using a various modules can affect the accuracy."
   ]
  },
  {
   "cell_type": "code",
   "execution_count": 0,
   "metadata": {
    "colab": {
     "autoexec": {
      "startup": false,
      "wait_interval": 0
     }
    },
    "colab_type": "code",
    "id": "AWYa1So1ARyz"
   },
   "outputs": [],
   "source": [
    "def train_and_evaluate_with_module(hub_module, train_module=False):\n",
    "  embedded_text_feature_column = hub.text_embedding_column(\n",
    "      key=\"sentence\", module_spec=hub_module, trainable=train_module)\n",
    "\n",
    "  estimator = tf.estimator.DNNClassifier(\n",
    "      hidden_units=[500, 100],\n",
    "      feature_columns=[embedded_text_feature_column],\n",
    "      n_classes=2,\n",
    "      optimizer=tf.train.AdagradOptimizer(learning_rate=0.003))\n",
    "\n",
    "  estimator.train(input_fn=train_input_fn, steps=1000)\n",
    "\n",
    "  train_eval_result = estimator.evaluate(input_fn=predict_train_input_fn)\n",
    "  test_eval_result = estimator.evaluate(input_fn=predict_test_input_fn)\n",
    "\n",
    "  training_set_accuracy = train_eval_result[\"accuracy\"]\n",
    "  test_set_accuracy = test_eval_result[\"accuracy\"]\n",
    "\n",
    "  return {\n",
    "      \"Training accuracy\": training_set_accuracy,\n",
    "      \"Test accuracy\": test_set_accuracy\n",
    "  }\n",
    "\n",
    "\n",
    "results = {}\n",
    "results[\"nnlm-en-dim128\"] = train_and_evaluate_with_module(\n",
    "    \"https://tfhub.dev/google/nnlm-en-dim128/1\")\n",
    "results[\"nnlm-en-dim128-with-module-training\"] = train_and_evaluate_with_module(\n",
    "    \"https://tfhub.dev/google/nnlm-en-dim128/1\", True)\n",
    "results[\"random-nnlm-en-dim128\"] = train_and_evaluate_with_module(\n",
    "    \"https://tfhub.dev/google/random-nnlm-en-dim128/1\")\n",
    "results[\"random-nnlm-en-dim128-with-module-training\"] = train_and_evaluate_with_module(\n",
    "    \"https://tfhub.dev/google/random-nnlm-en-dim128/1\", True)"
   ]
  },
  {
   "cell_type": "markdown",
   "metadata": {
    "colab_type": "text",
    "id": "CsWppYMphIPh"
   },
   "source": [
    "Let's look at the results."
   ]
  },
  {
   "cell_type": "code",
   "execution_count": 0,
   "metadata": {
    "colab": {
     "autoexec": {
      "startup": false,
      "wait_interval": 0
     }
    },
    "colab_type": "code",
    "id": "UVkdErEKkIXL"
   },
   "outputs": [],
   "source": [
    "pd.DataFrame.from_dict(results, orient=\"index\")"
   ]
  },
  {
   "cell_type": "markdown",
   "metadata": {
    "colab_type": "text",
    "id": "Z9rZ2fuGfUFh"
   },
   "source": [
    "We can already see some patterns, but first we should establish the baseline accuracy of the test set - the lower bound that can be achieved by outputting only the label of the most represented class:"
   ]
  },
  {
   "cell_type": "code",
   "execution_count": 0,
   "metadata": {
    "colab": {
     "autoexec": {
      "startup": false,
      "wait_interval": 0
     }
    },
    "colab_type": "code",
    "id": "IgYPVvc3G6OS"
   },
   "outputs": [],
   "source": [
    "estimator.evaluate(input_fn=predict_test_input_fn)[\"accuracy_baseline\"]"
   ]
  },
  {
   "cell_type": "markdown",
   "metadata": {
    "colab_type": "text",
    "id": "UN4D-DPPrINX"
   },
   "source": [
    "Assigning the most represented class will give us accuracy of **50%**. There are a couple of things to notice here:\n",
    "\n",
    "1. Maybe surprisingly, **a model can still be learned on top of fixed, random embeddings**. The reason is that even if every word in the dictionary is mapped to a random vector, the estimator can separate the space purely using its fully connected layers.\n",
    "2. Allowing training of the module with **random embeddings** increases both training and test accuracy as oposed to training just the classifier.\n",
    "3. Training of the module with **pre-trained embeddings** also increases both accuracies. Note however the overfitting on the training set. Training a pre-trained module can be dangerous even with regularization in the sense that the embedding weights no longer represent the language model trained on diverse data, instead they converge to the ideal representation of the new dataset."
   ]
  }
 ],
 "metadata": {
  "colab": {
   "collapsed_sections": [
    "N6ZDpd9XzFeN"
   ],
   "default_view": {},
   "name": "Copy of Text classification with TF-Hub",
   "provenance": [
    {
     "file_id": "https://github.com/tensorflow/hub/blob/master/examples/colab/text_classification_with_tf_hub.ipynb",
     "timestamp": 1523134556659
    }
   ],
   "version": "0.3.2",
   "views": {}
  },
  "kernelspec": {
   "display_name": "Python 2",
   "language": "python",
   "name": "python2"
  },
  "language_info": {
   "codemirror_mode": {
    "name": "ipython",
    "version": 2
   },
   "file_extension": ".py",
   "mimetype": "text/x-python",
   "name": "python",
   "nbconvert_exporter": "python",
   "pygments_lexer": "ipython2",
   "version": "2.7.12"
  }
 },
 "nbformat": 4,
 "nbformat_minor": 1
}
