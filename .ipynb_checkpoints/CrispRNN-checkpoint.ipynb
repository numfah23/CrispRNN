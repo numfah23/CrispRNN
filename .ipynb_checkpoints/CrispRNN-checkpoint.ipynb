{
 "cells": [
  {
   "cell_type": "code",
   "execution_count": 1,
   "metadata": {},
   "outputs": [
    {
     "name": "stderr",
     "output_type": "stream",
     "text": [
      "/anaconda2/lib/python2.7/site-packages/h5py/__init__.py:34: FutureWarning: Conversion of the second argument of issubdtype from `float` to `np.floating` is deprecated. In future, it will be treated as `np.float64 == np.dtype(float).type`.\n",
      "  from ._conv import register_converters as _register_converters\n"
     ]
    },
    {
     "name": "stdout",
     "output_type": "stream",
     "text": [
      "WARNING:tensorflow:From /anaconda2/lib/python2.7/site-packages/tensorflow/contrib/learn/python/learn/datasets/base.py:198: retry (from tensorflow.contrib.learn.python.learn.datasets.base) is deprecated and will be removed in a future version.\n",
      "Instructions for updating:\n",
      "Use the retry module or similar alternatives.\n"
     ]
    }
   ],
   "source": [
    "import tensorflow as tf\n",
    "from tensorflow.contrib import rnn\n",
    "import numpy as np\n",
    "import pandas as pd\n",
    "import pickle\n",
    "import matplotlib.pyplot as plt\n",
    "import scipy.stats as st"
   ]
  },
  {
   "cell_type": "code",
   "execution_count": 2,
   "metadata": {},
   "outputs": [],
   "source": [
    "%matplotlib inline"
   ]
  },
  {
   "cell_type": "markdown",
   "metadata": {},
   "source": [
    "## Input file names and model parameters"
   ]
  },
  {
   "cell_type": "code",
   "execution_count": 31,
   "metadata": {},
   "outputs": [],
   "source": [
    "#####################################################\n",
    "# input file names and model parameters: edit these\n",
    "#####################################################\n",
    "\n",
    "# prefix for pickle files used in training/validation\n",
    "train_name = \"samplePubMed1\"\n",
    "val_name = \"samplePubMed1\"\n",
    "\n",
    "# can choose to test on either samplePubMed1 or 2 (uncomment one of these)\n",
    "test_name = \"samplePubMed1\"\n",
    "# test_name = \"samplePubMed2\"\n",
    "\n",
    "# for predictions on unlabelled data\n",
    "test_name_unlab = \"sample_unlabelled\"\n",
    "\n",
    "# type of model: either 'regression' or 'classification' (uncomment one of these)\n",
    "    # note: this must match type of model in data preprocessing file\n",
    "model_type = 'regression'\n",
    "# model_type = 'classification'\n",
    "\n",
    "# name of models for training and predicting (can be same or different)\n",
    "model_name_train = 'model_sample_input' # save trained model to this name\n",
    "\n",
    "# load model with this name for val + test predictions (uncomment one of these)\n",
    "model_name_pred = 'model_r_10m' # pre-trained regression\n",
    "# model_name_pred = 'model_c_10m' # pre-trained classification\n",
    "# model_name_pred = model_name_train # predict on model that was just trained\n",
    "\n",
    "\n",
    "# other hyperparameters\n",
    "\n",
    "# learning rate\n",
    "learning_rate = 0.001\n",
    "\n",
    "# number of iterations for training\n",
    "training_steps = 1000\n",
    "\n",
    "# number of iterations for printing out minibatch loss\n",
    "display_step = 50\n",
    "\n",
    "# number of hidden layers in lstm cell\n",
    "num_hidden = 64\n",
    "\n",
    "# intermediate activation function (uncomment one of these)\n",
    "act_fn = tf.nn.tanh\n",
    "# act_fn = tf.nn.relu\n",
    "# act_fn = tf.nn.softmax"
   ]
  },
  {
   "cell_type": "code",
   "execution_count": 32,
   "metadata": {},
   "outputs": [],
   "source": [
    "##################################################################"
   ]
  },
  {
   "cell_type": "code",
   "execution_count": 33,
   "metadata": {},
   "outputs": [],
   "source": [
    "# other network parameters\n",
    "num_input = 4 # len of one hot encoded nt\n",
    "timesteps = 23 # len of seq\n",
    "forget_b = 1\n",
    "batch_size = 1 # don't change this\n",
    "if model_type == 'regression':\n",
    "    num_classes = 1\n",
    "else:\n",
    "    num_classes = 21"
   ]
  },
  {
   "cell_type": "code",
   "execution_count": 34,
   "metadata": {},
   "outputs": [],
   "source": [
    "########################\n",
    "# defining biRNN model\n",
    "########################\n",
    "\n",
    "# reset graph\n",
    "tf.reset_default_graph() \n",
    "\n",
    "# tf graph input\n",
    "X = tf.placeholder(\"float\", [None, timesteps, num_input])\n",
    "Y = tf.placeholder(\"float\", [None, num_classes])\n",
    "\n",
    "# define weights\n",
    "weights = {\n",
    "    # Hidden layer weights => 2*n_hidden because of forward + backward cells\n",
    "    'out': tf.get_variable(\"my_int_variable\", [2*num_hidden, num_classes],\n",
    "  initializer=tf.glorot_uniform_initializer(seed = 23))\n",
    "}\n",
    "biases = {\n",
    "    'out': tf.Variable(tf.random_normal([num_classes]))\n",
    "}\n",
    "\n",
    "# biRNN model\n",
    "def BiRNN(x, weights, biases):\n",
    "\n",
    "    # Prepare data shape to match `rnn` function requirements\n",
    "    # Current data input shape: (batch_size, timesteps, n_input)\n",
    "    # Required shape: 'timesteps' tensors list of shape (batch_size, num_input)\n",
    "\n",
    "    # Unstack to get a list of 'timesteps' tensors of shape (batch_size, num_input)\n",
    "    x = tf.unstack(x, timesteps, 1)\n",
    "\n",
    "    # Forward direction cell\n",
    "    lstm_fw_cell = rnn.BasicLSTMCell(num_hidden, forget_bias=forget_b, activation=act_fn)\n",
    "    # Backward direction cell\n",
    "    lstm_bw_cell = rnn.BasicLSTMCell(num_hidden, forget_bias=forget_b, activation=act_fn)\n",
    "\n",
    "    # Get lstm cell output\n",
    "    try:\n",
    "        outputs, _, _ = rnn.static_bidirectional_rnn(lstm_fw_cell, lstm_bw_cell, x,\n",
    "                                              dtype=tf.float32)\n",
    "    except Exception: # Old TensorFlow version only returns outputs not states\n",
    "        outputs = rnn.static_bidirectional_rnn(lstm_fw_cell, lstm_bw_cell, x,\n",
    "                                        dtype=tf.float32)\n",
    "\n",
    "    # Linear activation, using rnn inner loop last output\n",
    "    out = tf.matmul(outputs[-1], weights['out']) + biases['out']\n",
    "    \n",
    "    if model_type == \"regression\":\n",
    "        # sigmoid result to get output in range [0,1]\n",
    "        return tf.nn.sigmoid(out)\n",
    "    else:\n",
    "        return out\n",
    "\n",
    "# pass through rnn to get predicted effect\n",
    "prediction = BiRNN(X, weights, biases)\n",
    "\n",
    "# define loss and optimizer\n",
    "\n",
    "if model_type == \"regression\":\n",
    "    # use mse\n",
    "    loss_op = tf.reduce_mean(tf.losses.mean_squared_error(labels=Y, predictions=prediction))\n",
    "else:\n",
    "    # use bce\n",
    "    loss_op = tf.reduce_mean(tf.nn.softmax_cross_entropy_with_logits(logits=prediction, labels=Y))\n",
    "    \n",
    "optimizer = tf.train.AdamOptimizer(learning_rate=learning_rate)\n",
    "train_op = optimizer.minimize(loss_op)\n",
    "\n",
    "# for classification, predicted label is argmax\n",
    "if model_type == \"classification\":\n",
    "    prediction = tf.argmax(tf.nn.softmax(prediction), 1)\n",
    "    correct_pred = tf.equal(prediction, tf.argmax(Y, 1))\n",
    "    accuracy = tf.reduce_mean(tf.cast(correct_pred, tf.float32))\n",
    "else:\n",
    "    accuracy = tf.reduce_mean(tf.losses.mean_squared_error(Y, prediction))\n",
    "\n",
    "# init variables\n",
    "init = tf.global_variables_initializer()"
   ]
  },
  {
   "cell_type": "code",
   "execution_count": 35,
   "metadata": {},
   "outputs": [],
   "source": [
    "def get_batch(batch_size, x, y):\n",
    "    i = np.random.randint(0,x.shape[0], size=(batch_size))\n",
    "    return np.array(x[i]), np.array(y[i])"
   ]
  },
  {
   "cell_type": "code",
   "execution_count": 36,
   "metadata": {},
   "outputs": [],
   "source": [
    "##################################################################"
   ]
  },
  {
   "cell_type": "markdown",
   "metadata": {},
   "source": [
    "# Train model"
   ]
  },
  {
   "cell_type": "code",
   "execution_count": 36,
   "metadata": {},
   "outputs": [],
   "source": [
    "# load train data\n",
    "train_data = pickle.load( open( \"data/\" + train_name + \"_train_data.p\", \"rb\" ) )\n",
    "train_labels = pickle.load( open( \"data/\" + train_name + \"_train_labels.p\", \"rb\" ) )"
   ]
  },
  {
   "cell_type": "code",
   "execution_count": 42,
   "metadata": {
    "scrolled": true
   },
   "outputs": [
    {
     "name": "stdout",
     "output_type": "stream",
     "text": [
      "Step 1, Minibatch Loss= 3.1348\n",
      "Step 50, Minibatch Loss= 3.4389\n",
      "Step 100, Minibatch Loss= 4.1524\n",
      "Step 150, Minibatch Loss= 4.9203\n",
      "Step 200, Minibatch Loss= 3.6734\n",
      "Step 250, Minibatch Loss= 2.1637\n",
      "Step 300, Minibatch Loss= 4.6790\n",
      "Step 350, Minibatch Loss= 4.5106\n",
      "Step 400, Minibatch Loss= 2.5695\n",
      "Step 450, Minibatch Loss= 2.1810\n",
      "Step 500, Minibatch Loss= 2.5466\n",
      "Step 550, Minibatch Loss= 3.3194\n",
      "Step 600, Minibatch Loss= 3.3151\n",
      "Step 650, Minibatch Loss= 2.8179\n",
      "Step 700, Minibatch Loss= 2.7569\n",
      "Step 750, Minibatch Loss= 2.7301\n",
      "Step 800, Minibatch Loss= 2.9171\n",
      "Step 850, Minibatch Loss= 2.7806\n",
      "Step 900, Minibatch Loss= 2.9404\n",
      "Step 950, Minibatch Loss= 3.1473\n",
      "Step 1000, Minibatch Loss= 3.0332\n",
      "Optimization Finished!\n"
     ]
    }
   ],
   "source": [
    "###############\n",
    "# train model\n",
    "###############\n",
    "saver = tf.train.Saver()\n",
    "\n",
    "\n",
    "# start training\n",
    "with tf.Session() as sess:\n",
    "\n",
    "    # run the initializer\n",
    "    sess.run(init)\n",
    "    \n",
    "    # things to save during display step + val step\n",
    "    train_losses = []\n",
    "    val_losses = []\n",
    "    \n",
    "    \n",
    "    for step in range(1, training_steps+1):\n",
    "        batch_x, batch_y = get_batch(batch_size, train_data, train_labels)\n",
    "        \n",
    "        # reshape for regression\n",
    "        if model_type == \"regression\":\n",
    "            batch_x = batch_x.reshape((batch_size, timesteps, num_input))\n",
    "            batch_y = batch_y.reshape((batch_size, num_classes))\n",
    "\n",
    "        # Run optimization op (backprop) in every training step\n",
    "        sess.run(train_op, feed_dict={X: batch_x, Y: batch_y})\n",
    "        \n",
    "        # in display step, calc train_losses\n",
    "        if step % display_step == 0 or step == 1:\n",
    "            t_loss = sess.run(loss_op, feed_dict={X: batch_x, Y: batch_y})\n",
    "            train_losses.append(t_loss)\n",
    "        \n",
    "            print(\"Step \" + str(step) + \", Minibatch Loss= \" + \\\n",
    "                  \"{:.4f}\".format(t_loss))\n",
    "        \n",
    "    print(\"Optimization Finished!\")\n",
    "    saver.save(sess, \"models/\"+model_name_train+\".ckpt\")"
   ]
  },
  {
   "cell_type": "markdown",
   "metadata": {},
   "source": [
    "### Plot training loss over time"
   ]
  },
  {
   "cell_type": "code",
   "execution_count": 44,
   "metadata": {},
   "outputs": [
    {
     "data": {
      "image/png": "[encoded data removed]",
      "text/plain": [
       "<Figure size 432x288 with 1 Axes>"
      ]
     },
     "metadata": {},
     "output_type": "display_data"
    }
   ],
   "source": [
    "# plot training loss over time\n",
    "plt.scatter(np.arange(0, training_steps+display_step, display_step), train_losses)\n",
    "plt.xlabel(\"training iteration\")\n",
    "plt.ylabel(\"training loss\")\n",
    "plt.title(\"Training loss over time\")\n",
    "plt.savefig(\"results/train_loss\")"
   ]
  },
  {
   "cell_type": "code",
   "execution_count": 45,
   "metadata": {},
   "outputs": [],
   "source": [
    "# output training loss over time\n",
    "tl_fname = \"results/train_loss.csv\"\n",
    "train_loss_time = np.vstack((np.arange(0, training_steps+display_step, display_step), train_losses)).T\n",
    "np.savetxt(tl_fname, train_loss_time, delimiter=\",\", header=\"Time,Training Loss\")"
   ]
  },
  {
   "cell_type": "code",
   "execution_count": 119,
   "metadata": {},
   "outputs": [],
   "source": [
    "##################################################################"
   ]
  },
  {
   "cell_type": "markdown",
   "metadata": {},
   "source": [
    "# Prediction for validation set"
   ]
  },
  {
   "cell_type": "code",
   "execution_count": 7,
   "metadata": {},
   "outputs": [],
   "source": [
    "# load train data\n",
    "val_data = pickle.load( open( \"data/\" + val_name + \"_val_data.p\", \"rb\" ) )\n",
    "val_labels = pickle.load( open( \"data/\" + val_name + \"_val_labels.p\", \"rb\" ) )"
   ]
  },
  {
   "cell_type": "code",
   "execution_count": 40,
   "metadata": {},
   "outputs": [
    {
     "name": "stdout",
     "output_type": "stream",
     "text": [
      "INFO:tensorflow:Restoring parameters from models/model_c_10m.ckpt\n",
      "Final Validtion Accuracy = 0.2000\n",
      "Final Validation Loss = 2.4804\n"
     ]
    }
   ],
   "source": [
    "###############################################\n",
    "# predictions and accuracy for validation set\n",
    "###############################################\n",
    "\n",
    "saver = tf.train.Saver()\n",
    "\n",
    "with tf.Session() as sess:\n",
    "    saver.restore(sess, \"models/\"+model_name_pred+\".ckpt\")\n",
    "\n",
    "    # Calculate accuracy and predictions for validation set\n",
    "    val_preds = []\n",
    "    val_accs_final = []\n",
    "    val_losses_final = []\n",
    "\n",
    "    for i in range(val_labels.shape[0]/batch_size):\n",
    "        x = val_data[i*batch_size: i*batch_size + batch_size].reshape((batch_size,timesteps, num_input))\n",
    "        y = val_labels[i*batch_size:i*batch_size + batch_size].reshape((batch_size,num_classes))\n",
    "        val_preds.append(sess.run(prediction, feed_dict={X: x}))      \n",
    "        val_accs_final.append(sess.run(accuracy, feed_dict={X: x, Y:y}))\n",
    "        val_losses_final.append(sess.run(loss_op, feed_dict={X: x, Y:y}))\n",
    "    \n",
    "    val_acc_f = np.mean(val_accs_final)\n",
    "    val_loss_f = np.mean(val_losses_final)\n",
    "    \n",
    "    print(\"Final Validtion Accuracy = \" + \"{:.4f}\".format(val_acc_f))\n",
    "    print(\"Final Validation Loss = \" + \"{:.4f}\".format(val_loss_f))\n"
   ]
  },
  {
   "cell_type": "markdown",
   "metadata": {},
   "source": [
    "### Plot for validation set"
   ]
  },
  {
   "cell_type": "code",
   "execution_count": 41,
   "metadata": {},
   "outputs": [
    {
     "data": {
      "image/png": "[encoded data removed]",
      "text/plain": [
       "<Figure size 432x288 with 1 Axes>"
      ]
     },
     "metadata": {},
     "output_type": "display_data"
    }
   ],
   "source": [
    "################\n",
    "# plot for val\n",
    "################\n",
    "vpreds = [v[0] for v in val_preds]\n",
    "vpreds = np.array(vpreds).reshape(len(vpreds),)\n",
    "\n",
    "if model_type == \"regression\":\n",
    "    vl = val_labels.reshape(val_labels.shape[0],)\n",
    "else:\n",
    "    # take argmax for classification\n",
    "    vl = np.argmax(val_labels, axis=1)\n",
    "    vl.reshape(vl.shape[0],)\n",
    "\n",
    "plt.scatter(vl, vpreds, alpha=0.2)\n",
    "\n",
    "z = np.polyfit(vl,vpreds,1)\n",
    "p = np.poly1d(z)\n",
    "plt.plot(vl, p(vl), \"r\")\n",
    "\n",
    "plt.ylabel(\"predicted effect\")\n",
    "plt.xlabel(\"actual effect\")\n",
    "plt.title(\"Predictions for validation set\")\n",
    "plt.savefig(\"results/val_preds\")\n",
    "\n",
    "plt.show()"
   ]
  },
  {
   "cell_type": "code",
   "execution_count": 15,
   "metadata": {},
   "outputs": [
    {
     "data": {
      "text/plain": [
       "SpearmanrResult(correlation=0.6481712654378962, pvalue=0.04267373947635118)"
      ]
     },
     "execution_count": 15,
     "metadata": {},
     "output_type": "execute_result"
    }
   ],
   "source": [
    "# calculate spearman corr for val data\n",
    "st.spearmanr(vpreds, vl)"
   ]
  },
  {
   "cell_type": "code",
   "execution_count": 16,
   "metadata": {},
   "outputs": [],
   "source": [
    "# output prediction and true labels for val\n",
    "pv_fname = \"results/val_preds.csv\"\n",
    "pred_vlabels = np.vstack((vpreds, vl)).T\n",
    "np.savetxt(pv_fname, pred_vlabels, delimiter=\",\", header=\"Predictions,Labels\")"
   ]
  },
  {
   "cell_type": "code",
   "execution_count": 125,
   "metadata": {},
   "outputs": [],
   "source": [
    "##################################################################"
   ]
  },
  {
   "cell_type": "markdown",
   "metadata": {},
   "source": [
    "# Prediction for test set"
   ]
  },
  {
   "cell_type": "code",
   "execution_count": 17,
   "metadata": {},
   "outputs": [],
   "source": [
    "# load data\n",
    "test_data = pickle.load( open( \"data/\" + test_name + \"_test_data.p\", \"rb\" ) )\n",
    "test_labels = pickle.load( open( \"data/\" + test_name + \"_test_labels.p\", \"rb\" ) )"
   ]
  },
  {
   "cell_type": "code",
   "execution_count": 18,
   "metadata": {},
   "outputs": [
    {
     "name": "stdout",
     "output_type": "stream",
     "text": [
      "INFO:tensorflow:Restoring parameters from models/model_c_10m.ckpt\n",
      "Final Test Accuracy = 0.1000\n",
      "Final Test Loss = 3.6598\n"
     ]
    }
   ],
   "source": [
    "############################################\n",
    "# predictions and accuracy for testing set\n",
    "############################################\n",
    "\n",
    "saver = tf.train.Saver()\n",
    "\n",
    "with tf.Session() as sess:\n",
    "    saver.restore(sess, \"models/\"+model_name_pred+\".ckpt\")\n",
    "\n",
    "    # Calculate accuracy and predictions for test set\n",
    "    test_preds = []\n",
    "    test_accs_final = []\n",
    "    test_losses_final = []\n",
    "\n",
    "    for i in range(test_labels.shape[0]/batch_size):\n",
    "        x = test_data[i*batch_size: i*batch_size + batch_size].reshape((batch_size,timesteps, num_input))\n",
    "        y = test_labels[i*batch_size:i*batch_size + batch_size].reshape((batch_size,num_classes))\n",
    "        test_preds.append(sess.run(prediction, feed_dict={X: x}))      \n",
    "        test_accs_final.append(sess.run(accuracy, feed_dict={X: x, Y:y}))\n",
    "        test_losses_final.append(sess.run(loss_op, feed_dict={X: x, Y:y}))\n",
    "    \n",
    "    test_acc_f = np.mean(test_accs_final)\n",
    "    test_loss_f = np.mean(test_losses_final)\n",
    "    \n",
    "    print(\"Final Test Accuracy = \" + \"{:.4f}\".format(test_acc_f))\n",
    "    print(\"Final Test Loss = \" + \"{:.4f}\".format(test_loss_f))"
   ]
  },
  {
   "cell_type": "markdown",
   "metadata": {},
   "source": [
    "### Plot for test set"
   ]
  },
  {
   "cell_type": "code",
   "execution_count": 19,
   "metadata": {},
   "outputs": [
    {
     "data": {
      "image/png": "[encoded data removed]",
      "text/plain": [
       "<Figure size 432x288 with 1 Axes>"
      ]
     },
     "metadata": {},
     "output_type": "display_data"
    }
   ],
   "source": [
    "#################\n",
    "# plot for test\n",
    "#################\n",
    "# plot for test\n",
    "tpreds = [v[0] for v in test_preds]\n",
    "tpreds = np.array(tpreds).reshape(len(tpreds),)\n",
    "\n",
    "if model_type == \"regression\":\n",
    "    tl = test_labels.reshape(test_labels.shape[0],)\n",
    "else:\n",
    "    # take argmax for classification\n",
    "    tl = np.argmax(test_labels, axis=1)\n",
    "    tl.reshape(tl.shape[0],)\n",
    "\n",
    "\n",
    "plt.scatter(tl, tpreds, alpha=0.2)\n",
    "\n",
    "z = np.polyfit(tl, tpreds, 1)\n",
    "p = np.poly1d(z)\n",
    "plt.plot(tl, p(tl), \"r\")\n",
    "\n",
    "plt.title(\"Predictions for testing set\")\n",
    "plt.ylabel(\"predicted effect\")\n",
    "plt.xlabel(\"actual effect\")\n",
    "plt.savefig(\"results/test_preds\")\n",
    "\n",
    "plt.show()"
   ]
  },
  {
   "cell_type": "code",
   "execution_count": 20,
   "metadata": {},
   "outputs": [
    {
     "data": {
      "text/plain": [
       "SpearmanrResult(correlation=0.11678402600755497, pvalue=0.7479906868331891)"
      ]
     },
     "execution_count": 20,
     "metadata": {},
     "output_type": "execute_result"
    }
   ],
   "source": [
    "# calculate spearman corr for test data\n",
    "st.spearmanr(tpreds, tl)"
   ]
  },
  {
   "cell_type": "code",
   "execution_count": 21,
   "metadata": {},
   "outputs": [],
   "source": [
    "# output prediction and true labels for test\n",
    "pt_fname = \"results/test_preds.csv\"\n",
    "pred_tlabels = np.vstack((tpreds, tl)).T\n",
    "np.savetxt(pt_fname, pred_tlabels, delimiter=\",\", header=\"Predictions,Labels\")"
   ]
  },
  {
   "cell_type": "code",
   "execution_count": null,
   "metadata": {},
   "outputs": [],
   "source": [
    "##################################################################"
   ]
  },
  {
   "cell_type": "markdown",
   "metadata": {},
   "source": [
    "# Prediction for unlabelled test set"
   ]
  },
  {
   "cell_type": "code",
   "execution_count": 25,
   "metadata": {},
   "outputs": [],
   "source": [
    "# load data\n",
    "test_data = pickle.load( open( \"data/\" + test_name_unlab + \"_test_data.p\", \"rb\" ) )"
   ]
  },
  {
   "cell_type": "code",
   "execution_count": 37,
   "metadata": {},
   "outputs": [
    {
     "name": "stdout",
     "output_type": "stream",
     "text": [
      "INFO:tensorflow:Restoring parameters from models/model_r_10m.ckpt\n",
      "Finished predicting!\n"
     ]
    }
   ],
   "source": [
    "###########################\n",
    "# predictions testing set\n",
    "###########################\n",
    "\n",
    "saver = tf.train.Saver()\n",
    "\n",
    "with tf.Session() as sess:\n",
    "    saver.restore(sess, \"models/\"+model_name_pred+\".ckpt\")\n",
    "\n",
    "    # Calculate predictions for test set\n",
    "    test_preds = []\n",
    "\n",
    "    for i in range(test_data.shape[0]/batch_size):\n",
    "        x = test_data[i*batch_size: i*batch_size + batch_size].reshape((batch_size,timesteps, num_input))\n",
    "        test_preds.append(sess.run(prediction, feed_dict={X: x}))      \n",
    "    \n",
    "    print(\"Finished predicting!\")"
   ]
  },
  {
   "cell_type": "code",
   "execution_count": 38,
   "metadata": {},
   "outputs": [],
   "source": [
    "# output prediction for unlabelled test set\n",
    "tpreds = [v[0] for v in test_preds]\n",
    "tpreds = np.array(tpreds).reshape(len(tpreds),)\n",
    "\n",
    "pt_fname = \"results/unlabelled_test_preds_r.csv\"\n",
    "np.savetxt(pt_fname, tpreds, delimiter=\",\", header=\"Predictions\")"
   ]
  }
 ],
 "metadata": {
  "kernelspec": {
   "display_name": "Python 2",
   "language": "python",
   "name": "python2"
  },
  "language_info": {
   "codemirror_mode": {
    "name": "ipython",
    "version": 2
   },
   "file_extension": ".py",
   "mimetype": "text/x-python",
   "name": "python",
   "nbconvert_exporter": "python",
   "pygments_lexer": "ipython2",
   "version": "2.7.14"
  }
 },
 "nbformat": 4,
 "nbformat_minor": 2
}
