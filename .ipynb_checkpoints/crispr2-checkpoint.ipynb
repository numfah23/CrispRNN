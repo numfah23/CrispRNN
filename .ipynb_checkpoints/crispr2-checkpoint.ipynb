{
 "cells": [
  {
   "cell_type": "code",
   "execution_count": 1,
   "metadata": {},
   "outputs": [],
   "source": [
    "import pandas as pd\n",
    "import numpy as np\n",
    "import matplotlib.pyplot as plt\n",
    "%matplotlib inline"
   ]
  },
  {
   "cell_type": "code",
   "execution_count": 2,
   "metadata": {},
   "outputs": [],
   "source": [
    "def read_crispr_data(filename):\n",
    "    data = pd.read_csv(filename, low_memory=False)\n",
    "    return data\n",
    "\n",
    "data = read_crispr_data('../GenomeCRISPR_full05112017.csv')"
   ]
  },
  {
   "cell_type": "code",
   "execution_count": null,
   "metadata": {},
   "outputs": [],
   "source": []
  },
  {
   "cell_type": "code",
   "execution_count": null,
   "metadata": {},
   "outputs": [],
   "source": [
    "# 1a. pubmed distribution of raw data\n",
    "# replace NA with 0\n",
    "data.pubmed.fillna(0, inplace=True)\n",
    "# plot\n",
    "data_percent = (data['pubmed'].value_counts() * 100 / float(sum(data['pubmed'].value_counts())))\n",
    "ax = data_percent.plot(kind='bar', title=\"Distribution of raw data by Pubmed ID\")\n",
    "\n",
    "vals = ax.get_yticks()\n",
    "ax.set_yticklabels(['{:3.0f}%'.format(int(x)) for x in vals])"
   ]
  },
  {
   "cell_type": "code",
   "execution_count": null,
   "metadata": {},
   "outputs": [],
   "source": []
  },
  {
   "cell_type": "code",
   "execution_count": 3,
   "metadata": {},
   "outputs": [],
   "source": [
    "# 1b. pubmed distribution of averaged data (grouped by pubmed, cl, seq, gene)\n",
    "# group\n",
    "grouped_data = data.groupby(['pubmed','cellline','sequence','symbol']).median()['effect'].reset_index()"
   ]
  },
  {
   "cell_type": "code",
   "execution_count": null,
   "metadata": {},
   "outputs": [],
   "source": [
    "# plot\n",
    "grouped_data_percent = (grouped_data['pubmed'].value_counts() * 100 / float(sum(grouped_data['pubmed'].value_counts())))\n",
    "ax2 = grouped_data_percent.plot(kind='bar', title=\"Distribution of averaged data by Pubmed ID\")\n",
    "vals2 = ax2.get_yticks()\n",
    "ax2.set_yticklabels(['{:3.0f}%'.format(int(x)) for x in vals2])"
   ]
  },
  {
   "cell_type": "code",
   "execution_count": null,
   "metadata": {},
   "outputs": [],
   "source": []
  },
  {
   "cell_type": "code",
   "execution_count": null,
   "metadata": {},
   "outputs": [],
   "source": [
    "# 2a. distribution of labels for all data\n",
    "# round up median\n",
    "grouped_data.effect = grouped_data.effect.round()\n",
    "# calc percent for each label\n",
    "label_percent = (grouped_data['effect'].value_counts() * 100 / float(sum(grouped_data['effect'].value_counts())))\n",
    "sorted_label = label_percent.sort_index()\n",
    "ax3 = sorted_label.plot(kind='bar', title=\"Distribution of labels for all data\")\n",
    "vals3 = ax3.get_yticks()\n",
    "ax3.set_yticklabels(['{:3.0f}%'.format(int(x)) for x in vals3])"
   ]
  },
  {
   "cell_type": "code",
   "execution_count": null,
   "metadata": {},
   "outputs": [],
   "source": [
    "# 2b. distribution of labels within each pubmed\n",
    "unique_p = [int(x) for x in grouped_data['pubmed'].value_counts().keys()]\n",
    "nrow = 10\n",
    "ncol = 2\n",
    "f, axes = plt.subplots(nrow, ncol, figsize=(8,30))\n",
    "\n",
    "rows = range(nrow)\n",
    "cols = range(ncol)\n",
    "n = 0\n",
    "\n",
    "for r in rows:\n",
    "    for c in cols:\n",
    "        # calc percent for each label\n",
    "        data_p = grouped_data[grouped_data['pubmed'] == unique_p[n]]\n",
    "        label_percent = (data_p['effect'].value_counts() * 100 / float(sum(data_p['effect'].value_counts())))\n",
    "        sorted_label = label_percent.sort_index()\n",
    "        ax3 = sorted_label.plot(kind='bar', ax=axes[r,c], title=\"Pubmed ID: \" + str(unique_p[n]))\n",
    "        vals3 = ax3.get_yticks()\n",
    "        ax3.set_yticklabels(['{:3.0f}%'.format(int(x)) for x in vals3])\n",
    "        n+=1\n",
    "\n",
    "plt.tight_layout()"
   ]
  },
  {
   "cell_type": "code",
   "execution_count": null,
   "metadata": {},
   "outputs": [],
   "source": [
    "grouped_data_percent"
   ]
  },
  {
   "cell_type": "code",
   "execution_count": null,
   "metadata": {},
   "outputs": [],
   "source": [
    "# 3. get split of data (how many percent in training, validation, and testing)\n",
    "test = 0\n",
    "j = 0\n",
    "for i in grouped_data_percent.keys():\n",
    "    if j == 0:\n",
    "        print \"Training: \" + str(grouped_data_percent[i])\n",
    "    elif j == 1:\n",
    "        print \"Validation: \" + str(grouped_data_percent[i])\n",
    "    elif i != 999999.0:\n",
    "        test += grouped_data_percent[i]\n",
    "    j += 1\n",
    "print \"Testing: \" + str(test)"
   ]
  },
  {
   "cell_type": "code",
   "execution_count": 4,
   "metadata": {},
   "outputs": [],
   "source": [
    "# 4a. distribution of counts by cellline in total + p1\n",
    "# get data for pubmed 1\n",
    "p1 = grouped_data[grouped_data['pubmed'] == 29083409.]\n",
    "\n",
    "# get cellline counts\n",
    "cl_all = pd.DataFrame(grouped_data['cellline'].value_counts()).reset_index()\n",
    "cl_p1 = pd.DataFrame(p1['cellline'].value_counts()).reset_index()"
   ]
  },
  {
   "cell_type": "code",
   "execution_count": null,
   "metadata": {},
   "outputs": [],
   "source": [
    "# add index col\n",
    "cl_p1['i'] = cl_p1.index\n",
    "# merge data\n",
    "merged_data = cl_all.merge(cl_p1, how=\"left\", on=\"index\")\n",
    "# sort data\n",
    "sorted_data = merged_data.sort_values(by=\"i\")\n",
    "sorted_data = sorted_data.reset_index()"
   ]
  },
  {
   "cell_type": "code",
   "execution_count": null,
   "metadata": {},
   "outputs": [],
   "source": [
    "# plot\n",
    "plt.plot(sorted_data.index, sorted_data.cellline_x)\n",
    "plt.plot(sorted_data.index, sorted_data.cellline_y)\n",
    "plt.title(\"Counts for Celllines in Total vs Training Data\")"
   ]
  },
  {
   "cell_type": "code",
   "execution_count": null,
   "metadata": {},
   "outputs": [],
   "source": []
  },
  {
   "cell_type": "code",
   "execution_count": null,
   "metadata": {},
   "outputs": [],
   "source": [
    "# 4b. distribution of counts by gene in total + p1\n",
    "# get gene counts\n",
    "g_all = pd.DataFrame(grouped_data['symbol'].value_counts()).reset_index()\n",
    "g_p1 = pd.DataFrame(p1['symbol'].value_counts()).reset_index()"
   ]
  },
  {
   "cell_type": "code",
   "execution_count": null,
   "metadata": {},
   "outputs": [],
   "source": [
    "# add index col\n",
    "g_p1['i'] = g_p1.index\n",
    "# merge data\n",
    "merged_data_g = g_all.merge(g_p1, how=\"left\", on=\"index\")\n",
    "# sort data\n",
    "sorted_data_g = merged_data_g.sort_values(by=\"i\")\n",
    "sorted_data_g = sorted_data_g.reset_index()"
   ]
  },
  {
   "cell_type": "code",
   "execution_count": null,
   "metadata": {},
   "outputs": [],
   "source": []
  },
  {
   "cell_type": "code",
   "execution_count": null,
   "metadata": {},
   "outputs": [],
   "source": [
    "# plot\n",
    "plt.plot(sorted_data_g.index, sorted_data_g.symbol_x)\n",
    "plt.plot(sorted_data_g.index, sorted_data_g.symbol_y)\n",
    "plt.title(\"Counts for Genes in Total vs Training Data\")"
   ]
  },
  {
   "cell_type": "code",
   "execution_count": null,
   "metadata": {},
   "outputs": [],
   "source": []
  },
  {
   "cell_type": "code",
   "execution_count": 45,
   "metadata": {},
   "outputs": [],
   "source": [
    "# 5a. distribution of effect for p1 grouped by cellline\n",
    "m = p1.groupby(['cellline']).mean()[\"effect\"]\n",
    "s = p1.groupby(['cellline']).std()[\"effect\"]\n",
    "m = m.reset_index()\n",
    "s = s.reset_index()"
   ]
  },
  {
   "cell_type": "code",
   "execution_count": 50,
   "metadata": {},
   "outputs": [],
   "source": [
    "merged_m = m.merge(s, how=\"left\", on=\"cellline\")\n",
    "sorted_m = merged_m.sort_values(by=\"effect_x\")\n",
    "sorted_m = sorted_m.reset_index()"
   ]
  },
  {
   "cell_type": "code",
   "execution_count": 59,
   "metadata": {},
   "outputs": [
    {
     "data": {
      "image/png": "[encoded data removed]",
      "text/plain": [
       "<Figure size 1080x432 with 1 Axes>"
      ]
     },
     "metadata": {},
     "output_type": "display_data"
    }
   ],
   "source": [
    "# plot\n",
    "plt.figure(figsize=(15,6))\n",
    "plt.errorbar(sorted_m.index, sorted_m.effect_x, sorted_m.effect_y, linestyle='None', marker='^')\n",
    "plt.title(\"Mean and Standard Deviation of Effect by Cellline in Training Set\")\n",
    "plt.show()"
   ]
  },
  {
   "cell_type": "code",
   "execution_count": 62,
   "metadata": {},
   "outputs": [
    {
     "data": {
      "image/png": "[encoded data removed]",
      "text/plain": [
       "<Figure size 1080x432 with 1 Axes>"
      ]
     },
     "metadata": {},
     "output_type": "display_data"
    }
   ],
   "source": [
    "plt.figure(figsize=(15,6))\n",
    "plt.scatter(sorted_m.index, sorted_m['effect_x'], s=0.5)\n",
    "plt.title(\"Mean effect by Cellline in Training Set\")\n",
    "plt.grid()"
   ]
  },
  {
   "cell_type": "code",
   "execution_count": null,
   "metadata": {},
   "outputs": [],
   "source": []
  },
  {
   "cell_type": "code",
   "execution_count": 19,
   "metadata": {},
   "outputs": [
    {
     "data": {
      "image/png": "[encoded data removed]",
      "text/plain": [
       "<Figure size 1080x432 with 1 Axes>"
      ]
     },
     "metadata": {},
     "output_type": "display_data"
    }
   ],
   "source": [
    "# # plot\n",
    "# plt.figure(figsize=(15,6))\n",
    "# plt.errorbar(sorted_m.index, m, s, linestyle='None', marker='^')\n",
    "# plt.show()"
   ]
  },
  {
   "cell_type": "code",
   "execution_count": null,
   "metadata": {},
   "outputs": [],
   "source": []
  },
  {
   "cell_type": "code",
   "execution_count": 27,
   "metadata": {},
   "outputs": [],
   "source": [
    "# 5b. distribution of effect for p1 grouped by gene\n",
    "m_g = p1.groupby(['symbol']).mean()[\"effect\"]\n",
    "m_g = m_g.reset_index()"
   ]
  },
  {
   "cell_type": "code",
   "execution_count": 34,
   "metadata": {},
   "outputs": [],
   "source": [
    "sorted_mg = m_g.sort_values(by=\"effect\")"
   ]
  },
  {
   "cell_type": "code",
   "execution_count": 37,
   "metadata": {},
   "outputs": [],
   "source": [
    "sorted_mg = sorted_mg.reset_index()"
   ]
  },
  {
   "cell_type": "code",
   "execution_count": 58,
   "metadata": {},
   "outputs": [
    {
     "data": {
      "image/png": "[encoded data removed]",
      "text/plain": [
       "<Figure size 1080x432 with 1 Axes>"
      ]
     },
     "metadata": {},
     "output_type": "display_data"
    }
   ],
   "source": [
    "# plot\n",
    "plt.figure(figsize=(15,6))\n",
    "plt.scatter(sorted_mg.index, sorted_mg['effect'], s=0.5)\n",
    "plt.title(\"Mean effect by Gene in Training Set\")\n",
    "plt.grid()"
   ]
  },
  {
   "cell_type": "code",
   "execution_count": null,
   "metadata": {},
   "outputs": [],
   "source": []
  },
  {
   "cell_type": "code",
   "execution_count": null,
   "metadata": {},
   "outputs": [],
   "source": []
  },
  {
   "cell_type": "code",
   "execution_count": null,
   "metadata": {},
   "outputs": [],
   "source": []
  },
  {
   "cell_type": "code",
   "execution_count": null,
   "metadata": {},
   "outputs": [],
   "source": []
  },
  {
   "cell_type": "code",
   "execution_count": null,
   "metadata": {},
   "outputs": [],
   "source": []
  },
  {
   "cell_type": "markdown",
   "metadata": {},
   "source": [
    "Trying to find publicate sequences that appear for all celllines, then to see if effects are different for them across cellines"
   ]
  },
  {
   "cell_type": "code",
   "execution_count": null,
   "metadata": {},
   "outputs": [],
   "source": [
    "dup_seqs = list(data[data.duplicated('sequence')]['sequence'])"
   ]
  },
  {
   "cell_type": "code",
   "execution_count": null,
   "metadata": {},
   "outputs": [],
   "source": [
    "len(dup_seqs)"
   ]
  },
  {
   "cell_type": "code",
   "execution_count": null,
   "metadata": {},
   "outputs": [],
   "source": [
    "dup_seqs_cl = data[data['sequence'].isin(dup_seqs)].groupby(['sequence']).nunique()['cellline'].reset_index()"
   ]
  },
  {
   "cell_type": "code",
   "execution_count": null,
   "metadata": {},
   "outputs": [],
   "source": [
    "dup_seqs_cl.shape"
   ]
  },
  {
   "cell_type": "code",
   "execution_count": null,
   "metadata": {},
   "outputs": [],
   "source": [
    "data.cellline.nunique()"
   ]
  },
  {
   "cell_type": "code",
   "execution_count": null,
   "metadata": {},
   "outputs": [],
   "source": [
    "seqs_all_cl = list(dup_seqs_cl[dup_seqs_cl['cellline'] == data.cellline.nunique()]['sequence'])"
   ]
  },
  {
   "cell_type": "code",
   "execution_count": null,
   "metadata": {},
   "outputs": [],
   "source": [
    "len(seqs_all_cl)"
   ]
  },
  {
   "cell_type": "code",
   "execution_count": null,
   "metadata": {},
   "outputs": [],
   "source": [
    "seqs_all_cl = list(dup_seqs_cl[dup_seqs_cl['cellline'] >100]['sequence'])"
   ]
  },
  {
   "cell_type": "markdown",
   "metadata": {},
   "source": [
    "Doing the same with pubmeds: trying to find a sequence that is in all pubmeds"
   ]
  },
  {
   "cell_type": "code",
   "execution_count": null,
   "metadata": {},
   "outputs": [],
   "source": [
    "dup_seqs_pubs = data[data['sequence'].isin(dup_seqs)].groupby(['sequence']).nunique()['pubmed'].reset_index()"
   ]
  },
  {
   "cell_type": "code",
   "execution_count": null,
   "metadata": {},
   "outputs": [],
   "source": [
    "dup_seqs_pubs.shape"
   ]
  },
  {
   "cell_type": "code",
   "execution_count": null,
   "metadata": {},
   "outputs": [],
   "source": [
    "seqs_all_pubs = list(dup_seqs_pubs[dup_seqs_pubs['pubmed'] == data.pubmed.nunique()]['sequence'])"
   ]
  },
  {
   "cell_type": "code",
   "execution_count": null,
   "metadata": {},
   "outputs": [],
   "source": [
    "seqs_all_pubs = list(dup_seqs_pubs[dup_seqs_pubs['pubmed'] >5]['sequence'])"
   ]
  },
  {
   "cell_type": "code",
   "execution_count": null,
   "metadata": {},
   "outputs": [],
   "source": [
    "len(seqs_all_pubs)"
   ]
  },
  {
   "cell_type": "code",
   "execution_count": null,
   "metadata": {},
   "outputs": [],
   "source": [
    "summary_by_pub_seq = data[data['sequence'].isin(seqs_all_cl)].groupby(['pubmed', 'sequence']).mean()['effect'].reset_index()"
   ]
  },
  {
   "cell_type": "code",
   "execution_count": null,
   "metadata": {},
   "outputs": [],
   "source": []
  },
  {
   "cell_type": "code",
   "execution_count": null,
   "metadata": {},
   "outputs": [],
   "source": [
    "29083409  27260156"
   ]
  },
  {
   "cell_type": "code",
   "execution_count": null,
   "metadata": {},
   "outputs": [],
   "source": [
    "top2pubs = data[data['pubmed'].isin(['29083409','27260156'])]"
   ]
  },
  {
   "cell_type": "code",
   "execution_count": null,
   "metadata": {},
   "outputs": [],
   "source": [
    "top2pubs.shape"
   ]
  },
  {
   "cell_type": "code",
   "execution_count": null,
   "metadata": {},
   "outputs": [],
   "source": [
    "dup_seqs_t2 = list(top2pubs[top2pubs.duplicated('sequence')]['sequence'])"
   ]
  },
  {
   "cell_type": "code",
   "execution_count": null,
   "metadata": {},
   "outputs": [],
   "source": [
    "len(dup_seqs_t2)"
   ]
  },
  {
   "cell_type": "code",
   "execution_count": null,
   "metadata": {},
   "outputs": [],
   "source": []
  },
  {
   "cell_type": "code",
   "execution_count": null,
   "metadata": {},
   "outputs": [],
   "source": [
    "dup_seqs_t22 = top2pubs[top2pubs['sequence'].isin(dup_seqs_t2)].groupby(['sequence']).nunique()['pubmed'].reset_index()"
   ]
  },
  {
   "cell_type": "code",
   "execution_count": null,
   "metadata": {},
   "outputs": [],
   "source": [
    "dup_seqs_t22.shape"
   ]
  },
  {
   "cell_type": "code",
   "execution_count": null,
   "metadata": {},
   "outputs": [],
   "source": [
    "seqs_all_2pubs = list(dup_seqs_t22[dup_seqs_t22['pubmed'] == 2]['sequence'])"
   ]
  },
  {
   "cell_type": "code",
   "execution_count": null,
   "metadata": {},
   "outputs": [],
   "source": [
    "len(seqs_all_2pubs)"
   ]
  },
  {
   "cell_type": "code",
   "execution_count": null,
   "metadata": {},
   "outputs": [],
   "source": [
    "summary_by_pub_seq2 = top2pubs[top2pubs['sequence'].isin(seqs_all_2pubs)].groupby(['pubmed', 'sequence']).mean()['effect'].reset_index()"
   ]
  },
  {
   "cell_type": "code",
   "execution_count": null,
   "metadata": {},
   "outputs": [],
   "source": [
    "!sudo pip install matplotlib\n",
    "#!pip install matplotlib.pyplot\n",
    "import matplotlib.pyplot as plt\n",
    "%matplotlib inline"
   ]
  },
  {
   "cell_type": "code",
   "execution_count": null,
   "metadata": {},
   "outputs": [],
   "source": [
    "summary_by_pub_seq2[['pubmed','effect']].plot(by='pubmed')"
   ]
  },
  {
   "cell_type": "code",
   "execution_count": null,
   "metadata": {},
   "outputs": [],
   "source": [
    "plt.plot([1,2,3],[2,3,4])\n",
    "plt.show()"
   ]
  },
  {
   "cell_type": "code",
   "execution_count": null,
   "metadata": {},
   "outputs": [],
   "source": [
    "plt.hist(summary_by_pub_seq2['effect'])"
   ]
  },
  {
   "cell_type": "code",
   "execution_count": null,
   "metadata": {},
   "outputs": [],
   "source": [
    "plt.hist(summary_by_pub_seq2[summary_by_pub_seq2['pubmed'] == 29083409]['effect'],bins=20)"
   ]
  },
  {
   "cell_type": "code",
   "execution_count": null,
   "metadata": {},
   "outputs": [],
   "source": []
  },
  {
   "cell_type": "code",
   "execution_count": null,
   "metadata": {},
   "outputs": [],
   "source": [
    "plt.hist(summary_by_pub_seq2[summary_by_pub_seq2['pubmed'] == 27260156]['effect'],bins=20)"
   ]
  },
  {
   "cell_type": "code",
   "execution_count": null,
   "metadata": {},
   "outputs": [],
   "source": [
    "summary_by_pub_seq2[summary_by_pub_seq2['pubmed'] == 27260156]['effect'].head()"
   ]
  },
  {
   "cell_type": "code",
   "execution_count": null,
   "metadata": {},
   "outputs": [],
   "source": [
    "min(data['effect'])"
   ]
  },
  {
   "cell_type": "code",
   "execution_count": null,
   "metadata": {},
   "outputs": [],
   "source": [
    "plt.hist(data['effect'].dropna(), bins=20)"
   ]
  },
  {
   "cell_type": "code",
   "execution_count": null,
   "metadata": {},
   "outputs": [],
   "source": []
  },
  {
   "cell_type": "code",
   "execution_count": null,
   "metadata": {},
   "outputs": [],
   "source": [
    "summary_by_cl_seq = data[data['sequence'].isin(seqs_all_cl)].groupby(['cellline', 'sequence']).mean()['effect'].reset_index()"
   ]
  },
  {
   "cell_type": "code",
   "execution_count": null,
   "metadata": {},
   "outputs": [],
   "source": [
    "summary_by_cl_seq[['cellline','effect']].boxplot(by='cellline')"
   ]
  },
  {
   "cell_type": "code",
   "execution_count": null,
   "metadata": {},
   "outputs": [],
   "source": []
  },
  {
   "cell_type": "code",
   "execution_count": null,
   "metadata": {},
   "outputs": [],
   "source": [
    "plt.hist(data[data['pubmed'] == 27760321]['effect'],bins=20)"
   ]
  },
  {
   "cell_type": "code",
   "execution_count": null,
   "metadata": {},
   "outputs": [],
   "source": []
  },
  {
   "cell_type": "code",
   "execution_count": null,
   "metadata": {},
   "outputs": [],
   "source": [
    "plt.hist(data[data['pubmed'] == 29083409]['effect'],bins=20)"
   ]
  },
  {
   "cell_type": "code",
   "execution_count": null,
   "metadata": {},
   "outputs": [],
   "source": []
  },
  {
   "cell_type": "code",
   "execution_count": null,
   "metadata": {},
   "outputs": [],
   "source": [
    "\n",
    "\n",
    "# check how many unique seqs\n",
    "len(data['sequence'])\n",
    "# 1048575\n",
    "len(set(data['sequence']))\n",
    "# 239895\n",
    "\n",
    "data.groupby(['sequence', 'start']).mean()\n",
    "# 255289\n",
    "\n",
    "# get avg and std of effects\n",
    "m = data.groupby(['sequence']).mean()['effect']\n",
    "s = data.groupby(['sequence']).std()['effect']\n",
    "\n",
    "# get number of seqs with only 1 repeat or same effect twice\n",
    "len(np.where(s == 0)[0])\n",
    "# 3531\n",
    "\n",
    "np.max(s)\n",
    "# 10\n",
    "\n",
    "# distribution of effect classes\n",
    "data.groupby(['effect']).count()['sequence']\t"
   ]
  },
  {
   "cell_type": "code",
   "execution_count": null,
   "metadata": {},
   "outputs": [],
   "source": []
  },
  {
   "cell_type": "code",
   "execution_count": null,
   "metadata": {},
   "outputs": [],
   "source": []
  },
  {
   "cell_type": "code",
   "execution_count": null,
   "metadata": {},
   "outputs": [],
   "source": [
    "data.groupby(['effect']).count()['sequence'].to_csv(\"effectsize.csv\")"
   ]
  },
  {
   "cell_type": "code",
   "execution_count": null,
   "metadata": {},
   "outputs": [],
   "source": [
    "data.shape\n",
    "data.columns.values\n"
   ]
  },
  {
   "cell_type": "code",
   "execution_count": null,
   "metadata": {},
   "outputs": [],
   "source": [
    "data.shape\n"
   ]
  },
  {
   "cell_type": "code",
   "execution_count": null,
   "metadata": {},
   "outputs": [],
   "source": [
    "data.pubmed.unique()"
   ]
  },
  {
   "cell_type": "code",
   "execution_count": null,
   "metadata": {},
   "outputs": [],
   "source": [
    "data.pubmed.unique().to_csv(\"unique_pubmeds.csv\")"
   ]
  },
  {
   "cell_type": "code",
   "execution_count": null,
   "metadata": {},
   "outputs": [],
   "source": [
    "data.groupby(['pubmed']).count()"
   ]
  },
  {
   "cell_type": "code",
   "execution_count": null,
   "metadata": {},
   "outputs": [],
   "source": [
    "data.groupby(['pubmed']).count().to_csv(\"count_by_pubmed.csv\")"
   ]
  },
  {
   "cell_type": "code",
   "execution_count": null,
   "metadata": {},
   "outputs": [],
   "source": [
    "len(data.cellline.unique())"
   ]
  },
  {
   "cell_type": "code",
   "execution_count": null,
   "metadata": {},
   "outputs": [],
   "source": [
    "data.groupby(['cellline']).count()"
   ]
  },
  {
   "cell_type": "code",
   "execution_count": null,
   "metadata": {},
   "outputs": [],
   "source": [
    "data.groupby(['cellline']).count().to_csv(\"count_by_celline.csv\")"
   ]
  },
  {
   "cell_type": "code",
   "execution_count": null,
   "metadata": {},
   "outputs": [],
   "source": [
    "data.groupby(['pubmed','cellline']).count().to_csv(\"count_by_celline_pubmed.csv\")"
   ]
  },
  {
   "cell_type": "code",
   "execution_count": null,
   "metadata": {},
   "outputs": [],
   "source": [
    "data.groupby(['sequence','symbol']).size().reset_index().rename(columns={0:'count'})"
   ]
  },
  {
   "cell_type": "code",
   "execution_count": null,
   "metadata": {},
   "outputs": [],
   "source": [
    "print (data[data.duplicated(['sequence','symbol'], keep=False)].shape)\n",
    "\n",
    "print (data[data.duplicated(['sequence','celline'], keep=False)].shape)\n",
    "\n",
    "print (data[data.duplicated(['sequence','pubmed'], keep=False)].shape)\n",
    "\n",
    "print (data[data.duplicated(['sequence','celline', 'symbol'], keep=False)].shape)"
   ]
  },
  {
   "cell_type": "code",
   "execution_count": null,
   "metadata": {},
   "outputs": [],
   "source": []
  },
  {
   "cell_type": "code",
   "execution_count": null,
   "metadata": {},
   "outputs": [],
   "source": []
  },
  {
   "cell_type": "code",
   "execution_count": null,
   "metadata": {},
   "outputs": [],
   "source": []
  },
  {
   "cell_type": "code",
   "execution_count": null,
   "metadata": {},
   "outputs": [],
   "source": [
    "grouped_data = data.groupby(['sequence','cellline','pubmed']).median()['effect']"
   ]
  },
  {
   "cell_type": "code",
   "execution_count": null,
   "metadata": {},
   "outputs": [],
   "source": [
    "plt.hist(grouped_data[grouped_data['pubmed'] == 29083409]['effect'],bins=20)"
   ]
  },
  {
   "cell_type": "code",
   "execution_count": null,
   "metadata": {},
   "outputs": [],
   "source": []
  },
  {
   "cell_type": "code",
   "execution_count": null,
   "metadata": {},
   "outputs": [],
   "source": []
  },
  {
   "cell_type": "code",
   "execution_count": null,
   "metadata": {},
   "outputs": [],
   "source": []
  },
  {
   "cell_type": "code",
   "execution_count": null,
   "metadata": {},
   "outputs": [],
   "source": [
    "data.groupby(['sequence','cellline','pubmed']).mean()['effect'].to_csv(\"mean_effect_by_seq_celline_pub.csv\")"
   ]
  },
  {
   "cell_type": "code",
   "execution_count": null,
   "metadata": {},
   "outputs": [],
   "source": [
    "data.groupby(['sequence','cellline','pubmed']).range()['effect'].to_csv(\"count_effect_by_seq_celline_pub.csv\")"
   ]
  },
  {
   "cell_type": "code",
   "execution_count": null,
   "metadata": {},
   "outputs": [],
   "source": [
    "sm = data.sample(1000)"
   ]
  },
  {
   "cell_type": "code",
   "execution_count": null,
   "metadata": {},
   "outputs": [],
   "source": [
    "sm.groupby('celline', 'sequence').mean().reset_index()"
   ]
  },
  {
   "cell_type": "code",
   "execution_count": null,
   "metadata": {},
   "outputs": [],
   "source": [
    "sm[sm.duplicated('sequence')]"
   ]
  },
  {
   "cell_type": "code",
   "execution_count": null,
   "metadata": {},
   "outputs": [],
   "source": [
    "dup_seq = list(sm[sm.duplicated('sequence')]['sequence'])"
   ]
  },
  {
   "cell_type": "code",
   "execution_count": null,
   "metadata": {},
   "outputs": [],
   "source": [
    "sm[sm['sequence'].isin(dup_seq)].groupby(['sequence']).nunique()['cellline'] > 2"
   ]
  },
  {
   "cell_type": "code",
   "execution_count": null,
   "metadata": {},
   "outputs": [],
   "source": [
    "x = sm[sm['sequence'].isin(dup_seq)].groupby(['sequence']).nunique()['cellline'].reset_index()"
   ]
  },
  {
   "cell_type": "code",
   "execution_count": null,
   "metadata": {},
   "outputs": [],
   "source": [
    "x"
   ]
  },
  {
   "cell_type": "code",
   "execution_count": null,
   "metadata": {},
   "outputs": [],
   "source": [
    "seqs = list(x[x['cellline'] > 1]['sequence'])"
   ]
  },
  {
   "cell_type": "code",
   "execution_count": null,
   "metadata": {},
   "outputs": [],
   "source": [
    "seqs"
   ]
  },
  {
   "cell_type": "code",
   "execution_count": null,
   "metadata": {},
   "outputs": [],
   "source": [
    "x2 = sm[sm['sequence'].isin(seqs)].groupby(['cellline', 'sequence']).mean()['effect'].reset_index()"
   ]
  },
  {
   "cell_type": "code",
   "execution_count": null,
   "metadata": {},
   "outputs": [],
   "source": [
    "x2"
   ]
  },
  {
   "cell_type": "code",
   "execution_count": null,
   "metadata": {},
   "outputs": [],
   "source": [
    "%matplotlib inline  "
   ]
  },
  {
   "cell_type": "code",
   "execution_count": null,
   "metadata": {},
   "outputs": [],
   "source": [
    "x2[['cellline','effect']].boxplot(by='cellline')"
   ]
  },
  {
   "cell_type": "code",
   "execution_count": null,
   "metadata": {},
   "outputs": [],
   "source": [
    "x2[['cellline','effect']].plot.scatter(y='cellline', x='effect')"
   ]
  },
  {
   "cell_type": "code",
   "execution_count": null,
   "metadata": {},
   "outputs": [],
   "source": [
    "sm[sm.sequence=='GCCACTGGAAGCCGATGCCGAGG']"
   ]
  },
  {
   "cell_type": "code",
   "execution_count": null,
   "metadata": {},
   "outputs": [],
   "source": []
  },
  {
   "cell_type": "code",
   "execution_count": null,
   "metadata": {},
   "outputs": [],
   "source": []
  },
  {
   "cell_type": "code",
   "execution_count": null,
   "metadata": {},
   "outputs": [],
   "source": [
    "sm[sm.duplicated('sequence')].groupby(['cellline', 'sequence']).count()"
   ]
  },
  {
   "cell_type": "code",
   "execution_count": null,
   "metadata": {},
   "outputs": [],
   "source": [
    "len(sm.cellline.unique())"
   ]
  },
  {
   "cell_type": "code",
   "execution_count": null,
   "metadata": {},
   "outputs": [],
   "source": [
    "(sm[sm.duplicated('sequence')].groupby(['cellline', 'sequence']).count()>100).shape"
   ]
  },
  {
   "cell_type": "code",
   "execution_count": null,
   "metadata": {},
   "outputs": [],
   "source": [
    "sm[sm.duplicated('sequence')].groupby('cellline').count()"
   ]
  },
  {
   "cell_type": "code",
   "execution_count": null,
   "metadata": {},
   "outputs": [],
   "source": [
    "sm[sm.duplicated('sequence')]"
   ]
  },
  {
   "cell_type": "code",
   "execution_count": null,
   "metadata": {},
   "outputs": [],
   "source": [
    "sm.loc[sm.groupby(['sequence']).count()['effect']>1]"
   ]
  },
  {
   "cell_type": "code",
   "execution_count": null,
   "metadata": {},
   "outputs": [],
   "source": [
    "sm.duplicated('sequence')"
   ]
  },
  {
   "cell_type": "code",
   "execution_count": null,
   "metadata": {},
   "outputs": [],
   "source": []
  }
 ],
 "metadata": {
  "kernelspec": {
   "display_name": "Python 2",
   "language": "python",
   "name": "python2"
  },
  "language_info": {
   "codemirror_mode": {
    "name": "ipython",
    "version": 2
   },
   "file_extension": ".py",
   "mimetype": "text/x-python",
   "name": "python",
   "nbconvert_exporter": "python",
   "pygments_lexer": "ipython2",
   "version": "2.7.12"
  }
 },
 "nbformat": 4,
 "nbformat_minor": 2
}
