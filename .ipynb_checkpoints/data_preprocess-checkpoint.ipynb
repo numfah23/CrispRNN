{
 "cells": [
  {
   "cell_type": "code",
   "execution_count": null,
   "metadata": {},
   "outputs": [],
   "source": [
    "import numpy as np\n",
    "import pandas as pd\n",
    "import pickle"
   ]
  },
  {
   "cell_type": "code",
   "execution_count": 3,
   "metadata": {},
   "outputs": [
    {
     "name": "stderr",
     "output_type": "stream",
     "text": [
      "/usr/local/lib/python2.7/dist-packages/IPython/core/interactiveshell.py:2714: DtypeWarning: Columns (2,5) have mixed types. Specify dtype option on import or set low_memory=False.\n",
      "  interactivity=interactivity, compiler=compiler, result=result)\n"
     ]
    }
   ],
   "source": [
    "# read in full data\n",
    "data= pd.read_csv('../GenomeCRISPR_full05112017.csv')\n",
    "\n",
    "# read in sample data\n",
    "#data= pd.read_csv('../GenomeCRISPR_full05112017_small.csv')"
   ]
  },
  {
   "cell_type": "code",
   "execution_count": 4,
   "metadata": {},
   "outputs": [],
   "source": [
    "#should filter only to our pubmed 29083409\n",
    "toppub_all_data = data[data['pubmed'] ==29083409]"
   ]
  },
  {
   "cell_type": "code",
   "execution_count": 5,
   "metadata": {},
   "outputs": [],
   "source": [
    "# groupby celline and sequence\n",
    "toppub_grouped = toppub_all_data.groupby(['sequence','symbol']).median()['effect'].reset_index()"
   ]
  },
  {
   "cell_type": "code",
   "execution_count": null,
   "metadata": {},
   "outputs": [],
   "source": []
  },
  {
   "cell_type": "code",
   "execution_count": 6,
   "metadata": {},
   "outputs": [
    {
     "data": {
      "text/html": [
       "<div>\n",
       "<style scoped>\n",
       "    .dataframe tbody tr th:only-of-type {\n",
       "        vertical-align: middle;\n",
       "    }\n",
       "\n",
       "    .dataframe tbody tr th {\n",
       "        vertical-align: top;\n",
       "    }\n",
       "\n",
       "    .dataframe thead th {\n",
       "        text-align: right;\n",
       "    }\n",
       "</style>\n",
       "<table border=\"1\" class=\"dataframe\">\n",
       "  <thead>\n",
       "    <tr style=\"text-align: right;\">\n",
       "      <th></th>\n",
       "      <th>sequence</th>\n",
       "      <th>symbol</th>\n",
       "      <th>effect</th>\n",
       "    </tr>\n",
       "  </thead>\n",
       "  <tbody>\n",
       "    <tr>\n",
       "      <th>0</th>\n",
       "      <td>AAAAAAATCCAGCAATGCAGAGG</td>\n",
       "      <td>SHOC2</td>\n",
       "      <td>-1.0</td>\n",
       "    </tr>\n",
       "    <tr>\n",
       "      <th>1</th>\n",
       "      <td>AAAAAACCCGTAGATAGCCTCGG</td>\n",
       "      <td>NDUFA12</td>\n",
       "      <td>-1.0</td>\n",
       "    </tr>\n",
       "    <tr>\n",
       "      <th>2</th>\n",
       "      <td>AAAAAAGAAGAAAAAACCAGAGG</td>\n",
       "      <td>SDAD1</td>\n",
       "      <td>-5.0</td>\n",
       "    </tr>\n",
       "    <tr>\n",
       "      <th>3</th>\n",
       "      <td>AAAAAAGCTCAAGAAGGAGGCGG</td>\n",
       "      <td>FAM98A</td>\n",
       "      <td>1.0</td>\n",
       "    </tr>\n",
       "    <tr>\n",
       "      <th>4</th>\n",
       "      <td>AAAAAAGGCTGTAAAAGCGTGGG</td>\n",
       "      <td>ZNF253</td>\n",
       "      <td>-3.0</td>\n",
       "    </tr>\n",
       "  </tbody>\n",
       "</table>\n",
       "</div>"
      ],
      "text/plain": [
       "                  sequence   symbol  effect\n",
       "0  AAAAAAATCCAGCAATGCAGAGG    SHOC2    -1.0\n",
       "1  AAAAAACCCGTAGATAGCCTCGG  NDUFA12    -1.0\n",
       "2  AAAAAAGAAGAAAAAACCAGAGG    SDAD1    -5.0\n",
       "3  AAAAAAGCTCAAGAAGGAGGCGG   FAM98A     1.0\n",
       "4  AAAAAAGGCTGTAAAAGCGTGGG   ZNF253    -3.0"
      ]
     },
     "execution_count": 6,
     "metadata": {},
     "output_type": "execute_result"
    }
   ],
   "source": [
    "toppub_grouped.head()"
   ]
  },
  {
   "cell_type": "code",
   "execution_count": 7,
   "metadata": {},
   "outputs": [],
   "source": [
    "# doench paper\n",
    "d = data[data['pubmed'] ==26780180]"
   ]
  },
  {
   "cell_type": "code",
   "execution_count": null,
   "metadata": {},
   "outputs": [],
   "source": []
  },
  {
   "cell_type": "code",
   "execution_count": 7,
   "metadata": {},
   "outputs": [],
   "source": [
    "# groupby sequence to get unique seqs\n",
    "groupby_seq = toppub_grouped.groupby(['sequence']).count().reset_index()\n",
    "groupby_gene = toppub_grouped.groupby(['symbol']).count().reset_index()"
   ]
  },
  {
   "cell_type": "code",
   "execution_count": 8,
   "metadata": {},
   "outputs": [],
   "source": [
    "# keeping only sequence column\n",
    "unique_seq_toppub = groupby_seq['sequence']\n",
    "groupby_gene = groupby_gene['symbol']"
   ]
  },
  {
   "cell_type": "code",
   "execution_count": 9,
   "metadata": {},
   "outputs": [],
   "source": [
    "# one_hot function\n",
    "\n",
    "e_dict = {'A':[1,0,0,0], 'C':[0,1,0,0], 'G':[0,0,1,0], 'T':[0,0,0,1]}\n",
    "\n",
    "def one_hot(x):\n",
    "    return e_dict[x]"
   ]
  },
  {
   "cell_type": "code",
   "execution_count": 10,
   "metadata": {},
   "outputs": [
    {
     "data": {
      "text/plain": [
       "0    AAAAAAATCCAGCAATGCAGAGG\n",
       "1    AAAAAACCCGTAGATAGCCTCGG\n",
       "2    AAAAAAGAAGAAAAAACCAGAGG\n",
       "3    AAAAAAGCTCAAGAAGGAGGCGG\n",
       "4    AAAAAAGGCTGTAAAAGCGTGGG\n",
       "Name: sequence, dtype: object"
      ]
     },
     "execution_count": 10,
     "metadata": {},
     "output_type": "execute_result"
    }
   ],
   "source": [
    "unique_seq_toppub.head()"
   ]
  },
  {
   "cell_type": "code",
   "execution_count": 11,
   "metadata": {},
   "outputs": [],
   "source": [
    "# onehot encode the unique seqs\n",
    "one_hot_un_seq = unique_seq_toppub.apply(lambda x: map(one_hot, x))"
   ]
  },
  {
   "cell_type": "code",
   "execution_count": 12,
   "metadata": {},
   "outputs": [],
   "source": [
    "x = one_hot_un_seq"
   ]
  },
  {
   "cell_type": "code",
   "execution_count": 13,
   "metadata": {},
   "outputs": [],
   "source": [
    "# reset indices\n",
    "unique_seq_toppub = unique_seq_toppub.reset_index()\n",
    "one_hot_un_seq = one_hot_un_seq.reset_index()\n",
    "groupby_gene = groupby_gene.reset_index()"
   ]
  },
  {
   "cell_type": "code",
   "execution_count": 14,
   "metadata": {},
   "outputs": [],
   "source": [
    "# append onehot to seqs\n",
    "unique_seq_toppub['one_hot'] = one_hot_un_seq['sequence']"
   ]
  },
  {
   "cell_type": "code",
   "execution_count": 15,
   "metadata": {},
   "outputs": [
    {
     "data": {
      "text/html": [
       "<div>\n",
       "<style scoped>\n",
       "    .dataframe tbody tr th:only-of-type {\n",
       "        vertical-align: middle;\n",
       "    }\n",
       "\n",
       "    .dataframe tbody tr th {\n",
       "        vertical-align: top;\n",
       "    }\n",
       "\n",
       "    .dataframe thead th {\n",
       "        text-align: right;\n",
       "    }\n",
       "</style>\n",
       "<table border=\"1\" class=\"dataframe\">\n",
       "  <thead>\n",
       "    <tr style=\"text-align: right;\">\n",
       "      <th></th>\n",
       "      <th>index</th>\n",
       "      <th>sequence</th>\n",
       "      <th>one_hot</th>\n",
       "    </tr>\n",
       "  </thead>\n",
       "  <tbody>\n",
       "    <tr>\n",
       "      <th>0</th>\n",
       "      <td>0</td>\n",
       "      <td>AAAAAAATCCAGCAATGCAGAGG</td>\n",
       "      <td>[[1, 0, 0, 0], [1, 0, 0, 0], [1, 0, 0, 0], [1,...</td>\n",
       "    </tr>\n",
       "    <tr>\n",
       "      <th>1</th>\n",
       "      <td>1</td>\n",
       "      <td>AAAAAACCCGTAGATAGCCTCGG</td>\n",
       "      <td>[[1, 0, 0, 0], [1, 0, 0, 0], [1, 0, 0, 0], [1,...</td>\n",
       "    </tr>\n",
       "    <tr>\n",
       "      <th>2</th>\n",
       "      <td>2</td>\n",
       "      <td>AAAAAAGAAGAAAAAACCAGAGG</td>\n",
       "      <td>[[1, 0, 0, 0], [1, 0, 0, 0], [1, 0, 0, 0], [1,...</td>\n",
       "    </tr>\n",
       "    <tr>\n",
       "      <th>3</th>\n",
       "      <td>3</td>\n",
       "      <td>AAAAAAGCTCAAGAAGGAGGCGG</td>\n",
       "      <td>[[1, 0, 0, 0], [1, 0, 0, 0], [1, 0, 0, 0], [1,...</td>\n",
       "    </tr>\n",
       "    <tr>\n",
       "      <th>4</th>\n",
       "      <td>4</td>\n",
       "      <td>AAAAAAGGCTGTAAAAGCGTGGG</td>\n",
       "      <td>[[1, 0, 0, 0], [1, 0, 0, 0], [1, 0, 0, 0], [1,...</td>\n",
       "    </tr>\n",
       "  </tbody>\n",
       "</table>\n",
       "</div>"
      ],
      "text/plain": [
       "   index                 sequence  \\\n",
       "0      0  AAAAAAATCCAGCAATGCAGAGG   \n",
       "1      1  AAAAAACCCGTAGATAGCCTCGG   \n",
       "2      2  AAAAAAGAAGAAAAAACCAGAGG   \n",
       "3      3  AAAAAAGCTCAAGAAGGAGGCGG   \n",
       "4      4  AAAAAAGGCTGTAAAAGCGTGGG   \n",
       "\n",
       "                                             one_hot  \n",
       "0  [[1, 0, 0, 0], [1, 0, 0, 0], [1, 0, 0, 0], [1,...  \n",
       "1  [[1, 0, 0, 0], [1, 0, 0, 0], [1, 0, 0, 0], [1,...  \n",
       "2  [[1, 0, 0, 0], [1, 0, 0, 0], [1, 0, 0, 0], [1,...  \n",
       "3  [[1, 0, 0, 0], [1, 0, 0, 0], [1, 0, 0, 0], [1,...  \n",
       "4  [[1, 0, 0, 0], [1, 0, 0, 0], [1, 0, 0, 0], [1,...  "
      ]
     },
     "execution_count": 15,
     "metadata": {},
     "output_type": "execute_result"
    }
   ],
   "source": [
    "unique_seq_toppub.head()"
   ]
  },
  {
   "cell_type": "code",
   "execution_count": 16,
   "metadata": {},
   "outputs": [],
   "source": [
    "# merge one hot encoding to data\n",
    "toppub_one_hot = toppub_grouped.merge(unique_seq_toppub,left_on=\"sequence\",right_on=\"sequence\", how=\"left\")"
   ]
  },
  {
   "cell_type": "code",
   "execution_count": 17,
   "metadata": {},
   "outputs": [],
   "source": [
    "# merge gene encoding to data\n",
    "toppub_one_hot = toppub_one_hot.merge(groupby_gene,left_on=\"symbol\",right_on=\"symbol\", how=\"left\")"
   ]
  },
  {
   "cell_type": "code",
   "execution_count": 18,
   "metadata": {},
   "outputs": [
    {
     "data": {
      "text/html": [
       "<div>\n",
       "<style scoped>\n",
       "    .dataframe tbody tr th:only-of-type {\n",
       "        vertical-align: middle;\n",
       "    }\n",
       "\n",
       "    .dataframe tbody tr th {\n",
       "        vertical-align: top;\n",
       "    }\n",
       "\n",
       "    .dataframe thead th {\n",
       "        text-align: right;\n",
       "    }\n",
       "</style>\n",
       "<table border=\"1\" class=\"dataframe\">\n",
       "  <thead>\n",
       "    <tr style=\"text-align: right;\">\n",
       "      <th></th>\n",
       "      <th>sequence</th>\n",
       "      <th>symbol</th>\n",
       "      <th>effect</th>\n",
       "      <th>index_x</th>\n",
       "      <th>one_hot</th>\n",
       "      <th>index_y</th>\n",
       "    </tr>\n",
       "  </thead>\n",
       "  <tbody>\n",
       "    <tr>\n",
       "      <th>0</th>\n",
       "      <td>AAAAAAATCCAGCAATGCAGAGG</td>\n",
       "      <td>SHOC2</td>\n",
       "      <td>-1.0</td>\n",
       "      <td>0</td>\n",
       "      <td>[[1, 0, 0, 0], [1, 0, 0, 0], [1, 0, 0, 0], [1,...</td>\n",
       "      <td>14001</td>\n",
       "    </tr>\n",
       "    <tr>\n",
       "      <th>1</th>\n",
       "      <td>AAAAAACCCGTAGATAGCCTCGG</td>\n",
       "      <td>NDUFA12</td>\n",
       "      <td>-1.0</td>\n",
       "      <td>1</td>\n",
       "      <td>[[1, 0, 0, 0], [1, 0, 0, 0], [1, 0, 0, 0], [1,...</td>\n",
       "      <td>9936</td>\n",
       "    </tr>\n",
       "    <tr>\n",
       "      <th>2</th>\n",
       "      <td>AAAAAAGAAGAAAAAACCAGAGG</td>\n",
       "      <td>SDAD1</td>\n",
       "      <td>-5.0</td>\n",
       "      <td>2</td>\n",
       "      <td>[[1, 0, 0, 0], [1, 0, 0, 0], [1, 0, 0, 0], [1,...</td>\n",
       "      <td>13701</td>\n",
       "    </tr>\n",
       "    <tr>\n",
       "      <th>3</th>\n",
       "      <td>AAAAAAGCTCAAGAAGGAGGCGG</td>\n",
       "      <td>FAM98A</td>\n",
       "      <td>1.0</td>\n",
       "      <td>3</td>\n",
       "      <td>[[1, 0, 0, 0], [1, 0, 0, 0], [1, 0, 0, 0], [1,...</td>\n",
       "      <td>5316</td>\n",
       "    </tr>\n",
       "    <tr>\n",
       "      <th>4</th>\n",
       "      <td>AAAAAAGGCTGTAAAAGCGTGGG</td>\n",
       "      <td>ZNF253</td>\n",
       "      <td>-3.0</td>\n",
       "      <td>4</td>\n",
       "      <td>[[1, 0, 0, 0], [1, 0, 0, 0], [1, 0, 0, 0], [1,...</td>\n",
       "      <td>17743</td>\n",
       "    </tr>\n",
       "  </tbody>\n",
       "</table>\n",
       "</div>"
      ],
      "text/plain": [
       "                  sequence   symbol  effect  index_x  \\\n",
       "0  AAAAAAATCCAGCAATGCAGAGG    SHOC2    -1.0        0   \n",
       "1  AAAAAACCCGTAGATAGCCTCGG  NDUFA12    -1.0        1   \n",
       "2  AAAAAAGAAGAAAAAACCAGAGG    SDAD1    -5.0        2   \n",
       "3  AAAAAAGCTCAAGAAGGAGGCGG   FAM98A     1.0        3   \n",
       "4  AAAAAAGGCTGTAAAAGCGTGGG   ZNF253    -3.0        4   \n",
       "\n",
       "                                             one_hot  index_y  \n",
       "0  [[1, 0, 0, 0], [1, 0, 0, 0], [1, 0, 0, 0], [1,...    14001  \n",
       "1  [[1, 0, 0, 0], [1, 0, 0, 0], [1, 0, 0, 0], [1,...     9936  \n",
       "2  [[1, 0, 0, 0], [1, 0, 0, 0], [1, 0, 0, 0], [1,...    13701  \n",
       "3  [[1, 0, 0, 0], [1, 0, 0, 0], [1, 0, 0, 0], [1,...     5316  \n",
       "4  [[1, 0, 0, 0], [1, 0, 0, 0], [1, 0, 0, 0], [1,...    17743  "
      ]
     },
     "execution_count": 18,
     "metadata": {},
     "output_type": "execute_result"
    }
   ],
   "source": [
    "toppub_one_hot.head()"
   ]
  },
  {
   "cell_type": "code",
   "execution_count": null,
   "metadata": {},
   "outputs": [],
   "source": []
  },
  {
   "cell_type": "code",
   "execution_count": null,
   "metadata": {},
   "outputs": [],
   "source": []
  },
  {
   "cell_type": "code",
   "execution_count": 47,
   "metadata": {},
   "outputs": [],
   "source": []
  },
  {
   "cell_type": "code",
   "execution_count": null,
   "metadata": {},
   "outputs": [],
   "source": [
    "# one hot features without gene\n",
    "features_no_gene = np.ndarray(shape=(toppub_one_hot.shape[0],23,4), dtype=int)\n",
    "for i in range(toppub_one_hot.shape[0]):\n",
    "    for j in range(len(toppub_one_hot['one_hot'][i])):\n",
    "        features_no_gene[i][j] = toppub_one_hot['one_hot'][i][j]"
   ]
  },
  {
   "cell_type": "code",
   "execution_count": null,
   "metadata": {},
   "outputs": [],
   "source": [
    "pickle.dump(features_no_gene, open(\"../features_no_gene.p\", \"wb\"))"
   ]
  },
  {
   "cell_type": "code",
   "execution_count": null,
   "metadata": {},
   "outputs": [],
   "source": [
    "features_no_gene.shape"
   ]
  },
  {
   "cell_type": "code",
   "execution_count": null,
   "metadata": {},
   "outputs": [],
   "source": []
  },
  {
   "cell_type": "code",
   "execution_count": null,
   "metadata": {},
   "outputs": [],
   "source": []
  },
  {
   "cell_type": "code",
   "execution_count": null,
   "metadata": {},
   "outputs": [],
   "source": []
  },
  {
   "cell_type": "code",
   "execution_count": 49,
   "metadata": {},
   "outputs": [],
   "source": [
    "# one hot features with gene\n",
    "# create empty numpy matrix for storing one hot features\n",
    "features = np.ndarray(shape=(toppub_one_hot.shape[0],23,5), dtype=int)\n",
    "# append gene to each one hot nucleotide\n",
    "for i in range(toppub_one_hot.shape[0]):\n",
    "    for j in range(len(toppub_one_hot['one_hot'][i])):\n",
    "        features[i][j] = toppub_one_hot['one_hot'][i][j] + [toppub_one_hot['index_y'][i]]"
   ]
  },
  {
   "cell_type": "code",
   "execution_count": null,
   "metadata": {},
   "outputs": [],
   "source": [
    "features.shape"
   ]
  },
  {
   "cell_type": "code",
   "execution_count": null,
   "metadata": {},
   "outputs": [],
   "source": []
  },
  {
   "cell_type": "code",
   "execution_count": 21,
   "metadata": {},
   "outputs": [],
   "source": [
    "pickle.dump(features, open(\"../features.p\", \"wb\"))"
   ]
  },
  {
   "cell_type": "code",
   "execution_count": 19,
   "metadata": {},
   "outputs": [],
   "source": [
    "def convert_labels(y):\n",
    "#     if y > 3:\n",
    "#         return 1\n",
    "#     else:\n",
    "#         return 0\n",
    "    return (y + 10)/float(20)"
   ]
  },
  {
   "cell_type": "code",
   "execution_count": 20,
   "metadata": {},
   "outputs": [],
   "source": [
    "# regression labels\n",
    "labels = toppub_one_hot['effect']\n",
    "labels = np.array(list(map(lambda x: convert_labels(x), labels)))\n",
    "# labels = np.eye(num_classes)[labels]"
   ]
  },
  {
   "cell_type": "code",
   "execution_count": null,
   "metadata": {},
   "outputs": [],
   "source": [
    "    "
   ]
  },
  {
   "cell_type": "code",
   "execution_count": 67,
   "metadata": {},
   "outputs": [],
   "source": [
    "# classification labels\n",
    "num_classes=21\n",
    "labels = toppub_one_hot['effect']\n",
    "# labels = np.array(list(map(lambda x: convert_labels(x), labels)))\n",
    "labels = np.array(list(map(lambda x: int(x+10), labels)))\n",
    "labels = np.eye(num_classes)[labels]"
   ]
  },
  {
   "cell_type": "code",
   "execution_count": null,
   "metadata": {},
   "outputs": [],
   "source": []
  },
  {
   "cell_type": "code",
   "execution_count": null,
   "metadata": {},
   "outputs": [],
   "source": []
  },
  {
   "cell_type": "code",
   "execution_count": null,
   "metadata": {},
   "outputs": [],
   "source": []
  },
  {
   "cell_type": "code",
   "execution_count": 68,
   "metadata": {},
   "outputs": [],
   "source": [
    "# split into training and testing for with gene\n",
    "msk = np.random.rand(len(features)) < 0.8\n",
    "\n",
    "train_data = features[msk]\n",
    "train_labels = labels[msk]\n",
    "\n",
    "test_val_data = features[~msk]\n",
    "test_val_labels = labels[~msk]\n",
    "\n",
    "msk = np.random.rand(len(test_val_data)) < 0.5\n",
    "test_data = test_val_data[msk]\n",
    "test_labels = test_val_labels[msk]\n",
    "\n",
    "val_data = test_val_data[~msk]\n",
    "val_labels = test_val_labels[~msk]"
   ]
  },
  {
   "cell_type": "code",
   "execution_count": 71,
   "metadata": {},
   "outputs": [],
   "source": [
    "# split into training and testing no gene\n",
    "msk = np.random.rand(len(features_no_gene)) < 0.8\n",
    "\n",
    "train_data = features_no_gene[msk]\n",
    "train_labels = labels[msk]\n",
    "\n",
    "test_val_data = features_no_gene[~msk]\n",
    "test_val_labels = labels[~msk]\n",
    "\n",
    "msk = np.random.rand(len(test_val_data)) < 0.5\n",
    "test_data = test_val_data[msk]\n",
    "test_labels = test_val_labels[msk]\n",
    "\n",
    "val_data = test_val_data[~msk]\n",
    "val_labels = test_val_labels[~msk]"
   ]
  },
  {
   "cell_type": "code",
   "execution_count": null,
   "metadata": {},
   "outputs": [],
   "source": []
  },
  {
   "cell_type": "code",
   "execution_count": 72,
   "metadata": {},
   "outputs": [
    {
     "name": "stdout",
     "output_type": "stream",
     "text": [
      "(58203, 23, 4)\n",
      "(7337, 23, 4)\n",
      "(7323, 23, 4)\n"
     ]
    }
   ],
   "source": [
    "print(train_data.shape)\n",
    "print(test_data.shape)\n",
    "print(val_data.shape)"
   ]
  },
  {
   "cell_type": "code",
   "execution_count": 26,
   "metadata": {},
   "outputs": [],
   "source": [
    "# for with gene\n",
    "pickle.dump(train_data, open(\"../train_data.p\", \"wb\"))\n",
    "pickle.dump(train_labels, open(\"../train_labels.p\", \"wb\"))\n",
    "\n",
    "pickle.dump(test_data, open(\"../test_data.p\", \"wb\"))\n",
    "pickle.dump(test_labels, open(\"../test_labels.p\", \"wb\"))\n",
    "\n",
    "pickle.dump(val_data, open(\"../val_data.p\", \"wb\"))\n",
    "pickle.dump(val_labels, open(\"../val_labels.p\", \"wb\"))"
   ]
  },
  {
   "cell_type": "code",
   "execution_count": 73,
   "metadata": {},
   "outputs": [],
   "source": [
    "# for classification without gene\n",
    "pickle.dump(train_data, open(\"../train_data2.p\", \"wb\"))\n",
    "pickle.dump(train_labels, open(\"../train_labels2.p\", \"wb\"))\n",
    "\n",
    "pickle.dump(test_data, open(\"../test_data2.p\", \"wb\"))\n",
    "pickle.dump(test_labels, open(\"../test_labels2.p\", \"wb\"))\n",
    "\n",
    "pickle.dump(val_data, open(\"../val_data2.p\", \"wb\"))\n",
    "pickle.dump(val_labels, open(\"../val_labels2.p\", \"wb\"))"
   ]
  },
  {
   "cell_type": "code",
   "execution_count": null,
   "metadata": {},
   "outputs": [],
   "source": []
  }
 ],
 "metadata": {
  "kernelspec": {
   "display_name": "Python 2",
   "language": "python",
   "name": "python2"
  },
  "language_info": {
   "codemirror_mode": {
    "name": "ipython",
    "version": 2
   },
   "file_extension": ".py",
   "mimetype": "text/x-python",
   "name": "python",
   "nbconvert_exporter": "python",
   "pygments_lexer": "ipython2",
   "version": "2.7.12"
  }
 },
 "nbformat": 4,
 "nbformat_minor": 2
}
