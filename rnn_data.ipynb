{
 "cells": [
  {
   "cell_type": "code",
   "execution_count": 1,
   "metadata": {},
   "outputs": [
    {
     "name": "stdout",
     "output_type": "stream",
     "text": [
      "WARNING:tensorflow:From /usr/local/lib/python2.7/dist-packages/tensorflow/contrib/learn/python/learn/datasets/base.py:198: retry (from tensorflow.contrib.learn.python.learn.datasets.base) is deprecated and will be removed in a future version.\n",
      "Instructions for updating:\n",
      "Use the retry module or similar alternatives.\n"
     ]
    }
   ],
   "source": [
    "import tensorflow as tf\n",
    "from tensorflow.contrib import rnn\n",
    "import numpy as np\n",
    "import pandas as pd"
   ]
  },
  {
   "cell_type": "code",
   "execution_count": 2,
   "metadata": {},
   "outputs": [],
   "source": [
    "# import data and one_hot encode"
   ]
  },
  {
   "cell_type": "code",
   "execution_count": 49,
   "metadata": {},
   "outputs": [],
   "source": [
    "# Training Parameters\n",
    "learning_rate = 0.001 # optimize this\n",
    "training_steps = 10000\n",
    "batch_size = 10 # 128\n",
    "display_step = 200"
   ]
  },
  {
   "cell_type": "code",
   "execution_count": 4,
   "metadata": {},
   "outputs": [],
   "source": [
    "# Network Parameters\n",
    "num_input = 5\n",
    "    # 28 # MNIST data input (img shape: 28*28)\n",
    "timesteps = 23\n",
    "    # 28 # timesteps\n",
    "num_hidden = 1 # ?\n",
    "    # 128 # hidden layer num of features\n",
    "num_classes = 2 # figure out how to do regression\n",
    "    # 10 # MNIST total classes (0-9 digits)"
   ]
  },
  {
   "cell_type": "code",
   "execution_count": 5,
   "metadata": {},
   "outputs": [],
   "source": [
    "# tf Graph input\n",
    "X = tf.placeholder(\"float\", [None, timesteps, num_input])\n",
    "Y = tf.placeholder(\"float\", [None, num_classes])"
   ]
  },
  {
   "cell_type": "code",
   "execution_count": 6,
   "metadata": {},
   "outputs": [],
   "source": [
    "# Define weights\n",
    "weights = {\n",
    "    # Hidden layer weights => 2*n_hidden because of forward + backward cells\n",
    "    'out': tf.Variable(tf.random_normal([2*num_hidden, num_classes]))\n",
    "}\n",
    "biases = {\n",
    "    'out': tf.Variable(tf.random_normal([num_classes]))\n",
    "}"
   ]
  },
  {
   "cell_type": "code",
   "execution_count": 50,
   "metadata": {},
   "outputs": [],
   "source": [
    "def BiRNN(x, weights, biases):\n",
    "\n",
    "    # Prepare data shape to match `rnn` function requirements\n",
    "    # Current data input shape: (batch_size, timesteps, n_input)\n",
    "    # Required shape: 'timesteps' tensors list of shape (batch_size, num_input)\n",
    "\n",
    "    # Unstack to get a list of 'timesteps' tensors of shape (batch_size, num_input)\n",
    "    x = tf.unstack(x, timesteps, 1)\n",
    "\n",
    "    # Define lstm cells with tensorflow\n",
    "    # Forward direction cell\n",
    "    lstm_fw_cell = rnn.BasicLSTMCell(num_hidden, forget_bias=1.0)\n",
    "    # Backward direction cell\n",
    "    lstm_bw_cell = rnn.BasicLSTMCell(num_hidden, forget_bias=1.0)\n",
    "\n",
    "    # Get lstm cell output\n",
    "    try:\n",
    "        outputs, _, _ = rnn.static_bidirectional_rnn(lstm_fw_cell, lstm_bw_cell, x,\n",
    "                                              dtype=tf.float32)\n",
    "    except Exception: # Old TensorFlow version only returns outputs not states\n",
    "        outputs = rnn.static_bidirectional_rnn(lstm_fw_cell, lstm_bw_cell, x,\n",
    "                                        dtype=tf.float32)\n",
    "\n",
    "    # Linear activation, using rnn inner loop last output\n",
    "    return tf.matmul(outputs[-1], weights['out']) + biases['out']"
   ]
  },
  {
   "cell_type": "code",
   "execution_count": null,
   "metadata": {},
   "outputs": [],
   "source": []
  },
  {
   "cell_type": "code",
   "execution_count": 8,
   "metadata": {},
   "outputs": [
    {
     "name": "stdout",
     "output_type": "stream",
     "text": [
      "WARNING:tensorflow:From <ipython-input-8-a71fc729ee71>:6: softmax_cross_entropy_with_logits (from tensorflow.python.ops.nn_ops) is deprecated and will be removed in a future version.\n",
      "Instructions for updating:\n",
      "\n",
      "Future major versions of TensorFlow will allow gradients to flow\n",
      "into the labels input on backprop by default.\n",
      "\n",
      "See tf.nn.softmax_cross_entropy_with_logits_v2.\n",
      "\n"
     ]
    }
   ],
   "source": [
    "logits = BiRNN(X, weights, biases)\n",
    "prediction = tf.nn.softmax(logits)\n",
    "\n",
    "# Define loss and optimizer\n",
    "loss_op = tf.reduce_mean(tf.nn.softmax_cross_entropy_with_logits(\n",
    "    logits=logits, labels=Y))\n",
    "# optimizer = tf.train.GradientDescentOptimizer(learning_rate=learning_rate)\n",
    "optimizer = tf.train.AdamOptimizer(learning_rate=learning_rate)\n",
    "    # switch to adam optimizer\n",
    "train_op = optimizer.minimize(loss_op)\n",
    "\n",
    "# Evaluate model (with test logits, for dropout to be disabled)\n",
    "correct_pred = tf.equal(tf.argmax(prediction, 1), tf.argmax(Y, 1))\n",
    "accuracy = tf.reduce_mean(tf.cast(correct_pred, tf.float32))\n",
    "\n",
    "# Initialize the variables (i.e. assign their default value)\n",
    "init = tf.global_variables_initializer()"
   ]
  },
  {
   "cell_type": "code",
   "execution_count": 9,
   "metadata": {},
   "outputs": [
    {
     "name": "stderr",
     "output_type": "stream",
     "text": [
      "/usr/local/lib/python2.7/dist-packages/IPython/core/interactiveshell.py:2714: DtypeWarning: Columns (2,5) have mixed types. Specify dtype option on import or set low_memory=False.\n",
      "  interactivity=interactivity, compiler=compiler, result=result)\n"
     ]
    }
   ],
   "source": [
    "# read in full data\n",
    "data= pd.read_csv('../GenomeCRISPR_full05112017.csv')\n",
    "\n",
    "# read in sample data\n",
    "#data= pd.read_csv('../GenomeCRISPR_full05112017_small.csv')"
   ]
  },
  {
   "cell_type": "code",
   "execution_count": 10,
   "metadata": {},
   "outputs": [],
   "source": [
    "#should filter only to our pubmed 29083409\n",
    "toppub_all_data = data[data['pubmed'] ==29083409]"
   ]
  },
  {
   "cell_type": "code",
   "execution_count": 11,
   "metadata": {},
   "outputs": [],
   "source": [
    "# groupby celline and sequence\n",
    "toppub_grouped = toppub_all_data.groupby(['sequence','symbol']).median()['effect'].reset_index()"
   ]
  },
  {
   "cell_type": "code",
   "execution_count": null,
   "metadata": {},
   "outputs": [],
   "source": []
  },
  {
   "cell_type": "code",
   "execution_count": null,
   "metadata": {},
   "outputs": [],
   "source": []
  },
  {
   "cell_type": "code",
   "execution_count": 12,
   "metadata": {},
   "outputs": [],
   "source": [
    "# groupby sequence to get unique seqs\n",
    "groupby_seq = toppub_grouped.groupby(['sequence']).count().reset_index()\n",
    "groupby_gene = toppub_grouped.groupby(['symbol']).count().reset_index()"
   ]
  },
  {
   "cell_type": "code",
   "execution_count": 13,
   "metadata": {},
   "outputs": [],
   "source": [
    "# keeping only sequence column\n",
    "unique_seq_toppub = groupby_seq['sequence']\n",
    "groupby_gene = groupby_gene['symbol']"
   ]
  },
  {
   "cell_type": "code",
   "execution_count": 14,
   "metadata": {},
   "outputs": [],
   "source": [
    "# one_hot function\n",
    "\n",
    "e_dict = {'A':[1,0,0,0], 'C':[0,1,0,0], 'G':[0,0,1,0], 'T':[0,0,0,1]}\n",
    "\n",
    "def one_hot(x):\n",
    "    return e_dict[x]"
   ]
  },
  {
   "cell_type": "code",
   "execution_count": 15,
   "metadata": {},
   "outputs": [
    {
     "data": {
      "text/plain": [
       "0    AAAAAAATCCAGCAATGCAGAGG\n",
       "1    AAAAAACCCGTAGATAGCCTCGG\n",
       "2    AAAAAAGAAGAAAAAACCAGAGG\n",
       "3    AAAAAAGCTCAAGAAGGAGGCGG\n",
       "4    AAAAAAGGCTGTAAAAGCGTGGG\n",
       "Name: sequence, dtype: object"
      ]
     },
     "execution_count": 15,
     "metadata": {},
     "output_type": "execute_result"
    }
   ],
   "source": [
    "unique_seq_toppub.head()"
   ]
  },
  {
   "cell_type": "code",
   "execution_count": 16,
   "metadata": {},
   "outputs": [],
   "source": [
    "# onehot encode the unique seqs\n",
    "one_hot_un_seq = unique_seq_toppub.apply(lambda x: map(one_hot, x))"
   ]
  },
  {
   "cell_type": "code",
   "execution_count": 17,
   "metadata": {},
   "outputs": [],
   "source": [
    "x = one_hot_un_seq"
   ]
  },
  {
   "cell_type": "code",
   "execution_count": 18,
   "metadata": {},
   "outputs": [],
   "source": [
    "# reset indices\n",
    "unique_seq_toppub = unique_seq_toppub.reset_index()\n",
    "one_hot_un_seq = one_hot_un_seq.reset_index()\n",
    "groupby_gene = groupby_gene.reset_index()"
   ]
  },
  {
   "cell_type": "code",
   "execution_count": 19,
   "metadata": {},
   "outputs": [],
   "source": [
    "# append onehot to seqs\n",
    "unique_seq_toppub['one_hot'] = one_hot_un_seq['sequence']"
   ]
  },
  {
   "cell_type": "code",
   "execution_count": 20,
   "metadata": {},
   "outputs": [
    {
     "data": {
      "text/html": [
       "<div>\n",
       "<style scoped>\n",
       "    .dataframe tbody tr th:only-of-type {\n",
       "        vertical-align: middle;\n",
       "    }\n",
       "\n",
       "    .dataframe tbody tr th {\n",
       "        vertical-align: top;\n",
       "    }\n",
       "\n",
       "    .dataframe thead th {\n",
       "        text-align: right;\n",
       "    }\n",
       "</style>\n",
       "<table border=\"1\" class=\"dataframe\">\n",
       "  <thead>\n",
       "    <tr style=\"text-align: right;\">\n",
       "      <th></th>\n",
       "      <th>index</th>\n",
       "      <th>sequence</th>\n",
       "      <th>one_hot</th>\n",
       "    </tr>\n",
       "  </thead>\n",
       "  <tbody>\n",
       "    <tr>\n",
       "      <th>0</th>\n",
       "      <td>0</td>\n",
       "      <td>AAAAAAATCCAGCAATGCAGAGG</td>\n",
       "      <td>[[1, 0, 0, 0], [1, 0, 0, 0], [1, 0, 0, 0], [1,...</td>\n",
       "    </tr>\n",
       "    <tr>\n",
       "      <th>1</th>\n",
       "      <td>1</td>\n",
       "      <td>AAAAAACCCGTAGATAGCCTCGG</td>\n",
       "      <td>[[1, 0, 0, 0], [1, 0, 0, 0], [1, 0, 0, 0], [1,...</td>\n",
       "    </tr>\n",
       "    <tr>\n",
       "      <th>2</th>\n",
       "      <td>2</td>\n",
       "      <td>AAAAAAGAAGAAAAAACCAGAGG</td>\n",
       "      <td>[[1, 0, 0, 0], [1, 0, 0, 0], [1, 0, 0, 0], [1,...</td>\n",
       "    </tr>\n",
       "    <tr>\n",
       "      <th>3</th>\n",
       "      <td>3</td>\n",
       "      <td>AAAAAAGCTCAAGAAGGAGGCGG</td>\n",
       "      <td>[[1, 0, 0, 0], [1, 0, 0, 0], [1, 0, 0, 0], [1,...</td>\n",
       "    </tr>\n",
       "    <tr>\n",
       "      <th>4</th>\n",
       "      <td>4</td>\n",
       "      <td>AAAAAAGGCTGTAAAAGCGTGGG</td>\n",
       "      <td>[[1, 0, 0, 0], [1, 0, 0, 0], [1, 0, 0, 0], [1,...</td>\n",
       "    </tr>\n",
       "  </tbody>\n",
       "</table>\n",
       "</div>"
      ],
      "text/plain": [
       "   index                 sequence  \\\n",
       "0      0  AAAAAAATCCAGCAATGCAGAGG   \n",
       "1      1  AAAAAACCCGTAGATAGCCTCGG   \n",
       "2      2  AAAAAAGAAGAAAAAACCAGAGG   \n",
       "3      3  AAAAAAGCTCAAGAAGGAGGCGG   \n",
       "4      4  AAAAAAGGCTGTAAAAGCGTGGG   \n",
       "\n",
       "                                             one_hot  \n",
       "0  [[1, 0, 0, 0], [1, 0, 0, 0], [1, 0, 0, 0], [1,...  \n",
       "1  [[1, 0, 0, 0], [1, 0, 0, 0], [1, 0, 0, 0], [1,...  \n",
       "2  [[1, 0, 0, 0], [1, 0, 0, 0], [1, 0, 0, 0], [1,...  \n",
       "3  [[1, 0, 0, 0], [1, 0, 0, 0], [1, 0, 0, 0], [1,...  \n",
       "4  [[1, 0, 0, 0], [1, 0, 0, 0], [1, 0, 0, 0], [1,...  "
      ]
     },
     "execution_count": 20,
     "metadata": {},
     "output_type": "execute_result"
    }
   ],
   "source": [
    "unique_seq_toppub.head()"
   ]
  },
  {
   "cell_type": "code",
   "execution_count": 21,
   "metadata": {},
   "outputs": [],
   "source": [
    "# merge one hot encoding to data\n",
    "toppub_one_hot = toppub_grouped.merge(unique_seq_toppub,left_on=\"sequence\",right_on=\"sequence\", how=\"left\")"
   ]
  },
  {
   "cell_type": "code",
   "execution_count": 22,
   "metadata": {},
   "outputs": [],
   "source": [
    "# merge gene encoding to data\n",
    "toppub_one_hot = toppub_one_hot.merge(groupby_gene,left_on=\"symbol\",right_on=\"symbol\", how=\"left\")"
   ]
  },
  {
   "cell_type": "code",
   "execution_count": 23,
   "metadata": {},
   "outputs": [
    {
     "data": {
      "text/html": [
       "<div>\n",
       "<style scoped>\n",
       "    .dataframe tbody tr th:only-of-type {\n",
       "        vertical-align: middle;\n",
       "    }\n",
       "\n",
       "    .dataframe tbody tr th {\n",
       "        vertical-align: top;\n",
       "    }\n",
       "\n",
       "    .dataframe thead th {\n",
       "        text-align: right;\n",
       "    }\n",
       "</style>\n",
       "<table border=\"1\" class=\"dataframe\">\n",
       "  <thead>\n",
       "    <tr style=\"text-align: right;\">\n",
       "      <th></th>\n",
       "      <th>sequence</th>\n",
       "      <th>symbol</th>\n",
       "      <th>effect</th>\n",
       "      <th>index_x</th>\n",
       "      <th>one_hot</th>\n",
       "      <th>index_y</th>\n",
       "    </tr>\n",
       "  </thead>\n",
       "  <tbody>\n",
       "    <tr>\n",
       "      <th>0</th>\n",
       "      <td>AAAAAAATCCAGCAATGCAGAGG</td>\n",
       "      <td>SHOC2</td>\n",
       "      <td>-1.0</td>\n",
       "      <td>0</td>\n",
       "      <td>[[1, 0, 0, 0], [1, 0, 0, 0], [1, 0, 0, 0], [1,...</td>\n",
       "      <td>14001</td>\n",
       "    </tr>\n",
       "    <tr>\n",
       "      <th>1</th>\n",
       "      <td>AAAAAACCCGTAGATAGCCTCGG</td>\n",
       "      <td>NDUFA12</td>\n",
       "      <td>-1.0</td>\n",
       "      <td>1</td>\n",
       "      <td>[[1, 0, 0, 0], [1, 0, 0, 0], [1, 0, 0, 0], [1,...</td>\n",
       "      <td>9936</td>\n",
       "    </tr>\n",
       "    <tr>\n",
       "      <th>2</th>\n",
       "      <td>AAAAAAGAAGAAAAAACCAGAGG</td>\n",
       "      <td>SDAD1</td>\n",
       "      <td>-5.0</td>\n",
       "      <td>2</td>\n",
       "      <td>[[1, 0, 0, 0], [1, 0, 0, 0], [1, 0, 0, 0], [1,...</td>\n",
       "      <td>13701</td>\n",
       "    </tr>\n",
       "    <tr>\n",
       "      <th>3</th>\n",
       "      <td>AAAAAAGCTCAAGAAGGAGGCGG</td>\n",
       "      <td>FAM98A</td>\n",
       "      <td>1.0</td>\n",
       "      <td>3</td>\n",
       "      <td>[[1, 0, 0, 0], [1, 0, 0, 0], [1, 0, 0, 0], [1,...</td>\n",
       "      <td>5316</td>\n",
       "    </tr>\n",
       "    <tr>\n",
       "      <th>4</th>\n",
       "      <td>AAAAAAGGCTGTAAAAGCGTGGG</td>\n",
       "      <td>ZNF253</td>\n",
       "      <td>-3.0</td>\n",
       "      <td>4</td>\n",
       "      <td>[[1, 0, 0, 0], [1, 0, 0, 0], [1, 0, 0, 0], [1,...</td>\n",
       "      <td>17743</td>\n",
       "    </tr>\n",
       "  </tbody>\n",
       "</table>\n",
       "</div>"
      ],
      "text/plain": [
       "                  sequence   symbol  effect  index_x  \\\n",
       "0  AAAAAAATCCAGCAATGCAGAGG    SHOC2    -1.0        0   \n",
       "1  AAAAAACCCGTAGATAGCCTCGG  NDUFA12    -1.0        1   \n",
       "2  AAAAAAGAAGAAAAAACCAGAGG    SDAD1    -5.0        2   \n",
       "3  AAAAAAGCTCAAGAAGGAGGCGG   FAM98A     1.0        3   \n",
       "4  AAAAAAGGCTGTAAAAGCGTGGG   ZNF253    -3.0        4   \n",
       "\n",
       "                                             one_hot  index_y  \n",
       "0  [[1, 0, 0, 0], [1, 0, 0, 0], [1, 0, 0, 0], [1,...    14001  \n",
       "1  [[1, 0, 0, 0], [1, 0, 0, 0], [1, 0, 0, 0], [1,...     9936  \n",
       "2  [[1, 0, 0, 0], [1, 0, 0, 0], [1, 0, 0, 0], [1,...    13701  \n",
       "3  [[1, 0, 0, 0], [1, 0, 0, 0], [1, 0, 0, 0], [1,...     5316  \n",
       "4  [[1, 0, 0, 0], [1, 0, 0, 0], [1, 0, 0, 0], [1,...    17743  "
      ]
     },
     "execution_count": 23,
     "metadata": {},
     "output_type": "execute_result"
    }
   ],
   "source": [
    "toppub_one_hot.head()"
   ]
  },
  {
   "cell_type": "code",
   "execution_count": null,
   "metadata": {},
   "outputs": [],
   "source": []
  },
  {
   "cell_type": "code",
   "execution_count": null,
   "metadata": {},
   "outputs": [],
   "source": []
  },
  {
   "cell_type": "code",
   "execution_count": 24,
   "metadata": {},
   "outputs": [],
   "source": [
    "# create empty numpy matrix for storing one hot features\n",
    "features = np.ndarray(shape=(toppub_one_hot.shape[0],23,5), dtype=int)"
   ]
  },
  {
   "cell_type": "code",
   "execution_count": 25,
   "metadata": {},
   "outputs": [],
   "source": [
    "# append gene to each one hot nucleotide\n",
    "for i in range(toppub_one_hot.shape[0]):\n",
    "    for j in range(len(toppub_one_hot['one_hot'][i])):\n",
    "        features[i][j] = toppub_one_hot['one_hot'][i][j] + [toppub_one_hot['index_y'][i]]"
   ]
  },
  {
   "cell_type": "code",
   "execution_count": 42,
   "metadata": {},
   "outputs": [],
   "source": [
    "def convert_labels(y):\n",
    "    if y > 3:\n",
    "        return 1\n",
    "    else:\n",
    "        return 0"
   ]
  },
  {
   "cell_type": "code",
   "execution_count": 43,
   "metadata": {},
   "outputs": [],
   "source": [
    "# construct labels matrix\n",
    "labels = toppub_one_hot['effect']\n",
    "labels = np.array(list(map(lambda x: convert_labels(x), labels)))\n",
    "labels = np.eye(num_classes)[labels]"
   ]
  },
  {
   "cell_type": "code",
   "execution_count": 45,
   "metadata": {},
   "outputs": [
    {
     "data": {
      "text/plain": [
       "array([54383., 18480.])"
      ]
     },
     "execution_count": 45,
     "metadata": {},
     "output_type": "execute_result"
    }
   ],
   "source": []
  },
  {
   "cell_type": "code",
   "execution_count": null,
   "metadata": {},
   "outputs": [],
   "source": []
  },
  {
   "cell_type": "code",
   "execution_count": null,
   "metadata": {},
   "outputs": [],
   "source": []
  },
  {
   "cell_type": "code",
   "execution_count": 46,
   "metadata": {},
   "outputs": [],
   "source": [
    "# split into training and testing\n",
    "msk = np.random.rand(len(features)) < 0.8\n",
    "\n",
    "train_data = features[msk]\n",
    "train_labels = labels[msk]\n",
    "\n",
    "test_data = features[~msk]\n",
    "test_labels = labels[~msk]"
   ]
  },
  {
   "cell_type": "code",
   "execution_count": null,
   "metadata": {},
   "outputs": [],
   "source": []
  },
  {
   "cell_type": "code",
   "execution_count": 47,
   "metadata": {},
   "outputs": [],
   "source": [
    "def get_train_data(batch_size, x, y):\n",
    "    i = np.random.randint(0,x.shape[0], size=(batch_size))\n",
    "    return np.array(x[i]), np.array(y[i])"
   ]
  },
  {
   "cell_type": "code",
   "execution_count": 32,
   "metadata": {},
   "outputs": [],
   "source": []
  },
  {
   "cell_type": "code",
   "execution_count": null,
   "metadata": {},
   "outputs": [],
   "source": []
  },
  {
   "cell_type": "code",
   "execution_count": 51,
   "metadata": {},
   "outputs": [
    {
     "name": "stdout",
     "output_type": "stream",
     "text": [
      "Step 1, Minibatch Loss= 1.1450, Training Accuracy= 0.500\n",
      "Step 200, Minibatch Loss= 0.5053, Training Accuracy= 0.800\n",
      "Step 400, Minibatch Loss= 0.5006, Training Accuracy= 0.800\n",
      "Step 600, Minibatch Loss= 0.6215, Training Accuracy= 0.700\n",
      "Step 800, Minibatch Loss= 0.5058, Training Accuracy= 0.800\n",
      "Step 1000, Minibatch Loss= 0.7243, Training Accuracy= 0.600\n",
      "Step 1200, Minibatch Loss= 0.6187, Training Accuracy= 0.700\n",
      "Step 1400, Minibatch Loss= 0.7266, Training Accuracy= 0.600\n",
      "Step 1600, Minibatch Loss= 0.6145, Training Accuracy= 0.700\n",
      "Step 1800, Minibatch Loss= 0.6155, Training Accuracy= 0.700\n",
      "Step 2000, Minibatch Loss= 0.5077, Training Accuracy= 0.800\n",
      "Step 2200, Minibatch Loss= 0.3973, Training Accuracy= 0.900\n",
      "Step 2400, Minibatch Loss= 0.2878, Training Accuracy= 1.000\n",
      "Step 2600, Minibatch Loss= 0.5045, Training Accuracy= 0.800\n",
      "Step 2800, Minibatch Loss= 0.7282, Training Accuracy= 0.600\n",
      "Step 3000, Minibatch Loss= 0.5093, Training Accuracy= 0.800\n",
      "Step 3200, Minibatch Loss= 0.6146, Training Accuracy= 0.700\n",
      "Step 3400, Minibatch Loss= 0.4001, Training Accuracy= 0.900\n",
      "Step 3600, Minibatch Loss= 0.6168, Training Accuracy= 0.700\n",
      "Step 3800, Minibatch Loss= 0.5073, Training Accuracy= 0.800\n",
      "Step 4000, Minibatch Loss= 0.5083, Training Accuracy= 0.800\n",
      "Step 4200, Minibatch Loss= 0.9229, Training Accuracy= 0.400\n",
      "Step 4400, Minibatch Loss= 0.6166, Training Accuracy= 0.700\n",
      "Step 4600, Minibatch Loss= 0.4010, Training Accuracy= 0.900\n",
      "Step 4800, Minibatch Loss= 0.9439, Training Accuracy= 0.400\n",
      "Step 5000, Minibatch Loss= 0.7219, Training Accuracy= 0.600\n",
      "Step 5200, Minibatch Loss= 0.5125, Training Accuracy= 0.800\n",
      "Step 5400, Minibatch Loss= 0.4051, Training Accuracy= 0.900\n",
      "Step 5600, Minibatch Loss= 0.5077, Training Accuracy= 0.800\n",
      "Step 5800, Minibatch Loss= 0.7323, Training Accuracy= 0.600\n",
      "Step 6000, Minibatch Loss= 0.7310, Training Accuracy= 0.600\n",
      "Step 6200, Minibatch Loss= 0.8329, Training Accuracy= 0.500\n",
      "Step 6400, Minibatch Loss= 0.6203, Training Accuracy= 0.700\n",
      "Step 6600, Minibatch Loss= 0.3885, Training Accuracy= 0.900\n",
      "Step 6800, Minibatch Loss= 0.5050, Training Accuracy= 0.800\n",
      "Step 7000, Minibatch Loss= 0.6609, Training Accuracy= 0.600\n",
      "Step 7200, Minibatch Loss= 0.5067, Training Accuracy= 0.800\n",
      "Step 7400, Minibatch Loss= 0.7257, Training Accuracy= 0.600\n",
      "Step 7600, Minibatch Loss= 0.6166, Training Accuracy= 0.700\n",
      "Step 7800, Minibatch Loss= 0.4059, Training Accuracy= 0.900\n",
      "Step 8000, Minibatch Loss= 0.5085, Training Accuracy= 0.800\n",
      "Step 8200, Minibatch Loss= 0.7183, Training Accuracy= 0.600\n",
      "Step 8400, Minibatch Loss= 0.8208, Training Accuracy= 0.500\n",
      "Step 8600, Minibatch Loss= 0.7197, Training Accuracy= 0.600\n",
      "Step 8800, Minibatch Loss= 0.7217, Training Accuracy= 0.600\n",
      "Step 9000, Minibatch Loss= 0.8274, Training Accuracy= 0.500\n",
      "Step 9200, Minibatch Loss= 0.7207, Training Accuracy= 0.600\n",
      "Step 9400, Minibatch Loss= 0.7244, Training Accuracy= 0.600\n",
      "Step 9600, Minibatch Loss= 0.6164, Training Accuracy= 0.700\n",
      "Step 9800, Minibatch Loss= 0.2935, Training Accuracy= 1.000\n",
      "Step 10000, Minibatch Loss= 0.4905, Training Accuracy= 0.800\n",
      "Optimization Finished!\n"
     ]
    }
   ],
   "source": [
    "x, y = train_data, train_labels\n",
    "# Start training\n",
    "with tf.Session() as sess:\n",
    "\n",
    "    # Run the initializer\n",
    "    sess.run(init)\n",
    "\n",
    "    for step in range(1, training_steps+1):\n",
    "        batch_x, batch_y = get_train_data(batch_size, x,y)\n",
    "        # Reshape data to get 28 seq of 28 elements\n",
    "#         batch_x = batch_x.reshape((batch_size, timesteps, num_input))\n",
    "        \n",
    "        batch_x = batch_x.reshape((batch_size, timesteps, num_input))\n",
    "        batch_y = batch_y.reshape((batch_size, num_classes))\n",
    "        \n",
    "        # Run optimization op (backprop)\n",
    "        sess.run(train_op, feed_dict={X: batch_x, Y: batch_y})\n",
    "        if step % display_step == 0 or step == 1:\n",
    "            # Calculate batch loss and accuracy\n",
    "            loss, acc = sess.run([loss_op, accuracy], feed_dict={X: batch_x,\n",
    "                                                                 Y: batch_y})\n",
    "            print(\"Step \" + str(step) + \", Minibatch Loss= \" + \\\n",
    "                  \"{:.4f}\".format(loss) + \", Training Accuracy= \" + \\\n",
    "                  \"{:.3f}\".format(acc))\n",
    "\n",
    "    print(\"Optimization Finished!\")\n",
    "\n",
    "    # Calculate accuracy for 128 mnist test images\n",
    "#     test_len = 128\n",
    "#     test_data = mnist.test.images[:test_len].reshape((-1, timesteps, num_input))\n",
    "#     test_label = mnist.test.labels[:test_len]\n",
    "#     print(\"Testing Accuracy:\", \\\n",
    "#         sess.run(accuracy, feed_dict={X: test_data, Y: test_label}))"
   ]
  },
  {
   "cell_type": "code",
   "execution_count": 52,
   "metadata": {},
   "outputs": [
    {
     "data": {
      "text/plain": [
       "array([54383., 18480.])"
      ]
     },
     "execution_count": 52,
     "metadata": {},
     "output_type": "execute_result"
    }
   ],
   "source": [
    "sum(labels)"
   ]
  },
  {
   "cell_type": "code",
   "execution_count": null,
   "metadata": {},
   "outputs": [],
   "source": []
  },
  {
   "cell_type": "code",
   "execution_count": null,
   "metadata": {},
   "outputs": [],
   "source": []
  },
  {
   "cell_type": "code",
   "execution_count": null,
   "metadata": {},
   "outputs": [],
   "source": []
  }
 ],
 "metadata": {
  "kernelspec": {
   "display_name": "Python 2",
   "language": "python",
   "name": "python2"
  },
  "language_info": {
   "codemirror_mode": {
    "name": "ipython",
    "version": 2
   },
   "file_extension": ".py",
   "mimetype": "text/x-python",
   "name": "python",
   "nbconvert_exporter": "python",
   "pygments_lexer": "ipython2",
   "version": "2.7.12"
  }
 },
 "nbformat": 4,
 "nbformat_minor": 2
}
